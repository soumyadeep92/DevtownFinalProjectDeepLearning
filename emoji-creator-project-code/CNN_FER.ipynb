{
  "cells": [
    {
      "cell_type": "markdown",
      "source": [
        "## Emojify using Convolution Neural Networks"
      ],
      "metadata": {
        "id": "xz1C0ugElK_J"
      }
    },
    {
      "cell_type": "markdown",
      "source": [
        "## 1. Importing the libraries"
      ],
      "metadata": {
        "id": "mHeMPuXelUOI"
      }
    },
    {
      "cell_type": "code",
      "execution_count": null,
      "metadata": {
        "id": "2b8e2eTMb4gJ"
      },
      "outputs": [],
      "source": [
        "import numpy as np\n",
        "import cv2\n",
        "import tensorflow as tf\n",
        "from tensorflow.keras.models import Sequential\n",
        "from tensorflow.keras.layers import Dense, Dropout, Flatten, BatchNormalization, Activation\n",
        "from tensorflow.keras.layers import Conv2D\n",
        "from tensorflow.keras.optimizers import Adam\n",
        "from tensorflow.keras.layers import MaxPooling2D\n",
        "from keras.preprocessing.image import ImageDataGenerator\n",
        "import matplotlib.pyplot as plt\n",
        "import warnings\n",
        "warnings.filterwarnings(\"ignore\")"
      ]
    },
    {
      "cell_type": "markdown",
      "source": [
        "## 2. Importing the datasets"
      ],
      "metadata": {
        "id": "tlZjRW-UlXb3"
      }
    },
    {
      "cell_type": "code",
      "execution_count": null,
      "metadata": {
        "id": "RlmZRxeQ1HI8"
      },
      "outputs": [],
      "source": [
        "from zipfile import ZipFile\n",
        "with ZipFile('/content/data.zip','r') as obj:\n",
        "  obj.extractall('/content/')"
      ]
    },
    {
      "cell_type": "code",
      "execution_count": null,
      "metadata": {
        "id": "3RjEPo6ig0Qg"
      },
      "outputs": [],
      "source": [
        "train_dir = 'data/train'\n",
        "val_dir = 'data/test'\n",
        "train_datagen = ImageDataGenerator(rescale=1./255)\n",
        "val_datagen = ImageDataGenerator(rescale=1./255)"
      ]
    },
    {
      "cell_type": "markdown",
      "source": [
        "## 3. Reading the images from the Facial Emotion Recognition dataset"
      ],
      "metadata": {
        "id": "5Dm-5VPylcBA"
      }
    },
    {
      "cell_type": "code",
      "execution_count": null,
      "metadata": {
        "colab": {
          "base_uri": "https://localhost:8080/"
        },
        "id": "u9uLDm8qhKTm",
        "outputId": "53d61ca4-27be-4f1f-87bf-a49d8172df45"
      },
      "outputs": [
        {
          "output_type": "stream",
          "name": "stdout",
          "text": [
            "Found 28709 images belonging to 7 classes.\n",
            "Found 7178 images belonging to 7 classes.\n"
          ]
        }
      ],
      "source": [
        "train_generator = train_datagen.flow_from_directory(\n",
        "        train_dir,\n",
        "        target_size=(48,48),\n",
        "        batch_size=64,\n",
        "        color_mode=\"grayscale\",\n",
        "        class_mode='categorical')\n",
        "\n",
        "validation_generator = val_datagen.flow_from_directory(\n",
        "        val_dir,\n",
        "        target_size=(48,48),\n",
        "        batch_size=64,\n",
        "        color_mode=\"grayscale\",\n",
        "        class_mode='categorical')"
      ]
    },
    {
      "cell_type": "markdown",
      "source": [
        "## 3. Generating the train and validation data"
      ],
      "metadata": {
        "id": "zMaev9Bglk_P"
      }
    },
    {
      "cell_type": "code",
      "execution_count": null,
      "metadata": {
        "colab": {
          "base_uri": "https://localhost:8080/"
        },
        "id": "n5B-UPZVnWhh",
        "outputId": "5fbaaaed-d073-461a-eb1c-55772e66c467"
      },
      "outputs": [
        {
          "output_type": "stream",
          "name": "stdout",
          "text": [
            "Size of training dataset:  449\n",
            "Size of test dataset:  113\n",
            "----------------Each training dataset image contains-----------------\n",
            "1.  449 rows\n",
            "2.  2 columns\n",
            "----------------Each test dataset image contains-----------------\n",
            "1.  113 rows\n",
            "2.  2 columns\n",
            "\n",
            "\n",
            "Sample image contents: \n",
            "--------------------------------------------------------------------\n",
            "[[[[0.28235295]\n",
            "   [0.29803923]\n",
            "   [0.2392157 ]\n",
            "   ...\n",
            "   [0.83921576]\n",
            "   [0.8431373 ]\n",
            "   [0.8470589 ]]\n",
            "\n",
            "  [[0.2627451 ]\n",
            "   [0.2392157 ]\n",
            "   [0.227451  ]\n",
            "   ...\n",
            "   [0.85098046]\n",
            "   [0.854902  ]\n",
            "   [0.8588236 ]]\n",
            "\n",
            "  [[0.25490198]\n",
            "   [0.24313727]\n",
            "   [0.25882354]\n",
            "   ...\n",
            "   [0.85098046]\n",
            "   [0.85098046]\n",
            "   [0.854902  ]]\n",
            "\n",
            "  ...\n",
            "\n",
            "  [[0.15686275]\n",
            "   [0.14901961]\n",
            "   [0.18431373]\n",
            "   ...\n",
            "   [0.7019608 ]\n",
            "   [0.5372549 ]\n",
            "   [0.7607844 ]]\n",
            "\n",
            "  [[0.15686275]\n",
            "   [0.16470589]\n",
            "   [0.19607845]\n",
            "   ...\n",
            "   [0.77647066]\n",
            "   [0.5294118 ]\n",
            "   [0.6901961 ]]\n",
            "\n",
            "  [[0.13333334]\n",
            "   [0.18823531]\n",
            "   [0.20392159]\n",
            "   ...\n",
            "   [0.7803922 ]\n",
            "   [0.64705884]\n",
            "   [0.57254905]]]\n",
            "\n",
            "\n",
            " [[[0.5921569 ]\n",
            "   [0.5764706 ]\n",
            "   [0.5921569 ]\n",
            "   ...\n",
            "   [0.3137255 ]\n",
            "   [0.31764707]\n",
            "   [0.3137255 ]]\n",
            "\n",
            "  [[0.5803922 ]\n",
            "   [0.57254905]\n",
            "   [0.5921569 ]\n",
            "   ...\n",
            "   [0.2509804 ]\n",
            "   [0.27450982]\n",
            "   [0.3647059 ]]\n",
            "\n",
            "  [[0.5686275 ]\n",
            "   [0.57254905]\n",
            "   [0.59607846]\n",
            "   ...\n",
            "   [0.29411766]\n",
            "   [0.32941177]\n",
            "   [0.36078432]]\n",
            "\n",
            "  ...\n",
            "\n",
            "  [[0.94117653]\n",
            "   [0.86666673]\n",
            "   [0.6627451 ]\n",
            "   ...\n",
            "   [0.30588236]\n",
            "   [0.28235295]\n",
            "   [0.29411766]]\n",
            "\n",
            "  [[0.5411765 ]\n",
            "   [0.41176474]\n",
            "   [0.21176472]\n",
            "   ...\n",
            "   [0.46274513]\n",
            "   [0.47450984]\n",
            "   [0.36078432]]\n",
            "\n",
            "  [[0.32156864]\n",
            "   [0.29803923]\n",
            "   [0.28235295]\n",
            "   ...\n",
            "   [0.427451  ]\n",
            "   [0.4666667 ]\n",
            "   [0.48627454]]]\n",
            "\n",
            "\n",
            " [[[0.227451  ]\n",
            "   [0.19607845]\n",
            "   [0.21568629]\n",
            "   ...\n",
            "   [0.21176472]\n",
            "   [0.30980393]\n",
            "   [0.2627451 ]]\n",
            "\n",
            "  [[0.25490198]\n",
            "   [0.19607845]\n",
            "   [0.34901962]\n",
            "   ...\n",
            "   [0.227451  ]\n",
            "   [0.26666668]\n",
            "   [0.2627451 ]]\n",
            "\n",
            "  [[0.21960786]\n",
            "   [0.24313727]\n",
            "   [0.42352945]\n",
            "   ...\n",
            "   [0.2509804 ]\n",
            "   [0.33333334]\n",
            "   [0.29411766]]\n",
            "\n",
            "  ...\n",
            "\n",
            "  [[0.5882353 ]\n",
            "   [0.05882353]\n",
            "   [0.        ]\n",
            "   ...\n",
            "   [0.43137258]\n",
            "   [0.43921572]\n",
            "   [0.43137258]]\n",
            "\n",
            "  [[0.6156863 ]\n",
            "   [0.09411766]\n",
            "   [0.01176471]\n",
            "   ...\n",
            "   [0.44705886]\n",
            "   [0.4901961 ]\n",
            "   [0.4901961 ]]\n",
            "\n",
            "  [[0.6313726 ]\n",
            "   [0.11764707]\n",
            "   [0.        ]\n",
            "   ...\n",
            "   [0.52156866]\n",
            "   [0.53333336]\n",
            "   [0.5294118 ]]]\n",
            "\n",
            "\n",
            " ...\n",
            "\n",
            "\n",
            " [[[0.4431373 ]\n",
            "   [0.43137258]\n",
            "   [0.41960788]\n",
            "   ...\n",
            "   [0.4156863 ]\n",
            "   [0.41960788]\n",
            "   [0.4039216 ]]\n",
            "\n",
            "  [[0.52156866]\n",
            "   [0.6039216 ]\n",
            "   [0.7568628 ]\n",
            "   ...\n",
            "   [0.40000004]\n",
            "   [0.39607847]\n",
            "   [0.40000004]]\n",
            "\n",
            "  [[0.9607844 ]\n",
            "   [1.        ]\n",
            "   [1.        ]\n",
            "   ...\n",
            "   [0.40784317]\n",
            "   [0.38431376]\n",
            "   [0.3921569 ]]\n",
            "\n",
            "  ...\n",
            "\n",
            "  [[0.26666668]\n",
            "   [0.3803922 ]\n",
            "   [0.4039216 ]\n",
            "   ...\n",
            "   [0.2901961 ]\n",
            "   [0.14901961]\n",
            "   [0.14117648]]\n",
            "\n",
            "  [[0.10980393]\n",
            "   [0.16078432]\n",
            "   [0.14901961]\n",
            "   ...\n",
            "   [0.23529413]\n",
            "   [0.18431373]\n",
            "   [0.23529413]]\n",
            "\n",
            "  [[0.21568629]\n",
            "   [0.18039216]\n",
            "   [0.07450981]\n",
            "   ...\n",
            "   [0.18431373]\n",
            "   [0.2784314 ]\n",
            "   [0.3137255 ]]]\n",
            "\n",
            "\n",
            " [[[0.6666667 ]\n",
            "   [0.69411767]\n",
            "   [0.6901961 ]\n",
            "   ...\n",
            "   [0.40000004]\n",
            "   [0.21568629]\n",
            "   [0.06666667]]\n",
            "\n",
            "  [[0.6784314 ]\n",
            "   [0.6862745 ]\n",
            "   [0.6745098 ]\n",
            "   ...\n",
            "   [0.654902  ]\n",
            "   [0.41960788]\n",
            "   [0.19215688]]\n",
            "\n",
            "  [[0.6784314 ]\n",
            "   [0.6901961 ]\n",
            "   [0.7058824 ]\n",
            "   ...\n",
            "   [0.73333335]\n",
            "   [0.6901961 ]\n",
            "   [0.48235297]]\n",
            "\n",
            "  ...\n",
            "\n",
            "  [[0.59607846]\n",
            "   [0.63529414]\n",
            "   [0.6431373 ]\n",
            "   ...\n",
            "   [0.01960784]\n",
            "   [0.22352943]\n",
            "   [0.21176472]]\n",
            "\n",
            "  [[0.5764706 ]\n",
            "   [0.5882353 ]\n",
            "   [0.5882353 ]\n",
            "   ...\n",
            "   [0.03137255]\n",
            "   [0.17254902]\n",
            "   [0.26666668]]\n",
            "\n",
            "  [[0.58431375]\n",
            "   [0.5764706 ]\n",
            "   [0.61960787]\n",
            "   ...\n",
            "   [0.07058824]\n",
            "   [0.25490198]\n",
            "   [0.34509805]]]\n",
            "\n",
            "\n",
            " [[[0.5568628 ]\n",
            "   [0.4431373 ]\n",
            "   [0.25882354]\n",
            "   ...\n",
            "   [0.63529414]\n",
            "   [0.6901961 ]\n",
            "   [0.7137255 ]]\n",
            "\n",
            "  [[0.3803922 ]\n",
            "   [0.24313727]\n",
            "   [0.12156864]\n",
            "   ...\n",
            "   [0.6117647 ]\n",
            "   [0.6666667 ]\n",
            "   [0.70980394]]\n",
            "\n",
            "  [[0.3254902 ]\n",
            "   [0.12156864]\n",
            "   [0.13333334]\n",
            "   ...\n",
            "   [0.5764706 ]\n",
            "   [0.63529414]\n",
            "   [0.6784314 ]]\n",
            "\n",
            "  ...\n",
            "\n",
            "  [[0.1137255 ]\n",
            "   [0.41176474]\n",
            "   [0.854902  ]\n",
            "   ...\n",
            "   [0.28235295]\n",
            "   [0.26666668]\n",
            "   [0.26666668]]\n",
            "\n",
            "  [[0.12941177]\n",
            "   [0.14117648]\n",
            "   [0.50980395]\n",
            "   ...\n",
            "   [0.24705884]\n",
            "   [0.27058825]\n",
            "   [0.30588236]]\n",
            "\n",
            "  [[0.10980393]\n",
            "   [0.18431373]\n",
            "   [0.18431373]\n",
            "   ...\n",
            "   [0.23137257]\n",
            "   [0.26666668]\n",
            "   [0.3137255 ]]]]\n",
            "[[0. 0. 0. 0. 0. 1. 0.]\n",
            " [0. 0. 0. 0. 0. 0. 1.]\n",
            " [0. 0. 0. 0. 1. 0. 0.]\n",
            " [0. 0. 0. 0. 1. 0. 0.]\n",
            " [1. 0. 0. 0. 0. 0. 0.]\n",
            " [0. 0. 0. 0. 0. 1. 0.]\n",
            " [0. 0. 0. 0. 0. 1. 0.]\n",
            " [0. 0. 0. 1. 0. 0. 0.]\n",
            " [0. 0. 0. 1. 0. 0. 0.]\n",
            " [1. 0. 0. 0. 0. 0. 0.]\n",
            " [0. 0. 0. 0. 0. 1. 0.]\n",
            " [0. 0. 0. 0. 1. 0. 0.]\n",
            " [0. 0. 0. 1. 0. 0. 0.]\n",
            " [0. 0. 0. 1. 0. 0. 0.]\n",
            " [0. 0. 0. 0. 1. 0. 0.]\n",
            " [0. 0. 1. 0. 0. 0. 0.]\n",
            " [0. 0. 0. 0. 1. 0. 0.]\n",
            " [1. 0. 0. 0. 0. 0. 0.]\n",
            " [0. 0. 0. 0. 1. 0. 0.]\n",
            " [0. 0. 0. 1. 0. 0. 0.]\n",
            " [0. 0. 1. 0. 0. 0. 0.]\n",
            " [0. 0. 1. 0. 0. 0. 0.]\n",
            " [0. 0. 0. 0. 0. 0. 1.]\n",
            " [0. 0. 0. 0. 1. 0. 0.]\n",
            " [0. 0. 1. 0. 0. 0. 0.]\n",
            " [0. 0. 0. 0. 0. 0. 1.]\n",
            " [0. 0. 0. 1. 0. 0. 0.]\n",
            " [0. 0. 0. 0. 0. 1. 0.]\n",
            " [0. 0. 1. 0. 0. 0. 0.]\n",
            " [0. 0. 0. 0. 1. 0. 0.]\n",
            " [0. 0. 0. 0. 0. 0. 1.]\n",
            " [0. 0. 0. 0. 0. 1. 0.]\n",
            " [0. 0. 0. 0. 0. 1. 0.]\n",
            " [0. 0. 0. 1. 0. 0. 0.]\n",
            " [0. 0. 0. 1. 0. 0. 0.]\n",
            " [0. 0. 0. 0. 0. 1. 0.]\n",
            " [0. 0. 0. 0. 0. 1. 0.]\n",
            " [0. 0. 1. 0. 0. 0. 0.]\n",
            " [0. 0. 0. 1. 0. 0. 0.]\n",
            " [1. 0. 0. 0. 0. 0. 0.]\n",
            " [0. 0. 0. 1. 0. 0. 0.]\n",
            " [1. 0. 0. 0. 0. 0. 0.]\n",
            " [0. 0. 0. 0. 0. 1. 0.]\n",
            " [1. 0. 0. 0. 0. 0. 0.]\n",
            " [0. 0. 1. 0. 0. 0. 0.]\n",
            " [0. 0. 0. 0. 0. 1. 0.]\n",
            " [0. 0. 0. 1. 0. 0. 0.]\n",
            " [0. 0. 0. 0. 1. 0. 0.]\n",
            " [0. 0. 0. 0. 0. 0. 1.]\n",
            " [0. 0. 0. 0. 0. 1. 0.]\n",
            " [0. 0. 0. 1. 0. 0. 0.]\n",
            " [0. 0. 0. 0. 0. 1. 0.]\n",
            " [0. 0. 0. 0. 1. 0. 0.]\n",
            " [0. 0. 1. 0. 0. 0. 0.]\n",
            " [0. 0. 1. 0. 0. 0. 0.]\n",
            " [0. 0. 0. 1. 0. 0. 0.]\n",
            " [0. 0. 1. 0. 0. 0. 0.]\n",
            " [0. 0. 0. 0. 0. 0. 1.]\n",
            " [0. 0. 0. 0. 0. 1. 0.]\n",
            " [1. 0. 0. 0. 0. 0. 0.]\n",
            " [0. 0. 0. 0. 1. 0. 0.]\n",
            " [0. 0. 0. 1. 0. 0. 0.]\n",
            " [0. 0. 0. 1. 0. 0. 0.]\n",
            " [0. 0. 0. 1. 0. 0. 0.]]\n"
          ]
        }
      ],
      "source": [
        "print(\"Size of training dataset: \",len(train_generator))\n",
        "print(\"Size of test dataset: \",len(validation_generator))\n",
        "print(\"----------------Each training dataset image contains-----------------\")\n",
        "print(\"1. \",len(train_generator),\"rows\")\n",
        "print(\"2. \",len(train_generator[0]),\"columns\")\n",
        "print(\"----------------Each test dataset image contains-----------------\")\n",
        "print(\"1. \",len(validation_generator),\"rows\")\n",
        "print(\"2. \",len(validation_generator[0]),\"columns\\n\\n\")\n",
        "print(\"Sample image contents: \")\n",
        "print(\"--------------------------------------------------------------------\")\n",
        "print(train_generator[1][0])\n",
        "print(train_generator[1][1])"
      ]
    },
    {
      "cell_type": "markdown",
      "source": [
        "## 4. Visualizing 7 types of emotion images"
      ],
      "metadata": {
        "id": "_BK5ocEYlsiH"
      }
    },
    {
      "cell_type": "code",
      "execution_count": null,
      "metadata": {
        "colab": {
          "base_uri": "https://localhost:8080/",
          "height": 1000
        },
        "id": "9VqLWH-SnZ9L",
        "outputId": "e5e1bcf1-1bf2-408d-9ff8-8de222ad5ebc"
      },
      "outputs": [
        {
          "output_type": "stream",
          "name": "stdout",
          "text": [
            "The face emotion is:  angry\n"
          ]
        },
        {
          "output_type": "display_data",
          "data": {
            "text/plain": [
              "<Figure size 432x288 with 1 Axes>"
            ],
            "image/png": "[encoded data removed]"
          },
          "metadata": {
            "needs_background": "light"
          }
        },
        {
          "output_type": "stream",
          "name": "stdout",
          "text": [
            "The face emotion is:  disgust\n"
          ]
        },
        {
          "output_type": "display_data",
          "data": {
            "text/plain": [
              "<Figure size 432x288 with 1 Axes>"
            ],
            "image/png": "[encoded data removed]"
          },
          "metadata": {
            "needs_background": "light"
          }
        },
        {
          "output_type": "stream",
          "name": "stdout",
          "text": [
            "The face emotion is:  fear\n"
          ]
        },
        {
          "output_type": "display_data",
          "data": {
            "text/plain": [
              "<Figure size 432x288 with 1 Axes>"
            ],
            "image/png": "[encoded data removed]"
          },
          "metadata": {
            "needs_background": "light"
          }
        },
        {
          "output_type": "stream",
          "name": "stdout",
          "text": [
            "The face emotion is:  happy\n"
          ]
        },
        {
          "output_type": "display_data",
          "data": {
            "text/plain": [
              "<Figure size 432x288 with 1 Axes>"
            ],
            "image/png": "[encoded data removed]"
          },
          "metadata": {
            "needs_background": "light"
          }
        },
        {
          "output_type": "stream",
          "name": "stdout",
          "text": [
            "The face emotion is:  neutral\n"
          ]
        },
        {
          "output_type": "display_data",
          "data": {
            "text/plain": [
              "<Figure size 432x288 with 1 Axes>"
            ],
            "image/png": "[encoded data removed]"
          },
          "metadata": {
            "needs_background": "light"
          }
        },
        {
          "output_type": "stream",
          "name": "stdout",
          "text": [
            "The face emotion is:  sad\n"
          ]
        },
        {
          "output_type": "display_data",
          "data": {
            "text/plain": [
              "<Figure size 432x288 with 1 Axes>"
            ],
            "image/png": "[encoded data removed]"
          },
          "metadata": {
            "needs_background": "light"
          }
        },
        {
          "output_type": "stream",
          "name": "stdout",
          "text": [
            "The face emotion is:  surprise\n"
          ]
        },
        {
          "output_type": "display_data",
          "data": {
            "text/plain": [
              "<Figure size 432x288 with 1 Axes>"
            ],
            "image/png": "[encoded data removed]"
          },
          "metadata": {
            "needs_background": "light"
          }
        }
      ],
      "source": [
        "img={'angry':'/content/data/train/angry/Training_10118481.jpg',\n",
        "'disgust':'/content/data/train/disgust/Training_10371709.jpg',\n",
        "'fear':'/content/data/train/fear/Training_10018621.jpg',\n",
        "'happy':'/content/data/train/happy/Training_10019449.jpg',\n",
        "'neutral':'/content/data/train/neutral/Training_10002154.jpg',\n",
        "'sad':'/content/data/train/sad/Training_10091569.jpg',\n",
        "'surprise':'/content/data/train/surprise/Training_1009179.jpg'}\n",
        "pth=''\n",
        "vals=img.values()\n",
        "keys=[i for i in img.keys()]\n",
        "j=0\n",
        "imag=''\n",
        "for i in vals:\n",
        "  imag=plt.imread(i)\n",
        "  plt.imshow(imag)\n",
        "  print(\"The face emotion is: \",keys[j])\n",
        "  j+=1\n",
        "  plt.show()"
      ]
    },
    {
      "cell_type": "code",
      "execution_count": null,
      "metadata": {
        "colab": {
          "base_uri": "https://localhost:8080/"
        },
        "id": "2Kn8Z6mqnePH",
        "outputId": "21362bf2-996e-400d-da73-2d21e4aa05e9"
      },
      "outputs": [
        {
          "output_type": "stream",
          "name": "stdout",
          "text": [
            "The surprised face is just a ndarray\n",
            "[[ 53  76  80 ...  89  91  97]\n",
            " [ 65  74  84 ...  83  81  90]\n",
            " [ 77  81  77 ...  86  93  97]\n",
            " ...\n",
            " [112 106 112 ...  73  46  71]\n",
            " [116 118 108 ...  73  45  75]\n",
            " [120 128 101 ...  66  44  78]]\n"
          ]
        }
      ],
      "source": [
        "print(\"The surprised face is just a ndarray\")\n",
        "print(imag)"
      ]
    },
    {
      "cell_type": "markdown",
      "source": [
        "## 5. Creating the CNN model"
      ],
      "metadata": {
        "id": "tqDyFtDpl5qm"
      }
    },
    {
      "cell_type": "code",
      "execution_count": null,
      "metadata": {
        "id": "U_gvaWFAhX2j"
      },
      "outputs": [],
      "source": [
        "emotion_model = Sequential()\n",
        "\n",
        "emotion_model.add(Conv2D(64, padding='same', kernel_size=(3, 3), input_shape=(48,48,1)))\n",
        "emotion_model.add(BatchNormalization())\n",
        "emotion_model.add(Activation('relu'))\n",
        "emotion_model.add(MaxPooling2D(pool_size=(2, 2)))\n",
        "emotion_model.add(Dropout(0.25))\n",
        "\n",
        "emotion_model.add(Conv2D(128, kernel_size=(5, 5), padding='same'))\n",
        "emotion_model.add(BatchNormalization())\n",
        "emotion_model.add(Activation('relu'))\n",
        "emotion_model.add(MaxPooling2D(pool_size=(2, 2)))\n",
        "emotion_model.add(Conv2D(512, kernel_size=(3, 3), padding='same'))\n",
        "emotion_model.add(BatchNormalization())\n",
        "emotion_model.add(Activation('relu'))\n",
        "emotion_model.add(MaxPooling2D(pool_size=(2, 2)))\n",
        "emotion_model.add(Dropout(0.25))\n",
        "\n",
        "emotion_model.add(Flatten())\n",
        "emotion_model.add(Dense(256))\n",
        "emotion_model.add(BatchNormalization())\n",
        "emotion_model.add(Activation('relu'))\n",
        "emotion_model.add(Dropout(0.25))\n",
        "emotion_model.add(Dense(512))\n",
        "emotion_model.add(BatchNormalization())\n",
        "emotion_model.add(Activation('relu'))\n",
        "emotion_model.add(Dropout(0.25))\n",
        "emotion_model.add(Dense(7, activation='softmax'))"
      ]
    },
    {
      "cell_type": "code",
      "execution_count": null,
      "metadata": {
        "id": "xvxAzztwhbeE"
      },
      "outputs": [],
      "source": [
        "cv2.ocl.setUseOpenCL(False)"
      ]
    },
    {
      "cell_type": "code",
      "execution_count": null,
      "metadata": {
        "id": "abrbY1Jwhe0q"
      },
      "outputs": [],
      "source": [
        "emotion_dict = {0: \"Angry\", 1: \"Disgusted\", 2: \"Fearful\", 3: \"Happy\", 4: \"Neutral\", 5: \"Sad\", 6: \"Surprised\"}"
      ]
    },
    {
      "cell_type": "code",
      "execution_count": null,
      "metadata": {
        "id": "vSjBuKjOhhrk"
      },
      "outputs": [],
      "source": [
        "emotion_model.compile(loss='categorical_crossentropy',optimizer=Adam(lr=0.0001, decay=1e-6),metrics=['accuracy'])"
      ]
    },
    {
      "cell_type": "code",
      "execution_count": null,
      "metadata": {
        "colab": {
          "base_uri": "https://localhost:8080/"
        },
        "id": "u6oeJF4FnsLV",
        "outputId": "977c257d-2fc4-4e0b-c8b3-34805142193b"
      },
      "outputs": [
        {
          "output_type": "stream",
          "name": "stdout",
          "text": [
            "Model: \"sequential\"\n",
            "_________________________________________________________________\n",
            " Layer (type)                Output Shape              Param #   \n",
            "=================================================================\n",
            " conv2d (Conv2D)             (None, 48, 48, 64)        640       \n",
            "                                                                 \n",
            " batch_normalization (BatchN  (None, 48, 48, 64)       256       \n",
            " ormalization)                                                   \n",
            "                                                                 \n",
            " activation (Activation)     (None, 48, 48, 64)        0         \n",
            "                                                                 \n",
            " max_pooling2d (MaxPooling2D  (None, 24, 24, 64)       0         \n",
            " )                                                               \n",
            "                                                                 \n",
            " dropout (Dropout)           (None, 24, 24, 64)        0         \n",
            "                                                                 \n",
            " conv2d_1 (Conv2D)           (None, 24, 24, 128)       204928    \n",
            "                                                                 \n",
            " batch_normalization_1 (Batc  (None, 24, 24, 128)      512       \n",
            " hNormalization)                                                 \n",
            "                                                                 \n",
            " activation_1 (Activation)   (None, 24, 24, 128)       0         \n",
            "                                                                 \n",
            " max_pooling2d_1 (MaxPooling  (None, 12, 12, 128)      0         \n",
            " 2D)                                                             \n",
            "                                                                 \n",
            " conv2d_2 (Conv2D)           (None, 12, 12, 512)       590336    \n",
            "                                                                 \n",
            " batch_normalization_2 (Batc  (None, 12, 12, 512)      2048      \n",
            " hNormalization)                                                 \n",
            "                                                                 \n",
            " activation_2 (Activation)   (None, 12, 12, 512)       0         \n",
            "                                                                 \n",
            " max_pooling2d_2 (MaxPooling  (None, 6, 6, 512)        0         \n",
            " 2D)                                                             \n",
            "                                                                 \n",
            " dropout_1 (Dropout)         (None, 6, 6, 512)         0         \n",
            "                                                                 \n",
            " flatten (Flatten)           (None, 18432)             0         \n",
            "                                                                 \n",
            " dense (Dense)               (None, 256)               4718848   \n",
            "                                                                 \n",
            " batch_normalization_3 (Batc  (None, 256)              1024      \n",
            " hNormalization)                                                 \n",
            "                                                                 \n",
            " activation_3 (Activation)   (None, 256)               0         \n",
            "                                                                 \n",
            " dropout_2 (Dropout)         (None, 256)               0         \n",
            "                                                                 \n",
            " dense_1 (Dense)             (None, 512)               131584    \n",
            "                                                                 \n",
            " batch_normalization_4 (Batc  (None, 512)              2048      \n",
            " hNormalization)                                                 \n",
            "                                                                 \n",
            " activation_4 (Activation)   (None, 512)               0         \n",
            "                                                                 \n",
            " dropout_3 (Dropout)         (None, 512)               0         \n",
            "                                                                 \n",
            " dense_2 (Dense)             (None, 7)                 3591      \n",
            "                                                                 \n",
            "=================================================================\n",
            "Total params: 5,655,815\n",
            "Trainable params: 5,652,871\n",
            "Non-trainable params: 2,944\n",
            "_________________________________________________________________\n"
          ]
        }
      ],
      "source": [
        "emotion_model.summary()"
      ]
    },
    {
      "cell_type": "markdown",
      "source": [
        "## 6. Iterating the model and generating accuracy metrics"
      ],
      "metadata": {
        "id": "ZmkO5S5hmFQ-"
      }
    },
    {
      "cell_type": "code",
      "execution_count": null,
      "metadata": {
        "colab": {
          "base_uri": "https://localhost:8080/"
        },
        "id": "OjvC_SBZhoQD",
        "outputId": "f0d1e4cf-995d-48da-f4e4-d66c880cace4"
      },
      "outputs": [
        {
          "output_type": "stream",
          "name": "stdout",
          "text": [
            "Epoch 1/31\n",
            "448/448 [==============================] - 1013s 2s/step - loss: 1.8319 - accuracy: 0.3084 - val_loss: 1.8268 - val_accuracy: 0.3267\n",
            "Epoch 2/31\n",
            "448/448 [==============================] - 998s 2s/step - loss: 1.6006 - accuracy: 0.3894 - val_loss: 1.4844 - val_accuracy: 0.4280\n",
            "Epoch 3/31\n",
            "448/448 [==============================] - 998s 2s/step - loss: 1.4681 - accuracy: 0.4419 - val_loss: 1.3769 - val_accuracy: 0.4749\n",
            "Epoch 4/31\n",
            "448/448 [==============================] - 996s 2s/step - loss: 1.3767 - accuracy: 0.4754 - val_loss: 1.2864 - val_accuracy: 0.5053\n",
            "Epoch 5/31\n",
            "448/448 [==============================] - 995s 2s/step - loss: 1.2952 - accuracy: 0.5081 - val_loss: 1.3692 - val_accuracy: 0.4902\n",
            "Epoch 6/31\n",
            "448/448 [==============================] - 996s 2s/step - loss: 1.2313 - accuracy: 0.5323 - val_loss: 1.2296 - val_accuracy: 0.5374\n",
            "Epoch 7/31\n",
            "448/448 [==============================] - 1001s 2s/step - loss: 1.1790 - accuracy: 0.5545 - val_loss: 1.1714 - val_accuracy: 0.5558\n",
            "Epoch 8/31\n",
            "448/448 [==============================] - 1001s 2s/step - loss: 1.1282 - accuracy: 0.5736 - val_loss: 1.1321 - val_accuracy: 0.5709\n",
            "Epoch 9/31\n",
            "448/448 [==============================] - 998s 2s/step - loss: 1.0687 - accuracy: 0.5977 - val_loss: 1.1431 - val_accuracy: 0.5705\n",
            "Epoch 10/31\n",
            "448/448 [==============================] - 998s 2s/step - loss: 1.0167 - accuracy: 0.6164 - val_loss: 1.1452 - val_accuracy: 0.5745\n",
            "Epoch 11/31\n",
            "448/448 [==============================] - 997s 2s/step - loss: 0.9715 - accuracy: 0.6387 - val_loss: 1.1424 - val_accuracy: 0.5732\n",
            "Epoch 12/31\n",
            "448/448 [==============================] - 999s 2s/step - loss: 0.9212 - accuracy: 0.6561 - val_loss: 1.1689 - val_accuracy: 0.5724\n",
            "Epoch 13/31\n",
            "448/448 [==============================] - 999s 2s/step - loss: 0.8819 - accuracy: 0.6705 - val_loss: 1.1692 - val_accuracy: 0.5776\n",
            "Epoch 14/31\n",
            "448/448 [==============================] - 1002s 2s/step - loss: 0.8332 - accuracy: 0.6917 - val_loss: 1.1206 - val_accuracy: 0.5978\n",
            "Epoch 15/31\n",
            "448/448 [==============================] - 1001s 2s/step - loss: 0.7830 - accuracy: 0.7097 - val_loss: 1.1011 - val_accuracy: 0.6117\n",
            "Epoch 16/31\n",
            "448/448 [==============================] - 999s 2s/step - loss: 0.7344 - accuracy: 0.7284 - val_loss: 1.0925 - val_accuracy: 0.6113\n",
            "Epoch 17/31\n",
            "448/448 [==============================] - 1000s 2s/step - loss: 0.6934 - accuracy: 0.7436 - val_loss: 1.1374 - val_accuracy: 0.6116\n",
            "Epoch 18/31\n",
            "448/448 [==============================] - 1001s 2s/step - loss: 0.6499 - accuracy: 0.7614 - val_loss: 1.1790 - val_accuracy: 0.5928\n",
            "Epoch 19/31\n",
            "448/448 [==============================] - 999s 2s/step - loss: 0.6093 - accuracy: 0.7791 - val_loss: 1.1389 - val_accuracy: 0.6157\n",
            "Epoch 20/31\n",
            "448/448 [==============================] - 1001s 2s/step - loss: 0.5732 - accuracy: 0.7894 - val_loss: 1.1762 - val_accuracy: 0.6083\n",
            "Epoch 21/31\n",
            "448/448 [==============================] - 1000s 2s/step - loss: 0.5316 - accuracy: 0.8058 - val_loss: 1.2039 - val_accuracy: 0.6000\n",
            "Epoch 22/31\n",
            "448/448 [==============================] - 1001s 2s/step - loss: 0.5067 - accuracy: 0.8162 - val_loss: 1.2224 - val_accuracy: 0.6085\n",
            "Epoch 23/31\n",
            "448/448 [==============================] - 999s 2s/step - loss: 0.4734 - accuracy: 0.8283 - val_loss: 1.2300 - val_accuracy: 0.6113\n",
            "Epoch 24/31\n",
            "448/448 [==============================] - 1006s 2s/step - loss: 0.4541 - accuracy: 0.8356 - val_loss: 1.2472 - val_accuracy: 0.6162\n",
            "Epoch 25/31\n",
            "448/448 [==============================] - 1002s 2s/step - loss: 0.4152 - accuracy: 0.8512 - val_loss: 1.2834 - val_accuracy: 0.5978\n",
            "Epoch 26/31\n",
            "448/448 [==============================] - 999s 2s/step - loss: 0.3922 - accuracy: 0.8568 - val_loss: 1.2682 - val_accuracy: 0.6158\n",
            "Epoch 27/31\n",
            "448/448 [==============================] - 1000s 2s/step - loss: 0.3703 - accuracy: 0.8667 - val_loss: 1.4131 - val_accuracy: 0.6034\n",
            "Epoch 28/31\n",
            "448/448 [==============================] - 1004s 2s/step - loss: 0.3494 - accuracy: 0.8759 - val_loss: 1.5305 - val_accuracy: 0.5737\n",
            "Epoch 29/31\n",
            "448/448 [==============================] - 1003s 2s/step - loss: 0.3195 - accuracy: 0.8857 - val_loss: 1.4101 - val_accuracy: 0.6087\n",
            "Epoch 30/31\n",
            "448/448 [==============================] - 1004s 2s/step - loss: 0.3115 - accuracy: 0.8896 - val_loss: 1.4380 - val_accuracy: 0.6085\n",
            "Epoch 31/31\n",
            "448/448 [==============================] - 998s 2s/step - loss: 0.2962 - accuracy: 0.8955 - val_loss: 1.4718 - val_accuracy: 0.6032\n"
          ]
        }
      ],
      "source": [
        "emotion_model_info = emotion_model.fit(\n",
        "        train_generator,\n",
        "        epochs=31,\n",
        "        steps_per_epoch=448,\n",
        "        validation_data=validation_generator,\n",
        "        validation_steps=7178 // 64\n",
        "        )"
      ]
    },
    {
      "cell_type": "markdown",
      "source": [
        "## 7. Plotting the accuracy and the loss "
      ],
      "metadata": {
        "id": "a2hzAW3ImMDw"
      }
    },
    {
      "cell_type": "code",
      "execution_count": null,
      "metadata": {
        "id": "Wkxd8QLxbrw0",
        "colab": {
          "base_uri": "https://localhost:8080/",
          "height": 295
        },
        "outputId": "d357d124-b7b7-48a0-c0a5-1395d4e291e3"
      },
      "outputs": [
        {
          "output_type": "display_data",
          "data": {
            "text/plain": [
              "<Figure size 432x288 with 1 Axes>"
            ],
            "image/png": "[encoded data removed]"
          },
          "metadata": {
            "needs_background": "light"
          }
        }
      ],
      "source": [
        "loss_train = emotion_model_info.history['loss']\n",
        "loss_train_val = emotion_model_info.history['val_loss']\n",
        "epochs = range(1,32)\n",
        "plt.plot(epochs, loss_train, 'g', label='Training loss')\n",
        "plt.plot(epochs, loss_train_val, 'b', label='Validation loss')\n",
        "plt.title('Training loss')\n",
        "plt.xlabel('Epochs')\n",
        "plt.ylabel('Loss')\n",
        "plt.legend()\n",
        "plt.show()"
      ]
    },
    {
      "cell_type": "code",
      "execution_count": null,
      "metadata": {
        "id": "Zf9-r0Y_n0i3",
        "colab": {
          "base_uri": "https://localhost:8080/",
          "height": 295
        },
        "outputId": "381c72a4-5fed-4f1e-e121-b839021590fc"
      },
      "outputs": [
        {
          "output_type": "display_data",
          "data": {
            "text/plain": [
              "<Figure size 432x288 with 1 Axes>"
            ],
            "image/png": "[encoded data removed]"
          },
          "metadata": {
            "needs_background": "light"
          }
        }
      ],
      "source": [
        "acc_train = emotion_model_info.history['accuracy']\n",
        "acc_train_val = emotion_model_info.history['val_accuracy']\n",
        "epochs = range(1,32)\n",
        "plt.plot(epochs, acc_train, 'g', label='Training accuracy')\n",
        "plt.plot(epochs, acc_train_val, 'b', label='Validation accuracy')\n",
        "plt.title('Training accuracy')\n",
        "plt.xlabel('Epochs')\n",
        "plt.ylabel('Accuracy')\n",
        "plt.legend()\n",
        "plt.show()"
      ]
    },
    {
      "cell_type": "markdown",
      "source": [
        "## 8. Final prediction and analysis"
      ],
      "metadata": {
        "id": "0rRyUjxMmSKn"
      }
    },
    {
      "cell_type": "code",
      "execution_count": null,
      "metadata": {
        "id": "zitvWymzn1RZ"
      },
      "outputs": [],
      "source": [
        "emotion_dict = {0: \"Angry\", 1: \"Disgusted\", 2: \"Fearful\", 3: \"Happy\", 4: \"Neutral\", 5: \"Sad\", 6: \"Surprised\"}"
      ]
    },
    {
      "cell_type": "code",
      "execution_count": null,
      "metadata": {
        "id": "gQAWg46cn4LB",
        "colab": {
          "base_uri": "https://localhost:8080/",
          "height": 284
        },
        "outputId": "071e42c8-c26a-4708-f83a-9bdff6269a8a"
      },
      "outputs": [
        {
          "output_type": "display_data",
          "data": {
            "text/plain": [
              "<Figure size 432x288 with 1 Axes>"
            ],
            "image/png": "[encoded data removed]"
          },
          "metadata": {
            "needs_background": "light"
          }
        },
        {
          "output_type": "stream",
          "name": "stdout",
          "text": [
            "The emotion in the face of the person is:  happy\n"
          ]
        }
      ],
      "source": [
        "from keras.preprocessing import image\n",
        "img_path='/content/data/train/happy/Training_10046809.jpg'\n",
        "img_happy=plt.imread(img_path)\n",
        "plt.imshow(img_happy)\n",
        "plt.show()\n",
        "test_image = img_happy\n",
        "test_image = image.img_to_array(test_image)\n",
        "test_image = np.expand_dims(test_image, axis = 0)\n",
        "res = emotion_model.predict(test_image)\n",
        "# print(result)\n",
        "def predictionImage(result):\n",
        "  prediction=''\n",
        "  ans=np.argmax(result)\n",
        "  if ans == 0:\n",
        "    prediction = 'angry'\n",
        "  elif ans == 1:\n",
        "    prediction = 'disgusted'\n",
        "  elif ans == 2:\n",
        "    prediction = 'fearful'\n",
        "  elif ans == 3:\n",
        "    prediction = 'happy'\n",
        "  elif ans == 4:\n",
        "    prediction = 'neutral'\n",
        "  elif ans == 5:\n",
        "    prediction = 'sad'\n",
        "  elif ans == 6:\n",
        "    prediction = 'surprised'\n",
        "  return prediction\n",
        "\n",
        "print(\"The emotion in the face of the person is: \",predictionImage(res))\n"
      ]
    },
    {
      "cell_type": "code",
      "source": [
        "from google.colab.patches import cv2_imshow\n",
        "img=plt.imread('/content/data/train/angry/Training_10315441.jpg')\n",
        "# gray_image = cv2.cvtColor(img, cv2.COLOR_BGR2GRAY)\n",
        "thresh_image = cv2.threshold(img, 0, 255, cv2.THRESH_BINARY_INV + cv2.THRESH_OTSU)[1]\n",
        "contours = cv2.findContours(thresh_image, cv2.RETR_EXTERNAL, cv2.CHAIN_APPROX_SIMPLE)\n",
        "contours = contours[0] if len(contours) == 2 else contours[1]\n",
        "color_img=cv2.cvtColor(img, cv2.COLOR_BGR2RGB)\n",
        "for i in contours:\n",
        "  x,y,w,h = cv2.boundingRect(i)\n",
        "  cv2.rectangle(color_img, (x, y), (x + w, y + h), (255,0,0), 1)\n",
        "plt.imshow(color_img)\n",
        "cv2.waitKey(0)\n",
        "cv2.destroyAllWindows()\n",
        "test_image_sur = img\n",
        "test_image_sur = image.img_to_array(test_image_sur)\n",
        "test_image_sur = np.expand_dims(test_image_sur, axis = 0)\n",
        "res = emotion_model.predict(test_image_sur)\n",
        "print(\"The emotion in the face of the person is: \",predictionImage(res))"
      ],
      "metadata": {
        "colab": {
          "base_uri": "https://localhost:8080/",
          "height": 284
        },
        "id": "VkKYXBW_Cy5m",
        "outputId": "bbb577ac-63d2-4a04-d63e-1fe939d5892a"
      },
      "execution_count": null,
      "outputs": [
        {
          "output_type": "stream",
          "name": "stdout",
          "text": [
            "The emotion in the face of the person is:  angry\n"
          ]
        },
        {
          "output_type": "display_data",
          "data": {
            "text/plain": [
              "<Figure size 432x288 with 1 Axes>"
            ],
            "image/png": "[encoded data removed]"
          },
          "metadata": {
            "needs_background": "light"
          }
        }
      ]
    }
  ],
  "metadata": {
    "colab": {
      "collapsed_sections": [],
      "provenance": []
    },
    "kernelspec": {
      "display_name": "Python 3",
      "name": "python3"
    },
    "language_info": {
      "name": "python"
    }
  },
  "nbformat": 4,
  "nbformat_minor": 0
}