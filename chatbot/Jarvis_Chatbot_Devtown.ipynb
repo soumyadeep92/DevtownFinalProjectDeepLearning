{
  "nbformat": 4,
  "nbformat_minor": 0,
  "metadata": {
    "colab": {
      "provenance": [],
      "collapsed_sections": []
    },
    "kernelspec": {
      "name": "python3",
      "display_name": "Python 3"
    },
    "language_info": {
      "name": "python"
    }
  },
  "cells": [
    {
      "cell_type": "markdown",
      "source": [
        "## Jarvis Chatbot using Recurrent Neural Network"
      ],
      "metadata": {
        "id": "DJRSh1bBajeP"
      }
    },
    {
      "cell_type": "markdown",
      "source": [
        "## 1. Importing the modules and the libraries "
      ],
      "metadata": {
        "id": "F53f79aRbYz_"
      }
    },
    {
      "cell_type": "code",
      "source": [
        "import tensorflow as tf\n",
        "import numpy as np\n",
        "import pandas as pd\n",
        "import json\n",
        "import nltk\n",
        "from tensorflow.keras.preprocessing.text import Tokenizer\n",
        "from tensorflow.keras.layers import Input,Embedding,LSTM,Dense,GlobalMaxPooling1D,Flatten\n",
        "from tensorflow.keras.models import Model\n",
        "import matplotlib.pyplot as plt\n",
        "import seaborn as sns\n",
        "plt.rc(\"font\", size=14)\n",
        "sns.set(style=\"white\")\n",
        "sns.set(style =\"whitegrid\", color_codes=True)"
      ],
      "metadata": {
        "id": "yQG3HLYxZ5hg"
      },
      "execution_count": 72,
      "outputs": []
    },
    {
      "cell_type": "markdown",
      "source": [
        "## 2. Creating the dataset"
      ],
      "metadata": {
        "id": "T2EDnnZkbiqs"
      }
    },
    {
      "cell_type": "code",
      "source": [
        "%%writefile content.json\n",
        "{\"intents\":\n",
        "  [\n",
        "    {\n",
        "      \"tag\":\"greeting\",\n",
        "      \"input\":[\"hello!!\",\"hi! there..\",\"welcome!!\",\"nice:>:>\",\"wind up...\",\"dear!!\",\"say u're good;\",\"hey!!\",\"fine??\",\"geekzzzzzzz\",\"thank the lord!!\",\"say cheezzzeeee\",\"how may i help you?????\",\"sweet!!\"],\n",
        "      \"responses\":[\n",
        "            \"Hi. Welcome to the universe\",\n",
        "            \"The universe is too big\",\n",
        "            \"Everest is largest among all mountains\",\n",
        "            \"Hey yo, do you need help\",\n",
        "            \"Common, lets have a nice talk\",\n",
        "            \"Science generates solutions for everyday life\",\n",
        "            \"Hey, thanks for talking\",\n",
        "            \"Cheer up baby\",\n",
        "            \"Tchoumour Lancma\",\n",
        "            \"The recovery and assimilation of Greek works\",\n",
        "            \"Go to sleep\",\n",
        "            \"Hey, there\",\n",
        "            \"The story of New Zealand's Robert Rob Edwin Hall\",\n",
        "            \"Scientific and interesting\",\n",
        "            \"Welcome to the world of Jarvis\",\n",
        "            \"Say, hail the lord\",\n",
        "            \"answer the great mysteries of the universe\",\n",
        "            \"some of the earliest archeological evidence for scientific reasoning is tens of thousands of years old.\",\n",
        "            \"Mount Everest as the name for the highest mountain in the world\",\n",
        "            \"Hey Indian\",\n",
        "            \"Lets wind up\"\n",
        "      ]\n",
        "    },\n",
        "    {\n",
        "      \"tag\":\"bye\",\n",
        "      \"input\":[\"byebye...\",\"merry!\",\"shayonara!!\",\"tata:::\",\"go away!!!\",\"hell\",\"march away.....\",\"good bye!\",\"good gracious\",\"good night.....\",\"out\",\"no way\",\"get lost!!!!\"],\n",
        "      \"responses\":[\n",
        "            \"We are lost\",\n",
        "            \"Thank you\"\n",
        "      ]\n",
        "    },\n",
        "    {\n",
        "      \"tag\":\"howami\", \n",
        "      \"input\":[\"fine man....\",\"very well!!!\",\"health and wealth\",\"healthy\",\"nice joke\",\"going well\",\"are you ok???\",\"good??!!\",\"happy and jovial...\",\"very pretty\",\"live strong\",\"precious!!\",\"how are you???\",\"nice talking to you\",\"fine right\",\"looking good!!!\",\"r u ok?\",\"who else there with you???\",\"Jarvis are you there????\",\"Jarvis where are you???\",\"who is sleeping???\"],\n",
        "      \"responses\":[\n",
        "            \"I am fine\",\n",
        "            \"I am happy, how are you\",\n",
        "            \"Too good, happy with you\",\n",
        "            \"Nepal did not allow foreigners to enter the country at the time\",\n",
        "            \"I live in India\",\n",
        "            \"Science is a systematic enterprise that builds and organizes knowledge\",\n",
        "            \"Go take a short nap\",\n",
        "            \"Fine and right, I shall not keep quiet\",\n",
        "            \"Jarvis is busy\",\n",
        "            \"our high-resolution 3D map and discover all routes for trekking and mountaineering\",\n",
        "            \"Well done, make merry\",\n",
        "            \"The Tibetan name for Everest is Qomolangma\",\n",
        "            \"In 1802, the British began the Great Trigonometric Survey of India to fix the locations, heights, and names of the world's highest mountains\",\n",
        "            \"Wise the king lives\",\n",
        "            \"Sunny and bright\",\n",
        "            \"Well, well\",\n",
        "            \"According to Michiel de Vaan, Dutch linguist and Indo-Europeanist, sciō may have its origin in the Proto-Italic language\",\n",
        "            \"God gracious\",\n",
        "            \"Science may be as old as the human species\",\n",
        "            \"Jarvis hails for the lord\",\n",
        "            \"Give me a wild and stormy land\",\n",
        "            \"Low lives the high\",\n",
        "            \"Joking!\",\n",
        "            \"How is the young rat\"\n",
        "      ]\n",
        "    },\n",
        "    {\n",
        "      \"tag\":\"who\",\n",
        "      \"input\":[\"whats your name?\",\"hi there\",\"how are you??\",\"Where are you!!?\",\"How old are you?\",\"What do you do??\",\"What is your special power?\",\"Tell me your name please\",\"Go and find me a pet....\",\"Call me please!!\",\"What is your parents name?!\",\"Where is your family??\",\"Do you live in a house??\"],\n",
        "      \"responses\":[\n",
        "            \"Hi. My name is Jarvis, What is your name?\",\n",
        "            \"I am fine.\",\n",
        "            \"I am in India\",\n",
        "            \"My age is more than yours\",\n",
        "            \"cucumbers can help fight free radicals in your body\",\n",
        "            \"I am a top cop. Fire you!!\",\n",
        "            \"I am superJarvis\",\n",
        "            \"Greek conceptions and traditions\",\n",
        "            \"chemistry provides global work opportunities\",\n",
        "            \"I am Jarvis the Talking robot\",\n",
        "            \"The China–Nepal border runs across its summit point\",\n",
        "            \"Call you right now. Please tell me your number\",\n",
        "            \"suffix -cience\",\n",
        "            \"Hello kitty\",\n",
        "            \"My mother's name is Angela\",\n",
        "            \"The Chinese mountaineering team of Wang Fuzhou, Gonpo, and Qu Yinhua made the first reported ascent of the peak\",\n",
        "            \"I am a chatBot\",\n",
        "            \"Love you so much\",\n",
        "            \"Hey baby\",\n",
        "            \"Stylish and cucumber\",\n",
        "            \"Sweet\",\n",
        "            \"King of England\",\n",
        "            \"I live in a two stored building with five dogs and two birds\"\n",
        "      ]\n",
        "    },\n",
        "    {\n",
        "      \"tag\":\"where\",\n",
        "      \"input\":[\"Howdy!!\",\"the place is beautiful\",\"my name is khan!\",\"slow moves\",\"guy ur mad!\",\"love...\",\"place of peace\",\"a dove\",\"obey me\",\"cool place to live\",\"winter has come\",\"too hot\",\"mad people\",\"how do you dream?\",\"hey go and make merry\",\"a church\",\"google it!!\"],\n",
        "      \"responses\":[\n",
        "            \"Look, the Everest\",\n",
        "            \"Hey yo, lets climb and trek\",\n",
        "            \"Modern science is typically divided into three major branches\",\n",
        "            \"Mount Everest is Earth's highest mountain above sea level\",\n",
        "            \"chemistry, the science that deals with the properties, composition, and structure of substances\",\n",
        "            \"Mighty king Solomon\",\n",
        "            \"The atom and molecules are the basic unit or components of Chemistry\",\n",
        "            \"Down goes the river\",\n",
        "            \"Mount Everest attracts many climbers, including highly experienced mountaineers\",\n",
        "            \"Dance with me\",\n",
        "            \"There are many hypotheses for science's ultimate word origin\",\n",
        "            \"Too noisy\",\n",
        "            \"situated in the Mahalangur Himal sub-range of the Himalayas\",\n",
        "            \"Snowy rainy\",\n",
        "            \"Love me the lord\",\n",
        "            \"Jesus\",\n",
        "            \"Lavoisier\",\n",
        "            \"I am mad\",\n",
        "            \"giddy, energetic, and euphoric\",\n",
        "            \"Chemistry is when your interactions with the other person just work incredibly well and feel very natural\",\n",
        "            \"May the soul rest in peace\",\n",
        "            \"meeting our basic needs of food, clothing, shelter, health, energy, and clean air, water, and soil\",\n",
        "            \"Jeevansathi.com\",\n",
        "            \"Go to\",\n",
        "            \"Like me\",\n",
        "            \"I am born here\",\n",
        "            \"The first recorded efforts to reach Everest's summit were made by British mountaineers\",\n",
        "            \"Slowly\",\n",
        "            \" transformed by the Scientific Revolution \",\n",
        "            \"Time to eat\",\n",
        "            \"Snapshot!\"\n",
        "      ]\n",
        "    },\n",
        "    {\n",
        "      \"tag\":\"pre\",\n",
        "      \"input\":[\"devtown\",\"I am Subhanjan\",\"I am Soumya Deep\",\"google and microsoft!!!\",\"small place\",\"interviews\",\"chatbot\",\"cancel\",\"love me\",\"token\",\"coin\",\"have mercy!!!\"],\n",
        "      \"responses\":[\n",
        "            \"Hi. I am Jarvis the chatBot\",\n",
        "            \"Advancing excellence\",\n",
        "            \"Ridiculous\",\n",
        "            \"The word chemistry is said to have roots in either ancient Egypt or Greece\",\n",
        "            \"The word science has been used in Middle English\",\n",
        "            \"Welcome to the future\",\n",
        "            \"natural sciences, the social sciences and the formal sciences\",\n",
        "            \"How comes that possible?\",\n",
        "            \"Everest presents dangers such as altitude sickness, weather, and wind, as well as hazards from avalanches and the Khumbu Icefall.\",\n",
        "            \"Eureka, an asteroid\",\n",
        "            \"FAANGS and MAANGS\",\n",
        "            \"the study of matter\",\n",
        "            \"Too cloudy\",\n",
        "            \"High levels of dopamine and a related hormone, norepinephrine\",\n",
        "            \"Invisible\",\n",
        "            \"Happy summer\",\n",
        "            \"Lead me\",\n",
        "            \"Grasshopper\",\n",
        "            \"Snipers ahead\",\n",
        "            \"Hey Soumya, do I know you?\",\n",
        "            \"Explores all fields of chemical science across the periodic table\",\n",
        "            \"Subhanjan, help me out\",\n",
        "            \"Joy and trust makes a relationship\",\n",
        "            \"Goal!!\"\n",
        "      ]\n",
        "    }\n",
        "  ]\n",
        "}"
      ],
      "metadata": {
        "colab": {
          "base_uri": "https://localhost:8080/"
        },
        "id": "iEzcKFYljhES",
        "outputId": "8bb19a56-bdfc-4c6c-b9ca-d5fd029f6986"
      },
      "execution_count": 74,
      "outputs": [
        {
          "output_type": "stream",
          "name": "stdout",
          "text": [
            "Overwriting content.json\n"
          ]
        }
      ]
    },
    {
      "cell_type": "markdown",
      "source": [
        "## 3. Importing and reading the required json dataset"
      ],
      "metadata": {
        "id": "h_2mRuJhbynf"
      }
    },
    {
      "cell_type": "code",
      "source": [
        "with open('/content/content.json') as content:\n",
        "  data1=json.load(content)"
      ],
      "metadata": {
        "id": "rob0UNYzjkrx"
      },
      "execution_count": 75,
      "outputs": []
    },
    {
      "cell_type": "markdown",
      "source": [
        "## 4. Tokenizing the tagged dataset "
      ],
      "metadata": {
        "id": "JeCyhyMkb0Sz"
      }
    },
    {
      "cell_type": "code",
      "source": [
        "tags=[]\n",
        "inputs=[]\n",
        "responses={}\n",
        "for intent in data1['intents']:\n",
        "  responses[intent['tag']]=intent['responses']\n",
        "  for lines in intent['input']:\n",
        "    inputs.append(lines)\n",
        "    tags.append(intent['tag'])"
      ],
      "metadata": {
        "id": "63z_JxQdjmuZ"
      },
      "execution_count": 76,
      "outputs": []
    },
    {
      "cell_type": "markdown",
      "source": [
        "## 5. Data Preparation"
      ],
      "metadata": {
        "id": "tyv2cUTEcBr0"
      }
    },
    {
      "cell_type": "code",
      "source": [
        "data=pd.DataFrame({\"inputs\":inputs,\"tags\":tags})"
      ],
      "metadata": {
        "id": "i7jT4ZV_joi-"
      },
      "execution_count": 77,
      "outputs": []
    },
    {
      "cell_type": "markdown",
      "source": [
        "## 6. Loading Datasets"
      ],
      "metadata": {
        "id": "4Cxc2dFeccc7"
      }
    },
    {
      "cell_type": "code",
      "source": [
        "data"
      ],
      "metadata": {
        "colab": {
          "base_uri": "https://localhost:8080/",
          "height": 424
        },
        "id": "cuv07k_YjrXa",
        "outputId": "c7159671-9a08-48a2-d535-9166839d82d6"
      },
      "execution_count": 78,
      "outputs": [
        {
          "output_type": "execute_result",
          "data": {
            "text/plain": [
              "           inputs      tags\n",
              "0         hello!!  greeting\n",
              "1     hi! there..  greeting\n",
              "2       welcome!!  greeting\n",
              "3        nice:>:>  greeting\n",
              "4      wind up...  greeting\n",
              "..            ...       ...\n",
              "85         cancel       pre\n",
              "86        love me       pre\n",
              "87          token       pre\n",
              "88           coin       pre\n",
              "89  have mercy!!!       pre\n",
              "\n",
              "[90 rows x 2 columns]"
            ],
            "text/html": [
              "\n",
              "  <div id=\"df-aedcd1e0-a4b7-4228-8b9a-eb50c11373f4\">\n",
              "    <div class=\"colab-df-container\">\n",
              "      <div>\n",
              "<style scoped>\n",
              "    .dataframe tbody tr th:only-of-type {\n",
              "        vertical-align: middle;\n",
              "    }\n",
              "\n",
              "    .dataframe tbody tr th {\n",
              "        vertical-align: top;\n",
              "    }\n",
              "\n",
              "    .dataframe thead th {\n",
              "        text-align: right;\n",
              "    }\n",
              "</style>\n",
              "<table border=\"1\" class=\"dataframe\">\n",
              "  <thead>\n",
              "    <tr style=\"text-align: right;\">\n",
              "      <th></th>\n",
              "      <th>inputs</th>\n",
              "      <th>tags</th>\n",
              "    </tr>\n",
              "  </thead>\n",
              "  <tbody>\n",
              "    <tr>\n",
              "      <th>0</th>\n",
              "      <td>hello!!</td>\n",
              "      <td>greeting</td>\n",
              "    </tr>\n",
              "    <tr>\n",
              "      <th>1</th>\n",
              "      <td>hi! there..</td>\n",
              "      <td>greeting</td>\n",
              "    </tr>\n",
              "    <tr>\n",
              "      <th>2</th>\n",
              "      <td>welcome!!</td>\n",
              "      <td>greeting</td>\n",
              "    </tr>\n",
              "    <tr>\n",
              "      <th>3</th>\n",
              "      <td>nice:&gt;:&gt;</td>\n",
              "      <td>greeting</td>\n",
              "    </tr>\n",
              "    <tr>\n",
              "      <th>4</th>\n",
              "      <td>wind up...</td>\n",
              "      <td>greeting</td>\n",
              "    </tr>\n",
              "    <tr>\n",
              "      <th>...</th>\n",
              "      <td>...</td>\n",
              "      <td>...</td>\n",
              "    </tr>\n",
              "    <tr>\n",
              "      <th>85</th>\n",
              "      <td>cancel</td>\n",
              "      <td>pre</td>\n",
              "    </tr>\n",
              "    <tr>\n",
              "      <th>86</th>\n",
              "      <td>love me</td>\n",
              "      <td>pre</td>\n",
              "    </tr>\n",
              "    <tr>\n",
              "      <th>87</th>\n",
              "      <td>token</td>\n",
              "      <td>pre</td>\n",
              "    </tr>\n",
              "    <tr>\n",
              "      <th>88</th>\n",
              "      <td>coin</td>\n",
              "      <td>pre</td>\n",
              "    </tr>\n",
              "    <tr>\n",
              "      <th>89</th>\n",
              "      <td>have mercy!!!</td>\n",
              "      <td>pre</td>\n",
              "    </tr>\n",
              "  </tbody>\n",
              "</table>\n",
              "<p>90 rows × 2 columns</p>\n",
              "</div>\n",
              "      <button class=\"colab-df-convert\" onclick=\"convertToInteractive('df-aedcd1e0-a4b7-4228-8b9a-eb50c11373f4')\"\n",
              "              title=\"Convert this dataframe to an interactive table.\"\n",
              "              style=\"display:none;\">\n",
              "        \n",
              "  <svg xmlns=\"http://www.w3.org/2000/svg\" height=\"24px\"viewBox=\"0 0 24 24\"\n",
              "       width=\"24px\">\n",
              "    <path d=\"M0 0h24v24H0V0z\" fill=\"none\"/>\n",
              "    <path d=\"M18.56 5.44l.94 2.06.94-2.06 2.06-.94-2.06-.94-.94-2.06-.94 2.06-2.06.94zm-11 1L8.5 8.5l.94-2.06 2.06-.94-2.06-.94L8.5 2.5l-.94 2.06-2.06.94zm10 10l.94 2.06.94-2.06 2.06-.94-2.06-.94-.94-2.06-.94 2.06-2.06.94z\"/><path d=\"M17.41 7.96l-1.37-1.37c-.4-.4-.92-.59-1.43-.59-.52 0-1.04.2-1.43.59L10.3 9.45l-7.72 7.72c-.78.78-.78 2.05 0 2.83L4 21.41c.39.39.9.59 1.41.59.51 0 1.02-.2 1.41-.59l7.78-7.78 2.81-2.81c.8-.78.8-2.07 0-2.86zM5.41 20L4 18.59l7.72-7.72 1.47 1.35L5.41 20z\"/>\n",
              "  </svg>\n",
              "      </button>\n",
              "      \n",
              "  <style>\n",
              "    .colab-df-container {\n",
              "      display:flex;\n",
              "      flex-wrap:wrap;\n",
              "      gap: 12px;\n",
              "    }\n",
              "\n",
              "    .colab-df-convert {\n",
              "      background-color: #E8F0FE;\n",
              "      border: none;\n",
              "      border-radius: 50%;\n",
              "      cursor: pointer;\n",
              "      display: none;\n",
              "      fill: #1967D2;\n",
              "      height: 32px;\n",
              "      padding: 0 0 0 0;\n",
              "      width: 32px;\n",
              "    }\n",
              "\n",
              "    .colab-df-convert:hover {\n",
              "      background-color: #E2EBFA;\n",
              "      box-shadow: 0px 1px 2px rgba(60, 64, 67, 0.3), 0px 1px 3px 1px rgba(60, 64, 67, 0.15);\n",
              "      fill: #174EA6;\n",
              "    }\n",
              "\n",
              "    [theme=dark] .colab-df-convert {\n",
              "      background-color: #3B4455;\n",
              "      fill: #D2E3FC;\n",
              "    }\n",
              "\n",
              "    [theme=dark] .colab-df-convert:hover {\n",
              "      background-color: #434B5C;\n",
              "      box-shadow: 0px 1px 3px 1px rgba(0, 0, 0, 0.15);\n",
              "      filter: drop-shadow(0px 1px 2px rgba(0, 0, 0, 0.3));\n",
              "      fill: #FFFFFF;\n",
              "    }\n",
              "  </style>\n",
              "\n",
              "      <script>\n",
              "        const buttonEl =\n",
              "          document.querySelector('#df-aedcd1e0-a4b7-4228-8b9a-eb50c11373f4 button.colab-df-convert');\n",
              "        buttonEl.style.display =\n",
              "          google.colab.kernel.accessAllowed ? 'block' : 'none';\n",
              "\n",
              "        async function convertToInteractive(key) {\n",
              "          const element = document.querySelector('#df-aedcd1e0-a4b7-4228-8b9a-eb50c11373f4');\n",
              "          const dataTable =\n",
              "            await google.colab.kernel.invokeFunction('convertToInteractive',\n",
              "                                                     [key], {});\n",
              "          if (!dataTable) return;\n",
              "\n",
              "          const docLinkHtml = 'Like what you see? Visit the ' +\n",
              "            '<a target=\"_blank\" href=https://colab.research.google.com/notebooks/data_table.ipynb>data table notebook</a>'\n",
              "            + ' to learn more about interactive tables.';\n",
              "          element.innerHTML = '';\n",
              "          dataTable['output_type'] = 'display_data';\n",
              "          await google.colab.output.renderOutput(dataTable, element);\n",
              "          const docLink = document.createElement('div');\n",
              "          docLink.innerHTML = docLinkHtml;\n",
              "          element.appendChild(docLink);\n",
              "        }\n",
              "      </script>\n",
              "    </div>\n",
              "  </div>\n",
              "  "
            ]
          },
          "metadata": {},
          "execution_count": 78
        }
      ]
    },
    {
      "cell_type": "markdown",
      "source": [
        "## 7. Data Cleaning and Outlier checking"
      ],
      "metadata": {
        "id": "KT1CnhCycZOb"
      }
    },
    {
      "cell_type": "code",
      "source": [
        "print(data.isnull().sum())"
      ],
      "metadata": {
        "colab": {
          "base_uri": "https://localhost:8080/"
        },
        "id": "cZ_f-stSjs-4",
        "outputId": "93d2e70c-9d09-40ff-95a6-26fe90538ea0"
      },
      "execution_count": 79,
      "outputs": [
        {
          "output_type": "stream",
          "name": "stdout",
          "text": [
            "inputs    0\n",
            "tags      0\n",
            "dtype: int64\n"
          ]
        }
      ]
    },
    {
      "cell_type": "code",
      "source": [
        "print(data.inputs.value_counts()[:])\n",
        "print(data.tags.value_counts()[:])"
      ],
      "metadata": {
        "colab": {
          "base_uri": "https://localhost:8080/"
        },
        "id": "8n86FjTCjuqo",
        "outputId": "92967688-cc98-42bf-f34b-c3554caad4e4"
      },
      "execution_count": 80,
      "outputs": [
        {
          "output_type": "stream",
          "name": "stdout",
          "text": [
            "hello!!             1\n",
            "place of peace      1\n",
            "guy ur mad!         1\n",
            "slow moves          1\n",
            "my name is khan!    1\n",
            "                   ..\n",
            "very well!!!        1\n",
            "fine man....        1\n",
            "get lost!!!!        1\n",
            "no way              1\n",
            "have mercy!!!       1\n",
            "Name: inputs, Length: 90, dtype: int64\n",
            "howami      21\n",
            "where       17\n",
            "greeting    14\n",
            "bye         13\n",
            "who         13\n",
            "pre         12\n",
            "Name: tags, dtype: int64\n"
          ]
        }
      ]
    },
    {
      "cell_type": "markdown",
      "source": [
        "## 7. Exploratory Analysis"
      ],
      "metadata": {
        "id": "1-Gt0zHVcmXL"
      }
    },
    {
      "cell_type": "code",
      "source": [
        "request=data[0:]['inputs']\n",
        "response=data.iloc[0:]['tags']\n",
        "print(request)\n",
        "print(response.unique())\n",
        "plt.figure(1,figsize=(16,8))\n",
        "plt.bar(response,request)\n",
        "plt.savefig('plot1')"
      ],
      "metadata": {
        "colab": {
          "base_uri": "https://localhost:8080/",
          "height": 653
        },
        "id": "ikmZCRKKjwIZ",
        "outputId": "f8306a95-6c4d-4acb-d876-466504d5722b"
      },
      "execution_count": 87,
      "outputs": [
        {
          "output_type": "stream",
          "name": "stdout",
          "text": [
            "0           hello!!\n",
            "1       hi! there..\n",
            "2         welcome!!\n",
            "3          nice:>:>\n",
            "4        wind up...\n",
            "          ...      \n",
            "85           cancel\n",
            "86          love me\n",
            "87            token\n",
            "88             coin\n",
            "89    have mercy!!!\n",
            "Name: inputs, Length: 90, dtype: object\n",
            "['greeting' 'bye' 'howami' 'who' 'where' 'pre']\n"
          ]
        },
        {
          "output_type": "display_data",
          "data": {
            "text/plain": [
              "<Figure size 1152x576 with 1 Axes>"
            ],
            "image/png": "[encoded data removed]"
          },
          "metadata": {}
        }
      ]
    },
    {
      "cell_type": "code",
      "source": [
        "sns.countplot(x='tags', data=data)\n",
        "plt.show()\n",
        "plt.savefig('plot2')"
      ],
      "metadata": {
        "colab": {
          "base_uri": "https://localhost:8080/",
          "height": 519
        },
        "id": "fHUB9BLTud3p",
        "outputId": "7c3dc14e-0190-48ef-ac1b-bd655354b099"
      },
      "execution_count": 88,
      "outputs": [
        {
          "output_type": "display_data",
          "data": {
            "text/plain": [
              "<Figure size 792x576 with 1 Axes>"
            ],
            "image/png": "[encoded data removed]"
          },
          "metadata": {}
        },
        {
          "output_type": "display_data",
          "data": {
            "text/plain": [
              "<Figure size 792x576 with 0 Axes>"
            ]
          },
          "metadata": {}
        }
      ]
    },
    {
      "cell_type": "code",
      "source": [
        "sns.set(rc={'figure.figsize':(11, 8)})\n",
        "sns.histplot(data['tags'], bins= 30)\n",
        "plt.show()\n",
        "plt.savefig('plot3')"
      ],
      "metadata": {
        "colab": {
          "base_uri": "https://localhost:8080/",
          "height": 519
        },
        "id": "198i3seSvEGE",
        "outputId": "d0e47431-dab0-4a54-caa3-075ba4c53e3e"
      },
      "execution_count": 89,
      "outputs": [
        {
          "output_type": "display_data",
          "data": {
            "text/plain": [
              "<Figure size 792x576 with 1 Axes>"
            ],
            "image/png": "[encoded data removed]"
          },
          "metadata": {}
        },
        {
          "output_type": "display_data",
          "data": {
            "text/plain": [
              "<Figure size 792x576 with 0 Axes>"
            ]
          },
          "metadata": {}
        }
      ]
    },
    {
      "cell_type": "code",
      "source": [
        "def plot_inputs_based_tags(param1,param2):\n",
        "  x1=data.iloc[0:][param1]\n",
        "  x2=data.iloc[0:][param2]\n",
        "  t1=range(len(x1))\n",
        "  t2=range(len(x2))\n",
        "  plt.figure(1,figsize=(10,4))\n",
        "  title2=\"Plot 1-> Range vs \",param2\n",
        "  plt.title(title2)\n",
        "  plt.xlabel('Range')\n",
        "  plt.ylabel(param2)\n",
        "  plt.bar(t2,x2,alpha=0.5,color='grey')\n",
        "  plt.show()\n",
        "  plt.savefig('plot4')\n",
        "  plt.figure(2,figsize=(10,4))\n",
        "  title1=\"Plot 2-> Range vs \",param1\n",
        "  plt.title(title1)\n",
        "  plt.xlabel('Range')\n",
        "  plt.ylabel(param1)\n",
        "  plt.bar(t1,x1,alpha=0.5,color='green')\n",
        "  plt.show()\n",
        "  plt.savefig('plot5')"
      ],
      "metadata": {
        "id": "fpUApgJqk44h"
      },
      "execution_count": 97,
      "outputs": []
    },
    {
      "cell_type": "markdown",
      "source": [
        "## 8. Adding word counts and sizes "
      ],
      "metadata": {
        "id": "QMRNobqecumk"
      }
    },
    {
      "cell_type": "code",
      "source": [
        "data['inputs_word_count']=data.inputs.str.split().map(lambda x:len(x))\n",
        "data['inputs_length']=data.inputs.map(lambda x:len(x))\n",
        "data"
      ],
      "metadata": {
        "colab": {
          "base_uri": "https://localhost:8080/",
          "height": 424
        },
        "id": "L8PFx5LqjyPB",
        "outputId": "f8fcd90c-8577-4ded-854d-99150e0b8105"
      },
      "execution_count": 98,
      "outputs": [
        {
          "output_type": "execute_result",
          "data": {
            "text/plain": [
              "           inputs      tags  inputs_word_count  inputs_length  \\\n",
              "0         hello!!  greeting                  1              7   \n",
              "1     hi! there..  greeting                  2             11   \n",
              "2       welcome!!  greeting                  1              9   \n",
              "3        nice:>:>  greeting                  1              8   \n",
              "4      wind up...  greeting                  2             10   \n",
              "..            ...       ...                ...            ...   \n",
              "85         cancel       pre                  1              6   \n",
              "86        love me       pre                  2              7   \n",
              "87          token       pre                  1              5   \n",
              "88           coin       pre                  1              4   \n",
              "89  have mercy!!!       pre                  2             13   \n",
              "\n",
              "    unique_word_count  mean_word_length  \n",
              "0                   1               7.0  \n",
              "1                   2               5.0  \n",
              "2                   1               9.0  \n",
              "3                   1               8.0  \n",
              "4                   2               4.5  \n",
              "..                ...               ...  \n",
              "85                  1               6.0  \n",
              "86                  2               3.0  \n",
              "87                  1               5.0  \n",
              "88                  1               4.0  \n",
              "89                  2               6.0  \n",
              "\n",
              "[90 rows x 6 columns]"
            ],
            "text/html": [
              "\n",
              "  <div id=\"df-571f6a16-b1e6-4cb1-af11-1b51b7b24406\">\n",
              "    <div class=\"colab-df-container\">\n",
              "      <div>\n",
              "<style scoped>\n",
              "    .dataframe tbody tr th:only-of-type {\n",
              "        vertical-align: middle;\n",
              "    }\n",
              "\n",
              "    .dataframe tbody tr th {\n",
              "        vertical-align: top;\n",
              "    }\n",
              "\n",
              "    .dataframe thead th {\n",
              "        text-align: right;\n",
              "    }\n",
              "</style>\n",
              "<table border=\"1\" class=\"dataframe\">\n",
              "  <thead>\n",
              "    <tr style=\"text-align: right;\">\n",
              "      <th></th>\n",
              "      <th>inputs</th>\n",
              "      <th>tags</th>\n",
              "      <th>inputs_word_count</th>\n",
              "      <th>inputs_length</th>\n",
              "      <th>unique_word_count</th>\n",
              "      <th>mean_word_length</th>\n",
              "    </tr>\n",
              "  </thead>\n",
              "  <tbody>\n",
              "    <tr>\n",
              "      <th>0</th>\n",
              "      <td>hello!!</td>\n",
              "      <td>greeting</td>\n",
              "      <td>1</td>\n",
              "      <td>7</td>\n",
              "      <td>1</td>\n",
              "      <td>7.0</td>\n",
              "    </tr>\n",
              "    <tr>\n",
              "      <th>1</th>\n",
              "      <td>hi! there..</td>\n",
              "      <td>greeting</td>\n",
              "      <td>2</td>\n",
              "      <td>11</td>\n",
              "      <td>2</td>\n",
              "      <td>5.0</td>\n",
              "    </tr>\n",
              "    <tr>\n",
              "      <th>2</th>\n",
              "      <td>welcome!!</td>\n",
              "      <td>greeting</td>\n",
              "      <td>1</td>\n",
              "      <td>9</td>\n",
              "      <td>1</td>\n",
              "      <td>9.0</td>\n",
              "    </tr>\n",
              "    <tr>\n",
              "      <th>3</th>\n",
              "      <td>nice:&gt;:&gt;</td>\n",
              "      <td>greeting</td>\n",
              "      <td>1</td>\n",
              "      <td>8</td>\n",
              "      <td>1</td>\n",
              "      <td>8.0</td>\n",
              "    </tr>\n",
              "    <tr>\n",
              "      <th>4</th>\n",
              "      <td>wind up...</td>\n",
              "      <td>greeting</td>\n",
              "      <td>2</td>\n",
              "      <td>10</td>\n",
              "      <td>2</td>\n",
              "      <td>4.5</td>\n",
              "    </tr>\n",
              "    <tr>\n",
              "      <th>...</th>\n",
              "      <td>...</td>\n",
              "      <td>...</td>\n",
              "      <td>...</td>\n",
              "      <td>...</td>\n",
              "      <td>...</td>\n",
              "      <td>...</td>\n",
              "    </tr>\n",
              "    <tr>\n",
              "      <th>85</th>\n",
              "      <td>cancel</td>\n",
              "      <td>pre</td>\n",
              "      <td>1</td>\n",
              "      <td>6</td>\n",
              "      <td>1</td>\n",
              "      <td>6.0</td>\n",
              "    </tr>\n",
              "    <tr>\n",
              "      <th>86</th>\n",
              "      <td>love me</td>\n",
              "      <td>pre</td>\n",
              "      <td>2</td>\n",
              "      <td>7</td>\n",
              "      <td>2</td>\n",
              "      <td>3.0</td>\n",
              "    </tr>\n",
              "    <tr>\n",
              "      <th>87</th>\n",
              "      <td>token</td>\n",
              "      <td>pre</td>\n",
              "      <td>1</td>\n",
              "      <td>5</td>\n",
              "      <td>1</td>\n",
              "      <td>5.0</td>\n",
              "    </tr>\n",
              "    <tr>\n",
              "      <th>88</th>\n",
              "      <td>coin</td>\n",
              "      <td>pre</td>\n",
              "      <td>1</td>\n",
              "      <td>4</td>\n",
              "      <td>1</td>\n",
              "      <td>4.0</td>\n",
              "    </tr>\n",
              "    <tr>\n",
              "      <th>89</th>\n",
              "      <td>have mercy!!!</td>\n",
              "      <td>pre</td>\n",
              "      <td>2</td>\n",
              "      <td>13</td>\n",
              "      <td>2</td>\n",
              "      <td>6.0</td>\n",
              "    </tr>\n",
              "  </tbody>\n",
              "</table>\n",
              "<p>90 rows × 6 columns</p>\n",
              "</div>\n",
              "      <button class=\"colab-df-convert\" onclick=\"convertToInteractive('df-571f6a16-b1e6-4cb1-af11-1b51b7b24406')\"\n",
              "              title=\"Convert this dataframe to an interactive table.\"\n",
              "              style=\"display:none;\">\n",
              "        \n",
              "  <svg xmlns=\"http://www.w3.org/2000/svg\" height=\"24px\"viewBox=\"0 0 24 24\"\n",
              "       width=\"24px\">\n",
              "    <path d=\"M0 0h24v24H0V0z\" fill=\"none\"/>\n",
              "    <path d=\"M18.56 5.44l.94 2.06.94-2.06 2.06-.94-2.06-.94-.94-2.06-.94 2.06-2.06.94zm-11 1L8.5 8.5l.94-2.06 2.06-.94-2.06-.94L8.5 2.5l-.94 2.06-2.06.94zm10 10l.94 2.06.94-2.06 2.06-.94-2.06-.94-.94-2.06-.94 2.06-2.06.94z\"/><path d=\"M17.41 7.96l-1.37-1.37c-.4-.4-.92-.59-1.43-.59-.52 0-1.04.2-1.43.59L10.3 9.45l-7.72 7.72c-.78.78-.78 2.05 0 2.83L4 21.41c.39.39.9.59 1.41.59.51 0 1.02-.2 1.41-.59l7.78-7.78 2.81-2.81c.8-.78.8-2.07 0-2.86zM5.41 20L4 18.59l7.72-7.72 1.47 1.35L5.41 20z\"/>\n",
              "  </svg>\n",
              "      </button>\n",
              "      \n",
              "  <style>\n",
              "    .colab-df-container {\n",
              "      display:flex;\n",
              "      flex-wrap:wrap;\n",
              "      gap: 12px;\n",
              "    }\n",
              "\n",
              "    .colab-df-convert {\n",
              "      background-color: #E8F0FE;\n",
              "      border: none;\n",
              "      border-radius: 50%;\n",
              "      cursor: pointer;\n",
              "      display: none;\n",
              "      fill: #1967D2;\n",
              "      height: 32px;\n",
              "      padding: 0 0 0 0;\n",
              "      width: 32px;\n",
              "    }\n",
              "\n",
              "    .colab-df-convert:hover {\n",
              "      background-color: #E2EBFA;\n",
              "      box-shadow: 0px 1px 2px rgba(60, 64, 67, 0.3), 0px 1px 3px 1px rgba(60, 64, 67, 0.15);\n",
              "      fill: #174EA6;\n",
              "    }\n",
              "\n",
              "    [theme=dark] .colab-df-convert {\n",
              "      background-color: #3B4455;\n",
              "      fill: #D2E3FC;\n",
              "    }\n",
              "\n",
              "    [theme=dark] .colab-df-convert:hover {\n",
              "      background-color: #434B5C;\n",
              "      box-shadow: 0px 1px 3px 1px rgba(0, 0, 0, 0.15);\n",
              "      filter: drop-shadow(0px 1px 2px rgba(0, 0, 0, 0.3));\n",
              "      fill: #FFFFFF;\n",
              "    }\n",
              "  </style>\n",
              "\n",
              "      <script>\n",
              "        const buttonEl =\n",
              "          document.querySelector('#df-571f6a16-b1e6-4cb1-af11-1b51b7b24406 button.colab-df-convert');\n",
              "        buttonEl.style.display =\n",
              "          google.colab.kernel.accessAllowed ? 'block' : 'none';\n",
              "\n",
              "        async function convertToInteractive(key) {\n",
              "          const element = document.querySelector('#df-571f6a16-b1e6-4cb1-af11-1b51b7b24406');\n",
              "          const dataTable =\n",
              "            await google.colab.kernel.invokeFunction('convertToInteractive',\n",
              "                                                     [key], {});\n",
              "          if (!dataTable) return;\n",
              "\n",
              "          const docLinkHtml = 'Like what you see? Visit the ' +\n",
              "            '<a target=\"_blank\" href=https://colab.research.google.com/notebooks/data_table.ipynb>data table notebook</a>'\n",
              "            + ' to learn more about interactive tables.';\n",
              "          element.innerHTML = '';\n",
              "          dataTable['output_type'] = 'display_data';\n",
              "          await google.colab.output.renderOutput(dataTable, element);\n",
              "          const docLink = document.createElement('div');\n",
              "          docLink.innerHTML = docLinkHtml;\n",
              "          element.appendChild(docLink);\n",
              "        }\n",
              "      </script>\n",
              "    </div>\n",
              "  </div>\n",
              "  "
            ]
          },
          "metadata": {},
          "execution_count": 98
        }
      ]
    },
    {
      "cell_type": "markdown",
      "source": [
        "## 9. Plotting the data columns"
      ],
      "metadata": {
        "id": "-vnVI4jjdLEm"
      }
    },
    {
      "cell_type": "code",
      "source": [
        "plot_inputs_based_tags('inputs_word_count','inputs_length')"
      ],
      "metadata": {
        "colab": {
          "base_uri": "https://localhost:8080/",
          "height": 620
        },
        "id": "z406WMQvk-ZA",
        "outputId": "52de77be-a9de-4571-b66d-e40f04cdadb4"
      },
      "execution_count": 99,
      "outputs": [
        {
          "output_type": "display_data",
          "data": {
            "text/plain": [
              "<Figure size 720x288 with 1 Axes>"
            ],
            "image/png": "[encoded data removed]"
          },
          "metadata": {}
        },
        {
          "output_type": "display_data",
          "data": {
            "text/plain": [
              "<Figure size 792x576 with 0 Axes>"
            ]
          },
          "metadata": {}
        },
        {
          "output_type": "display_data",
          "data": {
            "text/plain": [
              "<Figure size 720x288 with 1 Axes>"
            ],
            "image/png": "[encoded data removed]"
          },
          "metadata": {}
        },
        {
          "output_type": "display_data",
          "data": {
            "text/plain": [
              "<Figure size 792x576 with 0 Axes>"
            ]
          },
          "metadata": {}
        }
      ]
    },
    {
      "cell_type": "markdown",
      "source": [
        "## 10. Collecting data for graphical analysis"
      ],
      "metadata": {
        "id": "OOKQCdtddaFl"
      }
    },
    {
      "cell_type": "code",
      "source": [
        "data['unique_word_count']=data.inputs.map(lambda x:len(set(str(x).split())))\n",
        "data['mean_word_length']=data.inputs.map(lambda x:np.mean([len(w) for w in str(x).split()]))\n",
        "print(data)\n",
        "plot_inputs_based_tags('unique_word_count','mean_word_length')"
      ],
      "metadata": {
        "colab": {
          "base_uri": "https://localhost:8080/",
          "height": 1000
        },
        "id": "s825EK8uj11G",
        "outputId": "bb9b4230-5bd3-44c2-dee1-06d2d0436318"
      },
      "execution_count": 100,
      "outputs": [
        {
          "output_type": "stream",
          "name": "stdout",
          "text": [
            "           inputs      tags  inputs_word_count  inputs_length  \\\n",
            "0         hello!!  greeting                  1              7   \n",
            "1     hi! there..  greeting                  2             11   \n",
            "2       welcome!!  greeting                  1              9   \n",
            "3        nice:>:>  greeting                  1              8   \n",
            "4      wind up...  greeting                  2             10   \n",
            "..            ...       ...                ...            ...   \n",
            "85         cancel       pre                  1              6   \n",
            "86        love me       pre                  2              7   \n",
            "87          token       pre                  1              5   \n",
            "88           coin       pre                  1              4   \n",
            "89  have mercy!!!       pre                  2             13   \n",
            "\n",
            "    unique_word_count  mean_word_length  \n",
            "0                   1               7.0  \n",
            "1                   2               5.0  \n",
            "2                   1               9.0  \n",
            "3                   1               8.0  \n",
            "4                   2               4.5  \n",
            "..                ...               ...  \n",
            "85                  1               6.0  \n",
            "86                  2               3.0  \n",
            "87                  1               5.0  \n",
            "88                  1               4.0  \n",
            "89                  2               6.0  \n",
            "\n",
            "[90 rows x 6 columns]\n"
          ]
        },
        {
          "output_type": "display_data",
          "data": {
            "text/plain": [
              "<Figure size 720x288 with 1 Axes>"
            ],
            "image/png": "[encoded data removed]"
          },
          "metadata": {}
        },
        {
          "output_type": "display_data",
          "data": {
            "text/plain": [
              "<Figure size 792x576 with 0 Axes>"
            ]
          },
          "metadata": {}
        },
        {
          "output_type": "display_data",
          "data": {
            "text/plain": [
              "<Figure size 720x288 with 1 Axes>"
            ],
            "image/png": "[encoded data removed]"
          },
          "metadata": {}
        },
        {
          "output_type": "display_data",
          "data": {
            "text/plain": [
              "<Figure size 792x576 with 0 Axes>"
            ]
          },
          "metadata": {}
        }
      ]
    },
    {
      "cell_type": "code",
      "source": [
        "import string\n",
        "data['punctuation_count']=data['inputs'].map(lambda x:len([c for c in str(x) if c in string.punctuation]))\n",
        "plot_inputs_based_tags('inputs_word_count','punctuation_count')"
      ],
      "metadata": {
        "colab": {
          "base_uri": "https://localhost:8080/",
          "height": 620
        },
        "id": "7WZEKE4g3yCo",
        "outputId": "1ced8168-292e-4cf1-c4e4-a5fbed4a14ec"
      },
      "execution_count": 101,
      "outputs": [
        {
          "output_type": "display_data",
          "data": {
            "text/plain": [
              "<Figure size 720x288 with 1 Axes>"
            ],
            "image/png": "[encoded data removed]"
          },
          "metadata": {}
        },
        {
          "output_type": "display_data",
          "data": {
            "text/plain": [
              "<Figure size 792x576 with 0 Axes>"
            ]
          },
          "metadata": {}
        },
        {
          "output_type": "display_data",
          "data": {
            "text/plain": [
              "<Figure size 720x288 with 1 Axes>"
            ],
            "image/png": "[encoded data removed]"
          },
          "metadata": {}
        },
        {
          "output_type": "display_data",
          "data": {
            "text/plain": [
              "<Figure size 792x576 with 0 Axes>"
            ]
          },
          "metadata": {}
        }
      ]
    },
    {
      "cell_type": "markdown",
      "source": [
        "## 11. Final dataset after data mining"
      ],
      "metadata": {
        "id": "dvzBU3nrdmdE"
      }
    },
    {
      "cell_type": "code",
      "source": [
        "data['inputs']=data['inputs'].apply(lambda wrd:[ltrs.lower() for ltrs in wrd if ltrs not in string.punctuation])\n",
        "data['inputs']=data['inputs'].apply(lambda wrd:''.join(wrd))\n",
        "data"
      ],
      "metadata": {
        "colab": {
          "base_uri": "https://localhost:8080/",
          "height": 424
        },
        "id": "JXLFdnw0j37f",
        "outputId": "5e4dd4dd-9b16-41a6-aeee-19cf61b54c93"
      },
      "execution_count": 63,
      "outputs": [
        {
          "output_type": "execute_result",
          "data": {
            "text/plain": [
              "        inputs           tags  inputs_word_count  inputs_length  \\\n",
              "0        hello       greeting                  1              7   \n",
              "1     hi there       greeting                  2             11   \n",
              "2      welcome       greeting                  1              9   \n",
              "3         nice       greeting                  1              8   \n",
              "4      wind up       greeting                  2             10   \n",
              "..         ...            ...                ...            ...   \n",
              "85      cancel  prerequisites                  1              6   \n",
              "86     love me  prerequisites                  2              7   \n",
              "87       token  prerequisites                  1              5   \n",
              "88        coin  prerequisites                  1              4   \n",
              "89  have mercy  prerequisites                  2             13   \n",
              "\n",
              "    unique_word_count  mean_word_length  punctuation_count  \n",
              "0                   1               7.0                  2  \n",
              "1                   2               5.0                  3  \n",
              "2                   1               9.0                  2  \n",
              "3                   1               8.0                  4  \n",
              "4                   2               4.5                  3  \n",
              "..                ...               ...                ...  \n",
              "85                  1               6.0                  0  \n",
              "86                  2               3.0                  0  \n",
              "87                  1               5.0                  0  \n",
              "88                  1               4.0                  0  \n",
              "89                  2               6.0                  3  \n",
              "\n",
              "[90 rows x 7 columns]"
            ],
            "text/html": [
              "\n",
              "  <div id=\"df-6465873b-a923-4c88-9687-790c86388a4d\">\n",
              "    <div class=\"colab-df-container\">\n",
              "      <div>\n",
              "<style scoped>\n",
              "    .dataframe tbody tr th:only-of-type {\n",
              "        vertical-align: middle;\n",
              "    }\n",
              "\n",
              "    .dataframe tbody tr th {\n",
              "        vertical-align: top;\n",
              "    }\n",
              "\n",
              "    .dataframe thead th {\n",
              "        text-align: right;\n",
              "    }\n",
              "</style>\n",
              "<table border=\"1\" class=\"dataframe\">\n",
              "  <thead>\n",
              "    <tr style=\"text-align: right;\">\n",
              "      <th></th>\n",
              "      <th>inputs</th>\n",
              "      <th>tags</th>\n",
              "      <th>inputs_word_count</th>\n",
              "      <th>inputs_length</th>\n",
              "      <th>unique_word_count</th>\n",
              "      <th>mean_word_length</th>\n",
              "      <th>punctuation_count</th>\n",
              "    </tr>\n",
              "  </thead>\n",
              "  <tbody>\n",
              "    <tr>\n",
              "      <th>0</th>\n",
              "      <td>hello</td>\n",
              "      <td>greeting</td>\n",
              "      <td>1</td>\n",
              "      <td>7</td>\n",
              "      <td>1</td>\n",
              "      <td>7.0</td>\n",
              "      <td>2</td>\n",
              "    </tr>\n",
              "    <tr>\n",
              "      <th>1</th>\n",
              "      <td>hi there</td>\n",
              "      <td>greeting</td>\n",
              "      <td>2</td>\n",
              "      <td>11</td>\n",
              "      <td>2</td>\n",
              "      <td>5.0</td>\n",
              "      <td>3</td>\n",
              "    </tr>\n",
              "    <tr>\n",
              "      <th>2</th>\n",
              "      <td>welcome</td>\n",
              "      <td>greeting</td>\n",
              "      <td>1</td>\n",
              "      <td>9</td>\n",
              "      <td>1</td>\n",
              "      <td>9.0</td>\n",
              "      <td>2</td>\n",
              "    </tr>\n",
              "    <tr>\n",
              "      <th>3</th>\n",
              "      <td>nice</td>\n",
              "      <td>greeting</td>\n",
              "      <td>1</td>\n",
              "      <td>8</td>\n",
              "      <td>1</td>\n",
              "      <td>8.0</td>\n",
              "      <td>4</td>\n",
              "    </tr>\n",
              "    <tr>\n",
              "      <th>4</th>\n",
              "      <td>wind up</td>\n",
              "      <td>greeting</td>\n",
              "      <td>2</td>\n",
              "      <td>10</td>\n",
              "      <td>2</td>\n",
              "      <td>4.5</td>\n",
              "      <td>3</td>\n",
              "    </tr>\n",
              "    <tr>\n",
              "      <th>...</th>\n",
              "      <td>...</td>\n",
              "      <td>...</td>\n",
              "      <td>...</td>\n",
              "      <td>...</td>\n",
              "      <td>...</td>\n",
              "      <td>...</td>\n",
              "      <td>...</td>\n",
              "    </tr>\n",
              "    <tr>\n",
              "      <th>85</th>\n",
              "      <td>cancel</td>\n",
              "      <td>prerequisites</td>\n",
              "      <td>1</td>\n",
              "      <td>6</td>\n",
              "      <td>1</td>\n",
              "      <td>6.0</td>\n",
              "      <td>0</td>\n",
              "    </tr>\n",
              "    <tr>\n",
              "      <th>86</th>\n",
              "      <td>love me</td>\n",
              "      <td>prerequisites</td>\n",
              "      <td>2</td>\n",
              "      <td>7</td>\n",
              "      <td>2</td>\n",
              "      <td>3.0</td>\n",
              "      <td>0</td>\n",
              "    </tr>\n",
              "    <tr>\n",
              "      <th>87</th>\n",
              "      <td>token</td>\n",
              "      <td>prerequisites</td>\n",
              "      <td>1</td>\n",
              "      <td>5</td>\n",
              "      <td>1</td>\n",
              "      <td>5.0</td>\n",
              "      <td>0</td>\n",
              "    </tr>\n",
              "    <tr>\n",
              "      <th>88</th>\n",
              "      <td>coin</td>\n",
              "      <td>prerequisites</td>\n",
              "      <td>1</td>\n",
              "      <td>4</td>\n",
              "      <td>1</td>\n",
              "      <td>4.0</td>\n",
              "      <td>0</td>\n",
              "    </tr>\n",
              "    <tr>\n",
              "      <th>89</th>\n",
              "      <td>have mercy</td>\n",
              "      <td>prerequisites</td>\n",
              "      <td>2</td>\n",
              "      <td>13</td>\n",
              "      <td>2</td>\n",
              "      <td>6.0</td>\n",
              "      <td>3</td>\n",
              "    </tr>\n",
              "  </tbody>\n",
              "</table>\n",
              "<p>90 rows × 7 columns</p>\n",
              "</div>\n",
              "      <button class=\"colab-df-convert\" onclick=\"convertToInteractive('df-6465873b-a923-4c88-9687-790c86388a4d')\"\n",
              "              title=\"Convert this dataframe to an interactive table.\"\n",
              "              style=\"display:none;\">\n",
              "        \n",
              "  <svg xmlns=\"http://www.w3.org/2000/svg\" height=\"24px\"viewBox=\"0 0 24 24\"\n",
              "       width=\"24px\">\n",
              "    <path d=\"M0 0h24v24H0V0z\" fill=\"none\"/>\n",
              "    <path d=\"M18.56 5.44l.94 2.06.94-2.06 2.06-.94-2.06-.94-.94-2.06-.94 2.06-2.06.94zm-11 1L8.5 8.5l.94-2.06 2.06-.94-2.06-.94L8.5 2.5l-.94 2.06-2.06.94zm10 10l.94 2.06.94-2.06 2.06-.94-2.06-.94-.94-2.06-.94 2.06-2.06.94z\"/><path d=\"M17.41 7.96l-1.37-1.37c-.4-.4-.92-.59-1.43-.59-.52 0-1.04.2-1.43.59L10.3 9.45l-7.72 7.72c-.78.78-.78 2.05 0 2.83L4 21.41c.39.39.9.59 1.41.59.51 0 1.02-.2 1.41-.59l7.78-7.78 2.81-2.81c.8-.78.8-2.07 0-2.86zM5.41 20L4 18.59l7.72-7.72 1.47 1.35L5.41 20z\"/>\n",
              "  </svg>\n",
              "      </button>\n",
              "      \n",
              "  <style>\n",
              "    .colab-df-container {\n",
              "      display:flex;\n",
              "      flex-wrap:wrap;\n",
              "      gap: 12px;\n",
              "    }\n",
              "\n",
              "    .colab-df-convert {\n",
              "      background-color: #E8F0FE;\n",
              "      border: none;\n",
              "      border-radius: 50%;\n",
              "      cursor: pointer;\n",
              "      display: none;\n",
              "      fill: #1967D2;\n",
              "      height: 32px;\n",
              "      padding: 0 0 0 0;\n",
              "      width: 32px;\n",
              "    }\n",
              "\n",
              "    .colab-df-convert:hover {\n",
              "      background-color: #E2EBFA;\n",
              "      box-shadow: 0px 1px 2px rgba(60, 64, 67, 0.3), 0px 1px 3px 1px rgba(60, 64, 67, 0.15);\n",
              "      fill: #174EA6;\n",
              "    }\n",
              "\n",
              "    [theme=dark] .colab-df-convert {\n",
              "      background-color: #3B4455;\n",
              "      fill: #D2E3FC;\n",
              "    }\n",
              "\n",
              "    [theme=dark] .colab-df-convert:hover {\n",
              "      background-color: #434B5C;\n",
              "      box-shadow: 0px 1px 3px 1px rgba(0, 0, 0, 0.15);\n",
              "      filter: drop-shadow(0px 1px 2px rgba(0, 0, 0, 0.3));\n",
              "      fill: #FFFFFF;\n",
              "    }\n",
              "  </style>\n",
              "\n",
              "      <script>\n",
              "        const buttonEl =\n",
              "          document.querySelector('#df-6465873b-a923-4c88-9687-790c86388a4d button.colab-df-convert');\n",
              "        buttonEl.style.display =\n",
              "          google.colab.kernel.accessAllowed ? 'block' : 'none';\n",
              "\n",
              "        async function convertToInteractive(key) {\n",
              "          const element = document.querySelector('#df-6465873b-a923-4c88-9687-790c86388a4d');\n",
              "          const dataTable =\n",
              "            await google.colab.kernel.invokeFunction('convertToInteractive',\n",
              "                                                     [key], {});\n",
              "          if (!dataTable) return;\n",
              "\n",
              "          const docLinkHtml = 'Like what you see? Visit the ' +\n",
              "            '<a target=\"_blank\" href=https://colab.research.google.com/notebooks/data_table.ipynb>data table notebook</a>'\n",
              "            + ' to learn more about interactive tables.';\n",
              "          element.innerHTML = '';\n",
              "          dataTable['output_type'] = 'display_data';\n",
              "          await google.colab.output.renderOutput(dataTable, element);\n",
              "          const docLink = document.createElement('div');\n",
              "          docLink.innerHTML = docLinkHtml;\n",
              "          element.appendChild(docLink);\n",
              "        }\n",
              "      </script>\n",
              "    </div>\n",
              "  </div>\n",
              "  "
            ]
          },
          "metadata": {},
          "execution_count": 63
        }
      ]
    },
    {
      "cell_type": "markdown",
      "source": [
        "## 12. Importing libraries for natural processing "
      ],
      "metadata": {
        "id": "MtjmlKRIdt57"
      }
    },
    {
      "cell_type": "code",
      "source": [
        "from tensorflow.keras.preprocessing.text import Tokenizer\n",
        "tokenizer=Tokenizer(num_words=2000)\n",
        "tokenizer.fit_on_texts(data['inputs'])\n",
        "train=tokenizer.texts_to_sequences(data['inputs'])\n",
        "from tensorflow.keras.preprocessing.sequence import pad_sequences\n",
        "x_train=pad_sequences(train)\n",
        "from sklearn.preprocessing import LabelEncoder\n",
        "le=LabelEncoder()\n",
        "y_train=le.fit_transform(data['tags'])"
      ],
      "metadata": {
        "id": "uu3GOlOzj8Cu"
      },
      "execution_count": 64,
      "outputs": []
    },
    {
      "cell_type": "code",
      "source": [
        "input_shape=x_train.shape[1]\n",
        "print(input_shape)\n",
        "output_shape=len(y_train)\n",
        "print(output_shape)"
      ],
      "metadata": {
        "colab": {
          "base_uri": "https://localhost:8080/"
        },
        "id": "IOHfaKohj98f",
        "outputId": "27973346-d657-4c0b-8af7-70335657e5cf"
      },
      "execution_count": 65,
      "outputs": [
        {
          "output_type": "stream",
          "name": "stdout",
          "text": [
            "6\n",
            "90\n"
          ]
        }
      ]
    },
    {
      "cell_type": "markdown",
      "source": [
        "## 13. Vocabularies load in the word dictionary"
      ],
      "metadata": {
        "id": "a8I5PgK8d7EG"
      }
    },
    {
      "cell_type": "code",
      "source": [
        "vocabulary=len(tokenizer.word_index)\n",
        "print(\"number of unique words: \",vocabulary)\n",
        "output_length=le.classes_.shape[0]\n",
        "print(\"output length: \",output_length)"
      ],
      "metadata": {
        "colab": {
          "base_uri": "https://localhost:8080/"
        },
        "id": "-KRIkvTXj_U_",
        "outputId": "950e2056-362f-4f6e-bea8-50cf71500073"
      },
      "execution_count": 66,
      "outputs": [
        {
          "output_type": "stream",
          "name": "stdout",
          "text": [
            "number of unique words:  130\n",
            "output length:  6\n"
          ]
        }
      ]
    },
    {
      "cell_type": "markdown",
      "source": [
        "## 14. Creating model using LSTM "
      ],
      "metadata": {
        "id": "pH7DyGrjeEtK"
      }
    },
    {
      "cell_type": "code",
      "source": [
        "i=Input(shape=(input_shape,))\n",
        "x=Embedding(vocabulary+1,10)(i)\n",
        "x=LSTM(10,return_sequences=True)(x)\n",
        "x=Flatten()(x)\n",
        "x=Dense(output_length,activation=\"softmax\")(x)\n",
        "model=Model(i,x)"
      ],
      "metadata": {
        "id": "8Rq6w8DukBx-"
      },
      "execution_count": 67,
      "outputs": []
    },
    {
      "cell_type": "markdown",
      "source": [
        "## 15. Compiling and training the model using deep learning and RNN-LSTM"
      ],
      "metadata": {
        "id": "4soTCHyseLRl"
      }
    },
    {
      "cell_type": "code",
      "source": [
        "model.compile(loss=\"sparse_categorical_crossentropy\",optimizer='adam',metrics=['accuracy'])"
      ],
      "metadata": {
        "id": "jGhQZD5QkDPd"
      },
      "execution_count": 68,
      "outputs": []
    },
    {
      "cell_type": "code",
      "source": [
        "train=model.fit(x_train,y_train,epochs=200)"
      ],
      "metadata": {
        "colab": {
          "base_uri": "https://localhost:8080/"
        },
        "id": "j50tmLc6kFCh",
        "outputId": "230953b2-37bc-4e00-b392-3def9570a532"
      },
      "execution_count": 69,
      "outputs": [
        {
          "output_type": "stream",
          "name": "stdout",
          "text": [
            "Epoch 1/200\n",
            "3/3 [==============================] - 2s 7ms/step - loss: 1.7924 - accuracy: 0.1111\n",
            "Epoch 2/200\n",
            "3/3 [==============================] - 0s 7ms/step - loss: 1.7901 - accuracy: 0.2111\n",
            "Epoch 3/200\n",
            "3/3 [==============================] - 0s 7ms/step - loss: 1.7885 - accuracy: 0.2889\n",
            "Epoch 4/200\n",
            "3/3 [==============================] - 0s 7ms/step - loss: 1.7868 - accuracy: 0.2667\n",
            "Epoch 5/200\n",
            "3/3 [==============================] - 0s 8ms/step - loss: 1.7848 - accuracy: 0.2667\n",
            "Epoch 6/200\n",
            "3/3 [==============================] - 0s 7ms/step - loss: 1.7831 - accuracy: 0.2444\n",
            "Epoch 7/200\n",
            "3/3 [==============================] - 0s 7ms/step - loss: 1.7816 - accuracy: 0.2444\n",
            "Epoch 8/200\n",
            "3/3 [==============================] - 0s 7ms/step - loss: 1.7797 - accuracy: 0.2444\n",
            "Epoch 9/200\n",
            "3/3 [==============================] - 0s 7ms/step - loss: 1.7778 - accuracy: 0.2444\n",
            "Epoch 10/200\n",
            "3/3 [==============================] - 0s 7ms/step - loss: 1.7756 - accuracy: 0.2444\n",
            "Epoch 11/200\n",
            "3/3 [==============================] - 0s 7ms/step - loss: 1.7735 - accuracy: 0.2444\n",
            "Epoch 12/200\n",
            "3/3 [==============================] - 0s 7ms/step - loss: 1.7717 - accuracy: 0.2444\n",
            "Epoch 13/200\n",
            "3/3 [==============================] - 0s 7ms/step - loss: 1.7687 - accuracy: 0.2444\n",
            "Epoch 14/200\n",
            "3/3 [==============================] - 0s 7ms/step - loss: 1.7660 - accuracy: 0.2444\n",
            "Epoch 15/200\n",
            "3/3 [==============================] - 0s 7ms/step - loss: 1.7635 - accuracy: 0.2444\n",
            "Epoch 16/200\n",
            "3/3 [==============================] - 0s 7ms/step - loss: 1.7606 - accuracy: 0.2444\n",
            "Epoch 17/200\n",
            "3/3 [==============================] - 0s 7ms/step - loss: 1.7572 - accuracy: 0.2444\n",
            "Epoch 18/200\n",
            "3/3 [==============================] - 0s 7ms/step - loss: 1.7538 - accuracy: 0.2444\n",
            "Epoch 19/200\n",
            "3/3 [==============================] - 0s 7ms/step - loss: 1.7503 - accuracy: 0.2444\n",
            "Epoch 20/200\n",
            "3/3 [==============================] - 0s 9ms/step - loss: 1.7464 - accuracy: 0.2444\n",
            "Epoch 21/200\n",
            "3/3 [==============================] - 0s 7ms/step - loss: 1.7417 - accuracy: 0.2444\n",
            "Epoch 22/200\n",
            "3/3 [==============================] - 0s 8ms/step - loss: 1.7371 - accuracy: 0.2444\n",
            "Epoch 23/200\n",
            "3/3 [==============================] - 0s 7ms/step - loss: 1.7320 - accuracy: 0.2444\n",
            "Epoch 24/200\n",
            "3/3 [==============================] - 0s 8ms/step - loss: 1.7267 - accuracy: 0.2444\n",
            "Epoch 25/200\n",
            "3/3 [==============================] - 0s 7ms/step - loss: 1.7212 - accuracy: 0.2444\n",
            "Epoch 26/200\n",
            "3/3 [==============================] - 0s 9ms/step - loss: 1.7145 - accuracy: 0.2444\n",
            "Epoch 27/200\n",
            "3/3 [==============================] - 0s 7ms/step - loss: 1.7083 - accuracy: 0.2444\n",
            "Epoch 28/200\n",
            "3/3 [==============================] - 0s 7ms/step - loss: 1.7017 - accuracy: 0.2444\n",
            "Epoch 29/200\n",
            "3/3 [==============================] - 0s 7ms/step - loss: 1.6938 - accuracy: 0.2444\n",
            "Epoch 30/200\n",
            "3/3 [==============================] - 0s 7ms/step - loss: 1.6855 - accuracy: 0.2556\n",
            "Epoch 31/200\n",
            "3/3 [==============================] - 0s 7ms/step - loss: 1.6770 - accuracy: 0.2556\n",
            "Epoch 32/200\n",
            "3/3 [==============================] - 0s 7ms/step - loss: 1.6677 - accuracy: 0.2778\n",
            "Epoch 33/200\n",
            "3/3 [==============================] - 0s 7ms/step - loss: 1.6576 - accuracy: 0.3000\n",
            "Epoch 34/200\n",
            "3/3 [==============================] - 0s 7ms/step - loss: 1.6461 - accuracy: 0.3222\n",
            "Epoch 35/200\n",
            "3/3 [==============================] - 0s 7ms/step - loss: 1.6339 - accuracy: 0.3222\n",
            "Epoch 36/200\n",
            "3/3 [==============================] - 0s 8ms/step - loss: 1.6217 - accuracy: 0.3333\n",
            "Epoch 37/200\n",
            "3/3 [==============================] - 0s 8ms/step - loss: 1.6078 - accuracy: 0.3556\n",
            "Epoch 38/200\n",
            "3/3 [==============================] - 0s 7ms/step - loss: 1.5933 - accuracy: 0.3667\n",
            "Epoch 39/200\n",
            "3/3 [==============================] - 0s 7ms/step - loss: 1.5773 - accuracy: 0.3778\n",
            "Epoch 40/200\n",
            "3/3 [==============================] - 0s 7ms/step - loss: 1.5606 - accuracy: 0.4000\n",
            "Epoch 41/200\n",
            "3/3 [==============================] - 0s 7ms/step - loss: 1.5424 - accuracy: 0.4222\n",
            "Epoch 42/200\n",
            "3/3 [==============================] - 0s 10ms/step - loss: 1.5235 - accuracy: 0.4333\n",
            "Epoch 43/200\n",
            "3/3 [==============================] - 0s 9ms/step - loss: 1.5029 - accuracy: 0.4444\n",
            "Epoch 44/200\n",
            "3/3 [==============================] - 0s 7ms/step - loss: 1.4818 - accuracy: 0.4444\n",
            "Epoch 45/200\n",
            "3/3 [==============================] - 0s 9ms/step - loss: 1.4601 - accuracy: 0.4444\n",
            "Epoch 46/200\n",
            "3/3 [==============================] - 0s 7ms/step - loss: 1.4376 - accuracy: 0.4444\n",
            "Epoch 47/200\n",
            "3/3 [==============================] - 0s 7ms/step - loss: 1.4136 - accuracy: 0.4444\n",
            "Epoch 48/200\n",
            "3/3 [==============================] - 0s 7ms/step - loss: 1.3899 - accuracy: 0.4556\n",
            "Epoch 49/200\n",
            "3/3 [==============================] - 0s 7ms/step - loss: 1.3651 - accuracy: 0.4556\n",
            "Epoch 50/200\n",
            "3/3 [==============================] - 0s 6ms/step - loss: 1.3401 - accuracy: 0.4889\n",
            "Epoch 51/200\n",
            "3/3 [==============================] - 0s 10ms/step - loss: 1.3148 - accuracy: 0.5000\n",
            "Epoch 52/200\n",
            "3/3 [==============================] - 0s 7ms/step - loss: 1.2894 - accuracy: 0.5000\n",
            "Epoch 53/200\n",
            "3/3 [==============================] - 0s 7ms/step - loss: 1.2644 - accuracy: 0.5111\n",
            "Epoch 54/200\n",
            "3/3 [==============================] - 0s 8ms/step - loss: 1.2392 - accuracy: 0.5111\n",
            "Epoch 55/200\n",
            "3/3 [==============================] - 0s 7ms/step - loss: 1.2146 - accuracy: 0.5111\n",
            "Epoch 56/200\n",
            "3/3 [==============================] - 0s 7ms/step - loss: 1.1894 - accuracy: 0.5222\n",
            "Epoch 57/200\n",
            "3/3 [==============================] - 0s 7ms/step - loss: 1.1651 - accuracy: 0.5778\n",
            "Epoch 58/200\n",
            "3/3 [==============================] - 0s 7ms/step - loss: 1.1414 - accuracy: 0.6667\n",
            "Epoch 59/200\n",
            "3/3 [==============================] - 0s 7ms/step - loss: 1.1180 - accuracy: 0.6667\n",
            "Epoch 60/200\n",
            "3/3 [==============================] - 0s 7ms/step - loss: 1.0948 - accuracy: 0.6556\n",
            "Epoch 61/200\n",
            "3/3 [==============================] - 0s 7ms/step - loss: 1.0734 - accuracy: 0.6889\n",
            "Epoch 62/200\n",
            "3/3 [==============================] - 0s 8ms/step - loss: 1.0511 - accuracy: 0.6889\n",
            "Epoch 63/200\n",
            "3/3 [==============================] - 0s 11ms/step - loss: 1.0298 - accuracy: 0.6889\n",
            "Epoch 64/200\n",
            "3/3 [==============================] - 0s 7ms/step - loss: 1.0093 - accuracy: 0.7000\n",
            "Epoch 65/200\n",
            "3/3 [==============================] - 0s 8ms/step - loss: 0.9883 - accuracy: 0.7000\n",
            "Epoch 66/200\n",
            "3/3 [==============================] - 0s 9ms/step - loss: 0.9697 - accuracy: 0.7111\n",
            "Epoch 67/200\n",
            "3/3 [==============================] - 0s 7ms/step - loss: 0.9501 - accuracy: 0.7333\n",
            "Epoch 68/200\n",
            "3/3 [==============================] - 0s 7ms/step - loss: 0.9322 - accuracy: 0.7333\n",
            "Epoch 69/200\n",
            "3/3 [==============================] - 0s 12ms/step - loss: 0.9142 - accuracy: 0.7333\n",
            "Epoch 70/200\n",
            "3/3 [==============================] - 0s 7ms/step - loss: 0.8967 - accuracy: 0.7667\n",
            "Epoch 71/200\n",
            "3/3 [==============================] - 0s 8ms/step - loss: 0.8793 - accuracy: 0.7778\n",
            "Epoch 72/200\n",
            "3/3 [==============================] - 0s 8ms/step - loss: 0.8621 - accuracy: 0.7889\n",
            "Epoch 73/200\n",
            "3/3 [==============================] - 0s 8ms/step - loss: 0.8467 - accuracy: 0.8000\n",
            "Epoch 74/200\n",
            "3/3 [==============================] - 0s 8ms/step - loss: 0.8311 - accuracy: 0.8111\n",
            "Epoch 75/200\n",
            "3/3 [==============================] - 0s 7ms/step - loss: 0.8151 - accuracy: 0.8000\n",
            "Epoch 76/200\n",
            "3/3 [==============================] - 0s 9ms/step - loss: 0.8011 - accuracy: 0.8444\n",
            "Epoch 77/200\n",
            "3/3 [==============================] - 0s 7ms/step - loss: 0.7849 - accuracy: 0.8444\n",
            "Epoch 78/200\n",
            "3/3 [==============================] - 0s 7ms/step - loss: 0.7706 - accuracy: 0.8222\n",
            "Epoch 79/200\n",
            "3/3 [==============================] - 0s 7ms/step - loss: 0.7575 - accuracy: 0.8222\n",
            "Epoch 80/200\n",
            "3/3 [==============================] - 0s 7ms/step - loss: 0.7433 - accuracy: 0.8333\n",
            "Epoch 81/200\n",
            "3/3 [==============================] - 0s 7ms/step - loss: 0.7289 - accuracy: 0.8444\n",
            "Epoch 82/200\n",
            "3/3 [==============================] - 0s 7ms/step - loss: 0.7164 - accuracy: 0.8667\n",
            "Epoch 83/200\n",
            "3/3 [==============================] - 0s 7ms/step - loss: 0.7030 - accuracy: 0.8778\n",
            "Epoch 84/200\n",
            "3/3 [==============================] - 0s 7ms/step - loss: 0.6901 - accuracy: 0.8556\n",
            "Epoch 85/200\n",
            "3/3 [==============================] - 0s 9ms/step - loss: 0.6770 - accuracy: 0.8778\n",
            "Epoch 86/200\n",
            "3/3 [==============================] - 0s 6ms/step - loss: 0.6663 - accuracy: 0.8778\n",
            "Epoch 87/200\n",
            "3/3 [==============================] - 0s 7ms/step - loss: 0.6542 - accuracy: 0.8778\n",
            "Epoch 88/200\n",
            "3/3 [==============================] - 0s 7ms/step - loss: 0.6410 - accuracy: 0.8778\n",
            "Epoch 89/200\n",
            "3/3 [==============================] - 0s 7ms/step - loss: 0.6310 - accuracy: 0.8778\n",
            "Epoch 90/200\n",
            "3/3 [==============================] - 0s 8ms/step - loss: 0.6189 - accuracy: 0.8889\n",
            "Epoch 91/200\n",
            "3/3 [==============================] - 0s 9ms/step - loss: 0.6078 - accuracy: 0.8889\n",
            "Epoch 92/200\n",
            "3/3 [==============================] - 0s 7ms/step - loss: 0.5980 - accuracy: 0.8889\n",
            "Epoch 93/200\n",
            "3/3 [==============================] - 0s 7ms/step - loss: 0.5878 - accuracy: 0.8889\n",
            "Epoch 94/200\n",
            "3/3 [==============================] - 0s 6ms/step - loss: 0.5759 - accuracy: 0.8889\n",
            "Epoch 95/200\n",
            "3/3 [==============================] - 0s 7ms/step - loss: 0.5660 - accuracy: 0.8889\n",
            "Epoch 96/200\n",
            "3/3 [==============================] - 0s 10ms/step - loss: 0.5561 - accuracy: 0.8889\n",
            "Epoch 97/200\n",
            "3/3 [==============================] - 0s 7ms/step - loss: 0.5450 - accuracy: 0.8889\n",
            "Epoch 98/200\n",
            "3/3 [==============================] - 0s 7ms/step - loss: 0.5368 - accuracy: 0.8889\n",
            "Epoch 99/200\n",
            "3/3 [==============================] - 0s 7ms/step - loss: 0.5274 - accuracy: 0.8889\n",
            "Epoch 100/200\n",
            "3/3 [==============================] - 0s 7ms/step - loss: 0.5187 - accuracy: 0.8889\n",
            "Epoch 101/200\n",
            "3/3 [==============================] - 0s 7ms/step - loss: 0.5092 - accuracy: 0.8889\n",
            "Epoch 102/200\n",
            "3/3 [==============================] - 0s 8ms/step - loss: 0.5000 - accuracy: 0.8889\n",
            "Epoch 103/200\n",
            "3/3 [==============================] - 0s 7ms/step - loss: 0.4909 - accuracy: 0.8889\n",
            "Epoch 104/200\n",
            "3/3 [==============================] - 0s 7ms/step - loss: 0.4843 - accuracy: 0.8889\n",
            "Epoch 105/200\n",
            "3/3 [==============================] - 0s 6ms/step - loss: 0.4742 - accuracy: 0.8889\n",
            "Epoch 106/200\n",
            "3/3 [==============================] - 0s 7ms/step - loss: 0.4684 - accuracy: 0.8889\n",
            "Epoch 107/200\n",
            "3/3 [==============================] - 0s 9ms/step - loss: 0.4595 - accuracy: 0.8889\n",
            "Epoch 108/200\n",
            "3/3 [==============================] - 0s 7ms/step - loss: 0.4545 - accuracy: 0.8889\n",
            "Epoch 109/200\n",
            "3/3 [==============================] - 0s 7ms/step - loss: 0.4454 - accuracy: 0.8889\n",
            "Epoch 110/200\n",
            "3/3 [==============================] - 0s 7ms/step - loss: 0.4403 - accuracy: 0.8889\n",
            "Epoch 111/200\n",
            "3/3 [==============================] - 0s 7ms/step - loss: 0.4300 - accuracy: 0.9000\n",
            "Epoch 112/200\n",
            "3/3 [==============================] - 0s 8ms/step - loss: 0.4230 - accuracy: 0.8889\n",
            "Epoch 113/200\n",
            "3/3 [==============================] - 0s 7ms/step - loss: 0.4163 - accuracy: 0.9000\n",
            "Epoch 114/200\n",
            "3/3 [==============================] - 0s 8ms/step - loss: 0.4099 - accuracy: 0.9000\n",
            "Epoch 115/200\n",
            "3/3 [==============================] - 0s 7ms/step - loss: 0.4049 - accuracy: 0.8889\n",
            "Epoch 116/200\n",
            "3/3 [==============================] - 0s 7ms/step - loss: 0.3973 - accuracy: 0.9000\n",
            "Epoch 117/200\n",
            "3/3 [==============================] - 0s 7ms/step - loss: 0.3944 - accuracy: 0.9111\n",
            "Epoch 118/200\n",
            "3/3 [==============================] - 0s 7ms/step - loss: 0.3886 - accuracy: 0.9111\n",
            "Epoch 119/200\n",
            "3/3 [==============================] - 0s 7ms/step - loss: 0.3792 - accuracy: 0.8889\n",
            "Epoch 120/200\n",
            "3/3 [==============================] - 0s 7ms/step - loss: 0.3735 - accuracy: 0.8889\n",
            "Epoch 121/200\n",
            "3/3 [==============================] - 0s 7ms/step - loss: 0.3682 - accuracy: 0.8889\n",
            "Epoch 122/200\n",
            "3/3 [==============================] - 0s 7ms/step - loss: 0.3630 - accuracy: 0.9111\n",
            "Epoch 123/200\n",
            "3/3 [==============================] - 0s 7ms/step - loss: 0.3570 - accuracy: 0.9111\n",
            "Epoch 124/200\n",
            "3/3 [==============================] - 0s 8ms/step - loss: 0.3528 - accuracy: 0.9111\n",
            "Epoch 125/200\n",
            "3/3 [==============================] - 0s 7ms/step - loss: 0.3467 - accuracy: 0.9444\n",
            "Epoch 126/200\n",
            "3/3 [==============================] - 0s 7ms/step - loss: 0.3421 - accuracy: 0.9444\n",
            "Epoch 127/200\n",
            "3/3 [==============================] - 0s 7ms/step - loss: 0.3373 - accuracy: 0.9444\n",
            "Epoch 128/200\n",
            "3/3 [==============================] - 0s 9ms/step - loss: 0.3346 - accuracy: 0.9333\n",
            "Epoch 129/200\n",
            "3/3 [==============================] - 0s 8ms/step - loss: 0.3278 - accuracy: 0.9444\n",
            "Epoch 130/200\n",
            "3/3 [==============================] - 0s 9ms/step - loss: 0.3238 - accuracy: 0.9444\n",
            "Epoch 131/200\n",
            "3/3 [==============================] - 0s 12ms/step - loss: 0.3198 - accuracy: 0.9444\n",
            "Epoch 132/200\n",
            "3/3 [==============================] - 0s 7ms/step - loss: 0.3154 - accuracy: 0.9444\n",
            "Epoch 133/200\n",
            "3/3 [==============================] - 0s 7ms/step - loss: 0.3104 - accuracy: 0.9444\n",
            "Epoch 134/200\n",
            "3/3 [==============================] - 0s 7ms/step - loss: 0.3075 - accuracy: 0.9444\n",
            "Epoch 135/200\n",
            "3/3 [==============================] - 0s 9ms/step - loss: 0.3037 - accuracy: 0.9444\n",
            "Epoch 136/200\n",
            "3/3 [==============================] - 0s 7ms/step - loss: 0.2987 - accuracy: 0.9444\n",
            "Epoch 137/200\n",
            "3/3 [==============================] - 0s 8ms/step - loss: 0.2966 - accuracy: 0.9333\n",
            "Epoch 138/200\n",
            "3/3 [==============================] - 0s 8ms/step - loss: 0.2922 - accuracy: 0.9444\n",
            "Epoch 139/200\n",
            "3/3 [==============================] - 0s 8ms/step - loss: 0.2894 - accuracy: 0.9444\n",
            "Epoch 140/200\n",
            "3/3 [==============================] - 0s 7ms/step - loss: 0.2848 - accuracy: 0.9444\n",
            "Epoch 141/200\n",
            "3/3 [==============================] - 0s 7ms/step - loss: 0.2810 - accuracy: 0.9444\n",
            "Epoch 142/200\n",
            "3/3 [==============================] - 0s 8ms/step - loss: 0.2774 - accuracy: 0.9444\n",
            "Epoch 143/200\n",
            "3/3 [==============================] - 0s 7ms/step - loss: 0.2772 - accuracy: 0.9444\n",
            "Epoch 144/200\n",
            "3/3 [==============================] - 0s 7ms/step - loss: 0.2716 - accuracy: 0.9444\n",
            "Epoch 145/200\n",
            "3/3 [==============================] - 0s 6ms/step - loss: 0.2685 - accuracy: 0.9444\n",
            "Epoch 146/200\n",
            "3/3 [==============================] - 0s 7ms/step - loss: 0.2649 - accuracy: 0.9444\n",
            "Epoch 147/200\n",
            "3/3 [==============================] - 0s 9ms/step - loss: 0.2635 - accuracy: 0.9444\n",
            "Epoch 148/200\n",
            "3/3 [==============================] - 0s 8ms/step - loss: 0.2586 - accuracy: 0.9444\n",
            "Epoch 149/200\n",
            "3/3 [==============================] - 0s 7ms/step - loss: 0.2571 - accuracy: 0.9444\n",
            "Epoch 150/200\n",
            "3/3 [==============================] - 0s 8ms/step - loss: 0.2546 - accuracy: 0.9444\n",
            "Epoch 151/200\n",
            "3/3 [==============================] - 0s 8ms/step - loss: 0.2523 - accuracy: 0.9444\n",
            "Epoch 152/200\n",
            "3/3 [==============================] - 0s 7ms/step - loss: 0.2513 - accuracy: 0.9444\n",
            "Epoch 153/200\n",
            "3/3 [==============================] - 0s 7ms/step - loss: 0.2457 - accuracy: 0.9444\n",
            "Epoch 154/200\n",
            "3/3 [==============================] - 0s 9ms/step - loss: 0.2428 - accuracy: 0.9444\n",
            "Epoch 155/200\n",
            "3/3 [==============================] - 0s 7ms/step - loss: 0.2400 - accuracy: 0.9444\n",
            "Epoch 156/200\n",
            "3/3 [==============================] - 0s 8ms/step - loss: 0.2377 - accuracy: 0.9444\n",
            "Epoch 157/200\n",
            "3/3 [==============================] - 0s 8ms/step - loss: 0.2355 - accuracy: 0.9444\n",
            "Epoch 158/200\n",
            "3/3 [==============================] - 0s 7ms/step - loss: 0.2338 - accuracy: 0.9444\n",
            "Epoch 159/200\n",
            "3/3 [==============================] - 0s 7ms/step - loss: 0.2302 - accuracy: 0.9444\n",
            "Epoch 160/200\n",
            "3/3 [==============================] - 0s 8ms/step - loss: 0.2285 - accuracy: 0.9444\n",
            "Epoch 161/200\n",
            "3/3 [==============================] - 0s 8ms/step - loss: 0.2270 - accuracy: 0.9444\n",
            "Epoch 162/200\n",
            "3/3 [==============================] - 0s 7ms/step - loss: 0.2241 - accuracy: 0.9444\n",
            "Epoch 163/200\n",
            "3/3 [==============================] - 0s 8ms/step - loss: 0.2228 - accuracy: 0.9444\n",
            "Epoch 164/200\n",
            "3/3 [==============================] - 0s 10ms/step - loss: 0.2195 - accuracy: 0.9444\n",
            "Epoch 165/200\n",
            "3/3 [==============================] - 0s 9ms/step - loss: 0.2187 - accuracy: 0.9444\n",
            "Epoch 166/200\n",
            "3/3 [==============================] - 0s 8ms/step - loss: 0.2153 - accuracy: 0.9444\n",
            "Epoch 167/200\n",
            "3/3 [==============================] - 0s 7ms/step - loss: 0.2135 - accuracy: 0.9444\n",
            "Epoch 168/200\n",
            "3/3 [==============================] - 0s 7ms/step - loss: 0.2134 - accuracy: 0.9444\n",
            "Epoch 169/200\n",
            "3/3 [==============================] - 0s 7ms/step - loss: 0.2091 - accuracy: 0.9444\n",
            "Epoch 170/200\n",
            "3/3 [==============================] - 0s 7ms/step - loss: 0.2089 - accuracy: 0.9444\n",
            "Epoch 171/200\n",
            "3/3 [==============================] - 0s 8ms/step - loss: 0.2062 - accuracy: 0.9444\n",
            "Epoch 172/200\n",
            "3/3 [==============================] - 0s 7ms/step - loss: 0.2035 - accuracy: 0.9444\n",
            "Epoch 173/200\n",
            "3/3 [==============================] - 0s 8ms/step - loss: 0.2027 - accuracy: 0.9444\n",
            "Epoch 174/200\n",
            "3/3 [==============================] - 0s 7ms/step - loss: 0.2006 - accuracy: 0.9444\n",
            "Epoch 175/200\n",
            "3/3 [==============================] - 0s 7ms/step - loss: 0.1999 - accuracy: 0.9444\n",
            "Epoch 176/200\n",
            "3/3 [==============================] - 0s 7ms/step - loss: 0.1977 - accuracy: 0.9444\n",
            "Epoch 177/200\n",
            "3/3 [==============================] - 0s 8ms/step - loss: 0.1962 - accuracy: 0.9444\n",
            "Epoch 178/200\n",
            "3/3 [==============================] - 0s 7ms/step - loss: 0.1947 - accuracy: 0.9444\n",
            "Epoch 179/200\n",
            "3/3 [==============================] - 0s 7ms/step - loss: 0.1923 - accuracy: 0.9444\n",
            "Epoch 180/200\n",
            "3/3 [==============================] - 0s 10ms/step - loss: 0.1925 - accuracy: 0.9444\n",
            "Epoch 181/200\n",
            "3/3 [==============================] - 0s 7ms/step - loss: 0.1900 - accuracy: 0.9444\n",
            "Epoch 182/200\n",
            "3/3 [==============================] - 0s 7ms/step - loss: 0.1880 - accuracy: 0.9444\n",
            "Epoch 183/200\n",
            "3/3 [==============================] - 0s 7ms/step - loss: 0.1899 - accuracy: 0.9444\n",
            "Epoch 184/200\n",
            "3/3 [==============================] - 0s 7ms/step - loss: 0.1859 - accuracy: 0.9444\n",
            "Epoch 185/200\n",
            "3/3 [==============================] - 0s 7ms/step - loss: 0.1840 - accuracy: 0.9444\n",
            "Epoch 186/200\n",
            "3/3 [==============================] - 0s 6ms/step - loss: 0.1813 - accuracy: 0.9444\n",
            "Epoch 187/200\n",
            "3/3 [==============================] - 0s 8ms/step - loss: 0.1797 - accuracy: 0.9444\n",
            "Epoch 188/200\n",
            "3/3 [==============================] - 0s 7ms/step - loss: 0.1799 - accuracy: 0.9444\n",
            "Epoch 189/200\n",
            "3/3 [==============================] - 0s 6ms/step - loss: 0.1780 - accuracy: 0.9444\n",
            "Epoch 190/200\n",
            "3/3 [==============================] - 0s 7ms/step - loss: 0.1758 - accuracy: 0.9444\n",
            "Epoch 191/200\n",
            "3/3 [==============================] - 0s 7ms/step - loss: 0.1748 - accuracy: 0.9444\n",
            "Epoch 192/200\n",
            "3/3 [==============================] - 0s 7ms/step - loss: 0.1741 - accuracy: 0.9444\n",
            "Epoch 193/200\n",
            "3/3 [==============================] - 0s 7ms/step - loss: 0.1715 - accuracy: 0.9444\n",
            "Epoch 194/200\n",
            "3/3 [==============================] - 0s 7ms/step - loss: 0.1715 - accuracy: 0.9444\n",
            "Epoch 195/200\n",
            "3/3 [==============================] - 0s 8ms/step - loss: 0.1702 - accuracy: 0.9444\n",
            "Epoch 196/200\n",
            "3/3 [==============================] - 0s 7ms/step - loss: 0.1687 - accuracy: 0.9444\n",
            "Epoch 197/200\n",
            "3/3 [==============================] - 0s 7ms/step - loss: 0.1672 - accuracy: 0.9444\n",
            "Epoch 198/200\n",
            "3/3 [==============================] - 0s 7ms/step - loss: 0.1651 - accuracy: 0.9444\n",
            "Epoch 199/200\n",
            "3/3 [==============================] - 0s 9ms/step - loss: 0.1648 - accuracy: 0.9333\n",
            "Epoch 200/200\n",
            "3/3 [==============================] - 0s 9ms/step - loss: 0.1638 - accuracy: 0.9444\n"
          ]
        }
      ]
    },
    {
      "cell_type": "markdown",
      "source": [
        "## 16. Plotting accuracy and loss metrics"
      ],
      "metadata": {
        "id": "AFqE_tuSeUKU"
      }
    },
    {
      "cell_type": "code",
      "source": [
        "plt.plot(train.history['accuracy'],label='training set accuracy')\n",
        "plt.plot(train.history['loss'],label='training set loss')\n",
        "plt.legend()\n",
        "plt.savefig('plot6')"
      ],
      "metadata": {
        "colab": {
          "base_uri": "https://localhost:8080/",
          "height": 485
        },
        "id": "8M_buCFkkGoh",
        "outputId": "033058ce-167a-40cb-cb9a-096f9735e2e9"
      },
      "execution_count": 102,
      "outputs": [
        {
          "output_type": "display_data",
          "data": {
            "text/plain": [
              "<Figure size 792x576 with 1 Axes>"
            ],
            "image/png": "[encoded data removed]"
          },
          "metadata": {}
        }
      ]
    },
    {
      "cell_type": "markdown",
      "source": [
        "## 17. Predicting outputs from the trained model"
      ],
      "metadata": {
        "id": "393YOWPQef1k"
      }
    },
    {
      "cell_type": "code",
      "source": [
        "import random\n",
        "while True:\n",
        "  texts_p=[]\n",
        "  print(\"Jarvis here.....How may i entertain you???\")\n",
        "  given_input=input('You  :')\n",
        "  prediction_input=[letters.lower() for letters in given_input if letters not in string.punctuation]\n",
        "  prediction_input=''.join(prediction_input)\n",
        "  texts_p.append(prediction_input)\n",
        "  prediction_input=tokenizer.texts_to_sequences(texts_p)\n",
        "  prediction_input=np.array(prediction_input).reshape(-1)\n",
        "  prediction_input=pad_sequences([prediction_input],input_shape)\n",
        "  output=model.predict(prediction_input)\n",
        "  output=output.argmax()\n",
        "  response_tag=le.inverse_transform([output])[0]\n",
        "  print(\"Jarvis : \",random.choice(responses[response_tag]))\n",
        "  if given_input==\"bye\":\n",
        "    break"
      ],
      "metadata": {
        "colab": {
          "base_uri": "https://localhost:8080/"
        },
        "id": "kXDjg9hfkJxD",
        "outputId": "807b146a-9098-4752-e7a5-87310aa44158"
      },
      "execution_count": 71,
      "outputs": [
        {
          "output_type": "stream",
          "name": "stdout",
          "text": [
            "Jarvis here.....How may i entertain you???\n",
            "You  :hi\n",
            "Jarvis :  Welcome to the world of Jarvis\n",
            "Jarvis here.....How may i entertain you???\n",
            "You  :Thank you\n",
            "Jarvis :  The universe is too big\n",
            "Jarvis here.....How may i entertain you???\n",
            "You  :tell me something\n",
            "Jarvis :  Mighty king Solomon\n",
            "Jarvis here.....How may i entertain you???\n",
            "You  :king solomon was?\n",
            "Jarvis :  Thank you\n",
            "Jarvis here.....How may i entertain you???\n",
            "You  :ok i understand\n",
            "Jarvis :  Thank you\n",
            "Jarvis here.....How may i entertain you???\n",
            "You  :What do you know?\n",
            "Jarvis :  The China–Nepal border runs across its summit point\n",
            "Jarvis here.....How may i entertain you???\n",
            "You  :ok how do you know that?\n",
            "Jarvis :  situated in the Mahalangur Himal sub-range of the Himalayas\n",
            "Jarvis here.....How may i entertain you???\n",
            "You  :thats cool\n",
            "Jarvis :  We are lost\n",
            "Jarvis here.....How may i entertain you???\n",
            "You  :where?\n",
            "Jarvis :  Tchoumour Lancma\n",
            "Jarvis here.....How may i entertain you???\n",
            "You  :who was that?\n",
            "Jarvis :  Go take a short nap\n",
            "Jarvis here.....How may i entertain you???\n",
            "You  :why?\n",
            "Jarvis :  We are lost\n",
            "Jarvis here.....How may i entertain you???\n",
            "You  :ok dont get lost\n",
            "Jarvis :  Thank you\n",
            "Jarvis here.....How may i entertain you???\n",
            "You  :i am not sleepy at all\n",
            "Jarvis :  FAANGS and MAANGS\n",
            "Jarvis here.....How may i entertain you???\n",
            "You  :ok that was my part\n",
            "Jarvis :  We are lost\n",
            "Jarvis here.....How may i entertain you???\n",
            "You  :ok\n",
            "Jarvis :  Thank you\n",
            "Jarvis here.....How may i entertain you???\n",
            "You  :cool\n",
            "Jarvis :  We are lost\n",
            "Jarvis here.....How may i entertain you???\n",
            "You  :tell me a place u know\n",
            "Jarvis :  The Chinese mountaineering team of Wang Fuzhou, Gonpo, and Qu Yinhua made the first reported ascent of the peak\n",
            "Jarvis here.....How may i entertain you???\n",
            "You  :chinese people right\n",
            "Jarvis :  situated in the Mahalangur Himal sub-range of the Himalayas\n",
            "Jarvis here.....How may i entertain you???\n",
            "You  :himalayas?\n",
            "Jarvis :  We are lost\n",
            "Jarvis here.....How may i entertain you???\n",
            "You  :in the himalayas?\n",
            "Jarvis :  I am fine\n",
            "Jarvis here.....How may i entertain you???\n",
            "You  :ok but where?\n",
            "Jarvis :  Nepal did not allow foreigners to enter the country at the time\n",
            "Jarvis here.....How may i entertain you???\n",
            "You  :so who is lost?\n",
            "Jarvis :  Joking!\n",
            "Jarvis here.....How may i entertain you???\n",
            "You  :ok cool....lol\n",
            "Jarvis :  Thank you\n",
            "Jarvis here.....How may i entertain you???\n",
            "You  :mad person\n",
            "Jarvis :  Mount Everest attracts many climbers, including highly experienced mountaineers\n",
            "Jarvis here.....How may i entertain you???\n",
            "You  :ok thats a knowledge\n",
            "Jarvis :  The universe is too big\n",
            "Jarvis here.....How may i entertain you???\n",
            "You  :cool\n",
            "Jarvis :  Thank you\n",
            "Jarvis here.....How may i entertain you???\n",
            "You  :bye\n",
            "Jarvis :  Thank you\n"
          ]
        }
      ]
    }
  ]
}