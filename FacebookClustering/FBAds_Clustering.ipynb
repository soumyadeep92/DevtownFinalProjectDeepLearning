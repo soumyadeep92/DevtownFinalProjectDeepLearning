{
  "nbformat": 4,
  "nbformat_minor": 0,
  "metadata": {
    "colab": {
      "provenance": [],
      "collapsed_sections": []
    },
    "kernelspec": {
      "name": "python3",
      "display_name": "Python 3"
    },
    "language_info": {
      "name": "python"
    }
  },
  "cells": [
    {
      "cell_type": "markdown",
      "source": [
        "## Facebook Ads Clustering"
      ],
      "metadata": {
        "id": "KXOAgSt-NdG5"
      }
    },
    {
      "cell_type": "markdown",
      "source": [
        "## 1. Importing the libraries"
      ],
      "metadata": {
        "id": "i4MIR5qFNYWF"
      }
    },
    {
      "cell_type": "code",
      "execution_count": 1,
      "metadata": {
        "id": "qMYuN3K3lUdZ"
      },
      "outputs": [],
      "source": [
        "import pandas as pd\n",
        "import numpy as np\n",
        "from sklearn.cluster import KMeans\n",
        "from sklearn.preprocessing import MinMaxScaler\n",
        "from matplotlib import pyplot as plt\n",
        "%matplotlib inline\n",
        "import warnings\n",
        "warnings.filterwarnings(\"ignore\")\n",
        "import seaborn as sns"
      ]
    },
    {
      "cell_type": "markdown",
      "source": [
        "## 2. Importing the dataset and reading it"
      ],
      "metadata": {
        "id": "3D1kiJZINjzw"
      }
    },
    {
      "cell_type": "code",
      "source": [
        "df=pd.read_csv('/content/KAG_conversion_data.csv')\n",
        "df.head()"
      ],
      "metadata": {
        "colab": {
          "base_uri": "https://localhost:8080/",
          "height": 357
        },
        "id": "eoXtlTLTlnW_",
        "outputId": "2703e4b2-a185-41f0-a58e-f15a52a13a1c"
      },
      "execution_count": 2,
      "outputs": [
        {
          "output_type": "execute_result",
          "data": {
            "text/plain": [
              "    ad_id  xyz_campaign_id  fb_campaign_id    age gender  interest  \\\n",
              "0  708746              916          103916  30-34      M        15   \n",
              "1  708749              916          103917  30-34      M        16   \n",
              "2  708771              916          103920  30-34      M        20   \n",
              "3  708815              916          103928  30-34      M        28   \n",
              "4  708818              916          103928  30-34      M        28   \n",
              "\n",
              "   Impressions  Clicks  Spent  Total_Conversion  Approved_Conversion  \n",
              "0         7350       1   1.43                 2                    1  \n",
              "1        17861       2   1.82                 2                    0  \n",
              "2          693       0   0.00                 1                    0  \n",
              "3         4259       1   1.25                 1                    0  \n",
              "4         4133       1   1.29                 1                    1  "
            ],
            "text/html": [
              "\n",
              "  <div id=\"df-9ff33206-cfa9-44e5-8823-b677b1cb779b\">\n",
              "    <div class=\"colab-df-container\">\n",
              "      <div>\n",
              "<style scoped>\n",
              "    .dataframe tbody tr th:only-of-type {\n",
              "        vertical-align: middle;\n",
              "    }\n",
              "\n",
              "    .dataframe tbody tr th {\n",
              "        vertical-align: top;\n",
              "    }\n",
              "\n",
              "    .dataframe thead th {\n",
              "        text-align: right;\n",
              "    }\n",
              "</style>\n",
              "<table border=\"1\" class=\"dataframe\">\n",
              "  <thead>\n",
              "    <tr style=\"text-align: right;\">\n",
              "      <th></th>\n",
              "      <th>ad_id</th>\n",
              "      <th>xyz_campaign_id</th>\n",
              "      <th>fb_campaign_id</th>\n",
              "      <th>age</th>\n",
              "      <th>gender</th>\n",
              "      <th>interest</th>\n",
              "      <th>Impressions</th>\n",
              "      <th>Clicks</th>\n",
              "      <th>Spent</th>\n",
              "      <th>Total_Conversion</th>\n",
              "      <th>Approved_Conversion</th>\n",
              "    </tr>\n",
              "  </thead>\n",
              "  <tbody>\n",
              "    <tr>\n",
              "      <th>0</th>\n",
              "      <td>708746</td>\n",
              "      <td>916</td>\n",
              "      <td>103916</td>\n",
              "      <td>30-34</td>\n",
              "      <td>M</td>\n",
              "      <td>15</td>\n",
              "      <td>7350</td>\n",
              "      <td>1</td>\n",
              "      <td>1.43</td>\n",
              "      <td>2</td>\n",
              "      <td>1</td>\n",
              "    </tr>\n",
              "    <tr>\n",
              "      <th>1</th>\n",
              "      <td>708749</td>\n",
              "      <td>916</td>\n",
              "      <td>103917</td>\n",
              "      <td>30-34</td>\n",
              "      <td>M</td>\n",
              "      <td>16</td>\n",
              "      <td>17861</td>\n",
              "      <td>2</td>\n",
              "      <td>1.82</td>\n",
              "      <td>2</td>\n",
              "      <td>0</td>\n",
              "    </tr>\n",
              "    <tr>\n",
              "      <th>2</th>\n",
              "      <td>708771</td>\n",
              "      <td>916</td>\n",
              "      <td>103920</td>\n",
              "      <td>30-34</td>\n",
              "      <td>M</td>\n",
              "      <td>20</td>\n",
              "      <td>693</td>\n",
              "      <td>0</td>\n",
              "      <td>0.00</td>\n",
              "      <td>1</td>\n",
              "      <td>0</td>\n",
              "    </tr>\n",
              "    <tr>\n",
              "      <th>3</th>\n",
              "      <td>708815</td>\n",
              "      <td>916</td>\n",
              "      <td>103928</td>\n",
              "      <td>30-34</td>\n",
              "      <td>M</td>\n",
              "      <td>28</td>\n",
              "      <td>4259</td>\n",
              "      <td>1</td>\n",
              "      <td>1.25</td>\n",
              "      <td>1</td>\n",
              "      <td>0</td>\n",
              "    </tr>\n",
              "    <tr>\n",
              "      <th>4</th>\n",
              "      <td>708818</td>\n",
              "      <td>916</td>\n",
              "      <td>103928</td>\n",
              "      <td>30-34</td>\n",
              "      <td>M</td>\n",
              "      <td>28</td>\n",
              "      <td>4133</td>\n",
              "      <td>1</td>\n",
              "      <td>1.29</td>\n",
              "      <td>1</td>\n",
              "      <td>1</td>\n",
              "    </tr>\n",
              "  </tbody>\n",
              "</table>\n",
              "</div>\n",
              "      <button class=\"colab-df-convert\" onclick=\"convertToInteractive('df-9ff33206-cfa9-44e5-8823-b677b1cb779b')\"\n",
              "              title=\"Convert this dataframe to an interactive table.\"\n",
              "              style=\"display:none;\">\n",
              "        \n",
              "  <svg xmlns=\"http://www.w3.org/2000/svg\" height=\"24px\"viewBox=\"0 0 24 24\"\n",
              "       width=\"24px\">\n",
              "    <path d=\"M0 0h24v24H0V0z\" fill=\"none\"/>\n",
              "    <path d=\"M18.56 5.44l.94 2.06.94-2.06 2.06-.94-2.06-.94-.94-2.06-.94 2.06-2.06.94zm-11 1L8.5 8.5l.94-2.06 2.06-.94-2.06-.94L8.5 2.5l-.94 2.06-2.06.94zm10 10l.94 2.06.94-2.06 2.06-.94-2.06-.94-.94-2.06-.94 2.06-2.06.94z\"/><path d=\"M17.41 7.96l-1.37-1.37c-.4-.4-.92-.59-1.43-.59-.52 0-1.04.2-1.43.59L10.3 9.45l-7.72 7.72c-.78.78-.78 2.05 0 2.83L4 21.41c.39.39.9.59 1.41.59.51 0 1.02-.2 1.41-.59l7.78-7.78 2.81-2.81c.8-.78.8-2.07 0-2.86zM5.41 20L4 18.59l7.72-7.72 1.47 1.35L5.41 20z\"/>\n",
              "  </svg>\n",
              "      </button>\n",
              "      \n",
              "  <style>\n",
              "    .colab-df-container {\n",
              "      display:flex;\n",
              "      flex-wrap:wrap;\n",
              "      gap: 12px;\n",
              "    }\n",
              "\n",
              "    .colab-df-convert {\n",
              "      background-color: #E8F0FE;\n",
              "      border: none;\n",
              "      border-radius: 50%;\n",
              "      cursor: pointer;\n",
              "      display: none;\n",
              "      fill: #1967D2;\n",
              "      height: 32px;\n",
              "      padding: 0 0 0 0;\n",
              "      width: 32px;\n",
              "    }\n",
              "\n",
              "    .colab-df-convert:hover {\n",
              "      background-color: #E2EBFA;\n",
              "      box-shadow: 0px 1px 2px rgba(60, 64, 67, 0.3), 0px 1px 3px 1px rgba(60, 64, 67, 0.15);\n",
              "      fill: #174EA6;\n",
              "    }\n",
              "\n",
              "    [theme=dark] .colab-df-convert {\n",
              "      background-color: #3B4455;\n",
              "      fill: #D2E3FC;\n",
              "    }\n",
              "\n",
              "    [theme=dark] .colab-df-convert:hover {\n",
              "      background-color: #434B5C;\n",
              "      box-shadow: 0px 1px 3px 1px rgba(0, 0, 0, 0.15);\n",
              "      filter: drop-shadow(0px 1px 2px rgba(0, 0, 0, 0.3));\n",
              "      fill: #FFFFFF;\n",
              "    }\n",
              "  </style>\n",
              "\n",
              "      <script>\n",
              "        const buttonEl =\n",
              "          document.querySelector('#df-9ff33206-cfa9-44e5-8823-b677b1cb779b button.colab-df-convert');\n",
              "        buttonEl.style.display =\n",
              "          google.colab.kernel.accessAllowed ? 'block' : 'none';\n",
              "\n",
              "        async function convertToInteractive(key) {\n",
              "          const element = document.querySelector('#df-9ff33206-cfa9-44e5-8823-b677b1cb779b');\n",
              "          const dataTable =\n",
              "            await google.colab.kernel.invokeFunction('convertToInteractive',\n",
              "                                                     [key], {});\n",
              "          if (!dataTable) return;\n",
              "\n",
              "          const docLinkHtml = 'Like what you see? Visit the ' +\n",
              "            '<a target=\"_blank\" href=https://colab.research.google.com/notebooks/data_table.ipynb>data table notebook</a>'\n",
              "            + ' to learn more about interactive tables.';\n",
              "          element.innerHTML = '';\n",
              "          dataTable['output_type'] = 'display_data';\n",
              "          await google.colab.output.renderOutput(dataTable, element);\n",
              "          const docLink = document.createElement('div');\n",
              "          docLink.innerHTML = docLinkHtml;\n",
              "          element.appendChild(docLink);\n",
              "        }\n",
              "      </script>\n",
              "    </div>\n",
              "  </div>\n",
              "  "
            ]
          },
          "metadata": {},
          "execution_count": 2
        }
      ]
    },
    {
      "cell_type": "markdown",
      "source": [
        "## 3. Data Cleaning"
      ],
      "metadata": {
        "id": "vjUtP0FpNq81"
      }
    },
    {
      "cell_type": "code",
      "source": [
        "print(df['fb_campaign_id'].unique().shape)\n",
        "print(df['fb_campaign_id'].shape)"
      ],
      "metadata": {
        "colab": {
          "base_uri": "https://localhost:8080/"
        },
        "id": "tBqTa8trexr4",
        "outputId": "c019dd7e-b5e6-43fd-9fce-fca05965cbdc"
      },
      "execution_count": 3,
      "outputs": [
        {
          "output_type": "stream",
          "name": "stdout",
          "text": [
            "(691,)\n",
            "(1143,)\n"
          ]
        }
      ]
    },
    {
      "cell_type": "code",
      "source": [
        "campaign_arr=[]\n",
        "index_campaign=[]\n",
        "for i in df['fb_campaign_id'].unique():\n",
        "  campaign_arr.append(i)\n",
        "print(len(campaign_arr))\n",
        "j=0\n",
        "for i in range(len(df['fb_campaign_id'])):\n",
        "    if(df['fb_campaign_id'][i]==(campaign_arr[j])):\n",
        "      index_campaign.append(i)\n",
        "      j+=1\n",
        "print(len(index_campaign))"
      ],
      "metadata": {
        "colab": {
          "base_uri": "https://localhost:8080/"
        },
        "id": "HSaWAawffXqu",
        "outputId": "9357cb4e-0dd5-43da-ce08-69dd2a36b189"
      },
      "execution_count": 4,
      "outputs": [
        {
          "output_type": "stream",
          "name": "stdout",
          "text": [
            "691\n",
            "691\n"
          ]
        }
      ]
    },
    {
      "cell_type": "code",
      "source": [
        "interest_arr=[]\n",
        "impression_arr=[]\n",
        "age_arr=[]\n",
        "for i in index_campaign:\n",
        "  interest_arr.append(df['interest'][i])\n",
        "  impression_arr.append(df['Impressions'][i])\n",
        "  age_arr.append(df['age'][i])\n",
        "print(len(interest_arr))\n",
        "print(len(impression_arr))"
      ],
      "metadata": {
        "colab": {
          "base_uri": "https://localhost:8080/"
        },
        "id": "CRYX9u0Jio8N",
        "outputId": "3544961b-98ed-44d0-a6e3-8493416d19a0"
      },
      "execution_count": 5,
      "outputs": [
        {
          "output_type": "stream",
          "name": "stdout",
          "text": [
            "691\n",
            "691\n"
          ]
        }
      ]
    },
    {
      "cell_type": "markdown",
      "source": [
        "## 4. Preparing final dataframe"
      ],
      "metadata": {
        "id": "fPATuRdIN5Nk"
      }
    },
    {
      "cell_type": "code",
      "source": [
        "final_dataset=pd.DataFrame()\n",
        "final_dataset_cols=['Fb_Campaign_id','Age','Interest','Impressions']\n",
        "fin_ds=[campaign_arr,age_arr,interest_arr,impression_arr]\n",
        "for i in range(len(final_dataset_cols)):\n",
        "  final_dataset[final_dataset_cols[i]]=fin_ds[i]\n",
        "print(final_dataset)"
      ],
      "metadata": {
        "colab": {
          "base_uri": "https://localhost:8080/"
        },
        "id": "3Wzdirs0kCUM",
        "outputId": "8ec07741-52f3-44f6-a55d-67c7fd28ac68"
      },
      "execution_count": 6,
      "outputs": [
        {
          "output_type": "stream",
          "name": "stdout",
          "text": [
            "     Fb_Campaign_id    Age  Interest  Impressions\n",
            "0            103916  30-34        15         7350\n",
            "1            103917  30-34        16        17861\n",
            "2            103920  30-34        20          693\n",
            "3            103928  30-34        28         4259\n",
            "4            103929  30-34        29         1915\n",
            "..              ...    ...       ...          ...\n",
            "686          179977  45-49       109      1129773\n",
            "687          179978  45-49       110       637549\n",
            "688          179979  45-49       111       151531\n",
            "689          179981  45-49       113       790253\n",
            "690          179982  45-49       114       513161\n",
            "\n",
            "[691 rows x 4 columns]\n"
          ]
        }
      ]
    },
    {
      "cell_type": "markdown",
      "source": [
        "## 5. Data analysis and visualization"
      ],
      "metadata": {
        "id": "kudwVN1BN7XN"
      }
    },
    {
      "cell_type": "code",
      "source": [
        "plt.figure(figsize=(8,9))\n",
        "plt.imshow(np.array(final_dataset['Interest'][0:225]).reshape(15,15), cmap='viridis')\n",
        "plt.colorbar()\n",
        "plt.savefig('Plot 1')\n",
        "plt.show()"
      ],
      "metadata": {
        "colab": {
          "base_uri": "https://localhost:8080/",
          "height": 520
        },
        "id": "nEFwnP4sWi71",
        "outputId": "bb5e8986-96e4-4095-edf4-5caec8ad2fa1"
      },
      "execution_count": 7,
      "outputs": [
        {
          "output_type": "display_data",
          "data": {
            "text/plain": [
              "<Figure size 576x648 with 2 Axes>"
            ],
            "image/png": "[encoded data removed]"
          },
          "metadata": {
            "needs_background": "light"
          }
        }
      ]
    },
    {
      "cell_type": "code",
      "source": [
        "sns.displot(final_dataset['Impressions'],bins=20)\n",
        "sns.displot(df['Impressions'],bins=20)\n",
        "sns.displot(df['interest'],bins=20)\n",
        "sns.displot(final_dataset['Interest'],bins=20)\n",
        "plt.savefig('Plot 2')\n",
        "plt.show()"
      ],
      "metadata": {
        "colab": {
          "base_uri": "https://localhost:8080/",
          "height": 1000
        },
        "id": "i0LD8wOGdM06",
        "outputId": "87cc7031-afbf-43d4-8e10-691473d80728"
      },
      "execution_count": 8,
      "outputs": [
        {
          "output_type": "display_data",
          "data": {
            "text/plain": [
              "<Figure size 360x360 with 1 Axes>"
            ],
            "image/png": "[encoded data removed]"
          },
          "metadata": {
            "needs_background": "light"
          }
        },
        {
          "output_type": "display_data",
          "data": {
            "text/plain": [
              "<Figure size 360x360 with 1 Axes>"
            ],
            "image/png": "[encoded data removed]"
          },
          "metadata": {
            "needs_background": "light"
          }
        },
        {
          "output_type": "display_data",
          "data": {
            "text/plain": [
              "<Figure size 360x360 with 1 Axes>"
            ],
            "image/png": "[encoded data removed]"
          },
          "metadata": {
            "needs_background": "light"
          }
        },
        {
          "output_type": "display_data",
          "data": {
            "text/plain": [
              "<Figure size 360x360 with 1 Axes>"
            ],
            "image/png": "[encoded data removed]"
          },
          "metadata": {
            "needs_background": "light"
          }
        }
      ]
    },
    {
      "cell_type": "code",
      "source": [
        "plt.figure(figsize=(8,8))\n",
        "df['age'].value_counts().plot(kind='pie',autopct='%.2f%%',shadow=True,startangle=115)\n",
        "plt.savefig('Plot 3')\n",
        "plt.show()"
      ],
      "metadata": {
        "colab": {
          "base_uri": "https://localhost:8080/",
          "height": 466
        },
        "id": "yhog9Y_DfquC",
        "outputId": "4d5da5a7-27b1-4dca-9bc2-d760c24314fb"
      },
      "execution_count": 9,
      "outputs": [
        {
          "output_type": "display_data",
          "data": {
            "text/plain": [
              "<Figure size 576x576 with 1 Axes>"
            ],
            "image/png": "[encoded data removed]"
          },
          "metadata": {}
        }
      ]
    },
    {
      "cell_type": "code",
      "source": [
        "sns.histplot(data=df, x='age', hue='gender', binwidth=9, multiple='stack',palette='Pastel1').set_title('Age ditribution') \n",
        "plt.savefig('Plot 4')\n",
        "plt.show()"
      ],
      "metadata": {
        "colab": {
          "base_uri": "https://localhost:8080/",
          "height": 295
        },
        "id": "_toBKK1Nf-du",
        "outputId": "d7c24616-f417-4094-fe88-28b192a0b154"
      },
      "execution_count": 32,
      "outputs": [
        {
          "output_type": "display_data",
          "data": {
            "text/plain": [
              "<Figure size 432x288 with 1 Axes>"
            ],
            "image/png": "[encoded data removed]"
          },
          "metadata": {
            "needs_background": "light"
          }
        }
      ]
    },
    {
      "cell_type": "code",
      "source": [
        "plt.scatter(final_dataset['Interest'][0:690:10],final_dataset['Impressions'][0:690:10])\n",
        "plt.title('Scatter Plot for interest vs impressions')\n",
        "plt.xlabel('Interests')\n",
        "plt.ylabel('Impressions')\n",
        "plt.savefig('Plot 4')\n",
        "plt.show()"
      ],
      "metadata": {
        "colab": {
          "base_uri": "https://localhost:8080/",
          "height": 295
        },
        "id": "ePGaKXiomg28",
        "outputId": "7c746e77-555a-49a6-bfba-fd5e262b51bf"
      },
      "execution_count": 33,
      "outputs": [
        {
          "output_type": "display_data",
          "data": {
            "text/plain": [
              "<Figure size 432x288 with 1 Axes>"
            ],
            "image/png": "[encoded data removed]"
          },
          "metadata": {
            "needs_background": "light"
          }
        }
      ]
    },
    {
      "cell_type": "code",
      "source": [
        "sns.displot(x=\"Impressions\", data=df, kde=True, bins=20, color='brown')  \n",
        "plt.text(0, 28, 'Impressions', fontfamily='serif', fontsize=17, fontweight='bold')\n",
        "plt.savefig('Plot 5')\n",
        "plt.show()"
      ],
      "metadata": {
        "colab": {
          "base_uri": "https://localhost:8080/",
          "height": 369
        },
        "id": "Ha4BZn3GhY19",
        "outputId": "62dbfce5-788b-456d-aaf4-3e4c71217d61"
      },
      "execution_count": 34,
      "outputs": [
        {
          "output_type": "display_data",
          "data": {
            "text/plain": [
              "<Figure size 360x360 with 1 Axes>"
            ],
            "image/png": "[encoded data removed]"
          },
          "metadata": {
            "needs_background": "light"
          }
        }
      ]
    },
    {
      "cell_type": "code",
      "source": [
        "plt.figure(figsize=(25,8))\n",
        "ax = sns.violinplot(x=\"age\", y=\"interest\", hue=\"gender\",data=df, palette=\"Set2\", split=True,scale=\"count\", inner=\"quartile\")\n",
        "plt.savefig('Plot 6')\n",
        "plt.show()"
      ],
      "metadata": {
        "colab": {
          "base_uri": "https://localhost:8080/",
          "height": 329
        },
        "id": "G_2J37_FhpsU",
        "outputId": "59c59bc5-aa35-4947-f2ee-b650a7164136"
      },
      "execution_count": 35,
      "outputs": [
        {
          "output_type": "display_data",
          "data": {
            "text/plain": [
              "<Figure size 1800x576 with 1 Axes>"
            ],
            "image/png": "[encoded data removed]"
          },
          "metadata": {
            "needs_background": "light"
          }
        }
      ]
    },
    {
      "cell_type": "markdown",
      "source": [
        "## 6. KMeans Clustering with the dataset"
      ],
      "metadata": {
        "id": "IRHmBbPgOIkL"
      }
    },
    {
      "cell_type": "code",
      "source": [
        "print(final_dataset['Interest'][0:690:10].shape)"
      ],
      "metadata": {
        "colab": {
          "base_uri": "https://localhost:8080/"
        },
        "id": "S97D5bGopoUL",
        "outputId": "9a30b6d3-1462-4678-912d-4ad7a66e4221"
      },
      "execution_count": 36,
      "outputs": [
        {
          "output_type": "stream",
          "name": "stdout",
          "text": [
            "(69,)\n"
          ]
        }
      ]
    },
    {
      "cell_type": "code",
      "source": [
        "km=KMeans(n_clusters=3)\n",
        "km"
      ],
      "metadata": {
        "colab": {
          "base_uri": "https://localhost:8080/"
        },
        "id": "YbI149K_oGu3",
        "outputId": "90b788ef-9238-4929-ddc6-d84c228d17b5"
      },
      "execution_count": 37,
      "outputs": [
        {
          "output_type": "execute_result",
          "data": {
            "text/plain": [
              "KMeans(n_clusters=3)"
            ]
          },
          "metadata": {},
          "execution_count": 37
        }
      ]
    },
    {
      "cell_type": "code",
      "source": [
        "ds_inter_impr=pd.DataFrame()\n",
        "ds_inter_impr['Fb_Campaign_id']=final_dataset['Fb_Campaign_id'][0:690:10]\n",
        "ds_inter_impr['Age']=final_dataset['Age'][0:690:10]\n",
        "ds_inter_impr['Interest']=final_dataset['Interest'][0:690:10]\n",
        "ds_inter_impr['Impressions']=final_dataset['Impressions'][0:690:10]\n",
        "y_pred=km.fit_predict(ds_inter_impr[['Interest','Impressions']])\n",
        "y_pred"
      ],
      "metadata": {
        "colab": {
          "base_uri": "https://localhost:8080/"
        },
        "id": "b8D4ASLqosEP",
        "outputId": "118d6ebf-9557-40b2-f0cc-3eee097a063a"
      },
      "execution_count": 38,
      "outputs": [
        {
          "output_type": "execute_result",
          "data": {
            "text/plain": [
              "array([0, 0, 0, 0, 0, 0, 0, 0, 0, 0, 0, 0, 0, 0, 0, 0, 0, 0, 0, 0, 0, 2,\n",
              "       0, 0, 0, 0, 0, 0, 0, 0, 0, 0, 0, 0, 0, 0, 0, 0, 0, 0, 0, 0, 0, 2,\n",
              "       2, 2, 2, 2, 0, 2, 2, 2, 1, 2, 2, 1, 2, 1, 0, 1, 2, 2, 2, 2, 2, 1,\n",
              "       0, 1, 0], dtype=int32)"
            ]
          },
          "metadata": {},
          "execution_count": 38
        }
      ]
    },
    {
      "cell_type": "code",
      "source": [
        "ds_inter_impr['Clusters']=y_pred\n",
        "ds_inter_impr"
      ],
      "metadata": {
        "colab": {
          "base_uri": "https://localhost:8080/",
          "height": 424
        },
        "id": "KKYLPf3qpyvn",
        "outputId": "4a689913-c6a9-4e45-c48f-21a550e01d60"
      },
      "execution_count": 39,
      "outputs": [
        {
          "output_type": "execute_result",
          "data": {
            "text/plain": [
              "     Fb_Campaign_id    Age  Interest  Impressions  Clusters\n",
              "0            103916  30-34        15         7350         0\n",
              "10           103962  30-34         7          735         0\n",
              "20           104034  35-39         7          559         0\n",
              "30           104220  30-34        32         3091         0\n",
              "40           104287  35-39        27         5864         0\n",
              "..              ...    ...       ...          ...       ...\n",
              "640          179925  30-34       102       104496         2\n",
              "650          179935  30-34       112       699232         1\n",
              "660          179950  35-39       112        81569         0\n",
              "670          179960  40-44       107       877535         1\n",
              "680          179971  45-49       103        71982         0\n",
              "\n",
              "[69 rows x 5 columns]"
            ],
            "text/html": [
              "\n",
              "  <div id=\"df-ac20d4ea-ee77-47b9-aadb-642a174ce6c2\">\n",
              "    <div class=\"colab-df-container\">\n",
              "      <div>\n",
              "<style scoped>\n",
              "    .dataframe tbody tr th:only-of-type {\n",
              "        vertical-align: middle;\n",
              "    }\n",
              "\n",
              "    .dataframe tbody tr th {\n",
              "        vertical-align: top;\n",
              "    }\n",
              "\n",
              "    .dataframe thead th {\n",
              "        text-align: right;\n",
              "    }\n",
              "</style>\n",
              "<table border=\"1\" class=\"dataframe\">\n",
              "  <thead>\n",
              "    <tr style=\"text-align: right;\">\n",
              "      <th></th>\n",
              "      <th>Fb_Campaign_id</th>\n",
              "      <th>Age</th>\n",
              "      <th>Interest</th>\n",
              "      <th>Impressions</th>\n",
              "      <th>Clusters</th>\n",
              "    </tr>\n",
              "  </thead>\n",
              "  <tbody>\n",
              "    <tr>\n",
              "      <th>0</th>\n",
              "      <td>103916</td>\n",
              "      <td>30-34</td>\n",
              "      <td>15</td>\n",
              "      <td>7350</td>\n",
              "      <td>0</td>\n",
              "    </tr>\n",
              "    <tr>\n",
              "      <th>10</th>\n",
              "      <td>103962</td>\n",
              "      <td>30-34</td>\n",
              "      <td>7</td>\n",
              "      <td>735</td>\n",
              "      <td>0</td>\n",
              "    </tr>\n",
              "    <tr>\n",
              "      <th>20</th>\n",
              "      <td>104034</td>\n",
              "      <td>35-39</td>\n",
              "      <td>7</td>\n",
              "      <td>559</td>\n",
              "      <td>0</td>\n",
              "    </tr>\n",
              "    <tr>\n",
              "      <th>30</th>\n",
              "      <td>104220</td>\n",
              "      <td>30-34</td>\n",
              "      <td>32</td>\n",
              "      <td>3091</td>\n",
              "      <td>0</td>\n",
              "    </tr>\n",
              "    <tr>\n",
              "      <th>40</th>\n",
              "      <td>104287</td>\n",
              "      <td>35-39</td>\n",
              "      <td>27</td>\n",
              "      <td>5864</td>\n",
              "      <td>0</td>\n",
              "    </tr>\n",
              "    <tr>\n",
              "      <th>...</th>\n",
              "      <td>...</td>\n",
              "      <td>...</td>\n",
              "      <td>...</td>\n",
              "      <td>...</td>\n",
              "      <td>...</td>\n",
              "    </tr>\n",
              "    <tr>\n",
              "      <th>640</th>\n",
              "      <td>179925</td>\n",
              "      <td>30-34</td>\n",
              "      <td>102</td>\n",
              "      <td>104496</td>\n",
              "      <td>2</td>\n",
              "    </tr>\n",
              "    <tr>\n",
              "      <th>650</th>\n",
              "      <td>179935</td>\n",
              "      <td>30-34</td>\n",
              "      <td>112</td>\n",
              "      <td>699232</td>\n",
              "      <td>1</td>\n",
              "    </tr>\n",
              "    <tr>\n",
              "      <th>660</th>\n",
              "      <td>179950</td>\n",
              "      <td>35-39</td>\n",
              "      <td>112</td>\n",
              "      <td>81569</td>\n",
              "      <td>0</td>\n",
              "    </tr>\n",
              "    <tr>\n",
              "      <th>670</th>\n",
              "      <td>179960</td>\n",
              "      <td>40-44</td>\n",
              "      <td>107</td>\n",
              "      <td>877535</td>\n",
              "      <td>1</td>\n",
              "    </tr>\n",
              "    <tr>\n",
              "      <th>680</th>\n",
              "      <td>179971</td>\n",
              "      <td>45-49</td>\n",
              "      <td>103</td>\n",
              "      <td>71982</td>\n",
              "      <td>0</td>\n",
              "    </tr>\n",
              "  </tbody>\n",
              "</table>\n",
              "<p>69 rows × 5 columns</p>\n",
              "</div>\n",
              "      <button class=\"colab-df-convert\" onclick=\"convertToInteractive('df-ac20d4ea-ee77-47b9-aadb-642a174ce6c2')\"\n",
              "              title=\"Convert this dataframe to an interactive table.\"\n",
              "              style=\"display:none;\">\n",
              "        \n",
              "  <svg xmlns=\"http://www.w3.org/2000/svg\" height=\"24px\"viewBox=\"0 0 24 24\"\n",
              "       width=\"24px\">\n",
              "    <path d=\"M0 0h24v24H0V0z\" fill=\"none\"/>\n",
              "    <path d=\"M18.56 5.44l.94 2.06.94-2.06 2.06-.94-2.06-.94-.94-2.06-.94 2.06-2.06.94zm-11 1L8.5 8.5l.94-2.06 2.06-.94-2.06-.94L8.5 2.5l-.94 2.06-2.06.94zm10 10l.94 2.06.94-2.06 2.06-.94-2.06-.94-.94-2.06-.94 2.06-2.06.94z\"/><path d=\"M17.41 7.96l-1.37-1.37c-.4-.4-.92-.59-1.43-.59-.52 0-1.04.2-1.43.59L10.3 9.45l-7.72 7.72c-.78.78-.78 2.05 0 2.83L4 21.41c.39.39.9.59 1.41.59.51 0 1.02-.2 1.41-.59l7.78-7.78 2.81-2.81c.8-.78.8-2.07 0-2.86zM5.41 20L4 18.59l7.72-7.72 1.47 1.35L5.41 20z\"/>\n",
              "  </svg>\n",
              "      </button>\n",
              "      \n",
              "  <style>\n",
              "    .colab-df-container {\n",
              "      display:flex;\n",
              "      flex-wrap:wrap;\n",
              "      gap: 12px;\n",
              "    }\n",
              "\n",
              "    .colab-df-convert {\n",
              "      background-color: #E8F0FE;\n",
              "      border: none;\n",
              "      border-radius: 50%;\n",
              "      cursor: pointer;\n",
              "      display: none;\n",
              "      fill: #1967D2;\n",
              "      height: 32px;\n",
              "      padding: 0 0 0 0;\n",
              "      width: 32px;\n",
              "    }\n",
              "\n",
              "    .colab-df-convert:hover {\n",
              "      background-color: #E2EBFA;\n",
              "      box-shadow: 0px 1px 2px rgba(60, 64, 67, 0.3), 0px 1px 3px 1px rgba(60, 64, 67, 0.15);\n",
              "      fill: #174EA6;\n",
              "    }\n",
              "\n",
              "    [theme=dark] .colab-df-convert {\n",
              "      background-color: #3B4455;\n",
              "      fill: #D2E3FC;\n",
              "    }\n",
              "\n",
              "    [theme=dark] .colab-df-convert:hover {\n",
              "      background-color: #434B5C;\n",
              "      box-shadow: 0px 1px 3px 1px rgba(0, 0, 0, 0.15);\n",
              "      filter: drop-shadow(0px 1px 2px rgba(0, 0, 0, 0.3));\n",
              "      fill: #FFFFFF;\n",
              "    }\n",
              "  </style>\n",
              "\n",
              "      <script>\n",
              "        const buttonEl =\n",
              "          document.querySelector('#df-ac20d4ea-ee77-47b9-aadb-642a174ce6c2 button.colab-df-convert');\n",
              "        buttonEl.style.display =\n",
              "          google.colab.kernel.accessAllowed ? 'block' : 'none';\n",
              "\n",
              "        async function convertToInteractive(key) {\n",
              "          const element = document.querySelector('#df-ac20d4ea-ee77-47b9-aadb-642a174ce6c2');\n",
              "          const dataTable =\n",
              "            await google.colab.kernel.invokeFunction('convertToInteractive',\n",
              "                                                     [key], {});\n",
              "          if (!dataTable) return;\n",
              "\n",
              "          const docLinkHtml = 'Like what you see? Visit the ' +\n",
              "            '<a target=\"_blank\" href=https://colab.research.google.com/notebooks/data_table.ipynb>data table notebook</a>'\n",
              "            + ' to learn more about interactive tables.';\n",
              "          element.innerHTML = '';\n",
              "          dataTable['output_type'] = 'display_data';\n",
              "          await google.colab.output.renderOutput(dataTable, element);\n",
              "          const docLink = document.createElement('div');\n",
              "          docLink.innerHTML = docLinkHtml;\n",
              "          element.appendChild(docLink);\n",
              "        }\n",
              "      </script>\n",
              "    </div>\n",
              "  </div>\n",
              "  "
            ]
          },
          "metadata": {},
          "execution_count": 39
        }
      ]
    },
    {
      "cell_type": "markdown",
      "source": [
        "## 7. Plotting the unbaised cluster"
      ],
      "metadata": {
        "id": "8J5JCAILORmd"
      }
    },
    {
      "cell_type": "code",
      "source": [
        "df0=ds_inter_impr[ds_inter_impr.Clusters==0]\n",
        "df1=ds_inter_impr[ds_inter_impr.Clusters==1]\n",
        "df2=ds_inter_impr[ds_inter_impr.Clusters==2]"
      ],
      "metadata": {
        "id": "faAsA-SgqE9-"
      },
      "execution_count": 40,
      "outputs": []
    },
    {
      "cell_type": "code",
      "source": [
        "plt.scatter(df0['Interest'],df0['Impressions'],color='red')\n",
        "plt.scatter(df1['Interest'],df1['Impressions'],color='green')\n",
        "plt.scatter(df2['Interest'],df2['Impressions'],color='blue')\n",
        "plt.title('Scatter Plot for interest vs impressions')\n",
        "plt.xlabel('Interests')\n",
        "plt.ylabel('Impressions')\n",
        "plt.legend(labels=('Cluster 1','Cluster 2','Cluster 3'),loc='upper left')\n",
        "plt.savefig('Plot 7')\n",
        "plt.show()"
      ],
      "metadata": {
        "colab": {
          "base_uri": "https://localhost:8080/",
          "height": 295
        },
        "id": "G-DdnqmCqi-d",
        "outputId": "11afd2f0-1fe2-487b-abdc-915e8a63d5da"
      },
      "execution_count": 41,
      "outputs": [
        {
          "output_type": "display_data",
          "data": {
            "text/plain": [
              "<Figure size 432x288 with 1 Axes>"
            ],
            "image/png": "[encoded data removed]"
          },
          "metadata": {
            "needs_background": "light"
          }
        }
      ]
    },
    {
      "cell_type": "markdown",
      "source": [
        "## 8. Scaling Data using MinMax"
      ],
      "metadata": {
        "id": "2OJfseRnOYgk"
      }
    },
    {
      "cell_type": "code",
      "source": [
        "scaler=MinMaxScaler()\n",
        "scaler.fit(ds_inter_impr[['Impressions']])\n",
        "ds_inter_impr['Impressions']=scaler.transform(ds_inter_impr[['Impressions']])\n",
        "scaler.fit(ds_inter_impr[['Interest']])\n",
        "ds_inter_impr['Interest']=scaler.transform(ds_inter_impr[['Interest']])"
      ],
      "metadata": {
        "id": "o3R3J9Mprz3Z"
      },
      "execution_count": 42,
      "outputs": []
    },
    {
      "cell_type": "code",
      "source": [
        "ds_inter_impr"
      ],
      "metadata": {
        "colab": {
          "base_uri": "https://localhost:8080/",
          "height": 424
        },
        "id": "a9YOontEPked",
        "outputId": "c0bae7e9-0fbf-4de1-94e9-e173f0c6c382"
      },
      "execution_count": 43,
      "outputs": [
        {
          "output_type": "execute_result",
          "data": {
            "text/plain": [
              "     Fb_Campaign_id    Age  Interest  Impressions  Clusters\n",
              "0            103916  30-34  0.076190     0.006287         0\n",
              "10           103962  30-34  0.000000     0.000260         0\n",
              "20           104034  35-39  0.000000     0.000099         0\n",
              "30           104220  30-34  0.238095     0.002406         0\n",
              "40           104287  35-39  0.190476     0.004933         0\n",
              "..              ...    ...       ...          ...       ...\n",
              "640          179925  30-34  0.904762     0.094801         2\n",
              "650          179935  30-34  1.000000     0.636694         1\n",
              "660          179950  35-39  1.000000     0.073911         0\n",
              "670          179960  40-44  0.952381     0.799155         1\n",
              "680          179971  45-49  0.914286     0.065176         0\n",
              "\n",
              "[69 rows x 5 columns]"
            ],
            "text/html": [
              "\n",
              "  <div id=\"df-ceef5491-6509-443b-a56f-3a8380d47c53\">\n",
              "    <div class=\"colab-df-container\">\n",
              "      <div>\n",
              "<style scoped>\n",
              "    .dataframe tbody tr th:only-of-type {\n",
              "        vertical-align: middle;\n",
              "    }\n",
              "\n",
              "    .dataframe tbody tr th {\n",
              "        vertical-align: top;\n",
              "    }\n",
              "\n",
              "    .dataframe thead th {\n",
              "        text-align: right;\n",
              "    }\n",
              "</style>\n",
              "<table border=\"1\" class=\"dataframe\">\n",
              "  <thead>\n",
              "    <tr style=\"text-align: right;\">\n",
              "      <th></th>\n",
              "      <th>Fb_Campaign_id</th>\n",
              "      <th>Age</th>\n",
              "      <th>Interest</th>\n",
              "      <th>Impressions</th>\n",
              "      <th>Clusters</th>\n",
              "    </tr>\n",
              "  </thead>\n",
              "  <tbody>\n",
              "    <tr>\n",
              "      <th>0</th>\n",
              "      <td>103916</td>\n",
              "      <td>30-34</td>\n",
              "      <td>0.076190</td>\n",
              "      <td>0.006287</td>\n",
              "      <td>0</td>\n",
              "    </tr>\n",
              "    <tr>\n",
              "      <th>10</th>\n",
              "      <td>103962</td>\n",
              "      <td>30-34</td>\n",
              "      <td>0.000000</td>\n",
              "      <td>0.000260</td>\n",
              "      <td>0</td>\n",
              "    </tr>\n",
              "    <tr>\n",
              "      <th>20</th>\n",
              "      <td>104034</td>\n",
              "      <td>35-39</td>\n",
              "      <td>0.000000</td>\n",
              "      <td>0.000099</td>\n",
              "      <td>0</td>\n",
              "    </tr>\n",
              "    <tr>\n",
              "      <th>30</th>\n",
              "      <td>104220</td>\n",
              "      <td>30-34</td>\n",
              "      <td>0.238095</td>\n",
              "      <td>0.002406</td>\n",
              "      <td>0</td>\n",
              "    </tr>\n",
              "    <tr>\n",
              "      <th>40</th>\n",
              "      <td>104287</td>\n",
              "      <td>35-39</td>\n",
              "      <td>0.190476</td>\n",
              "      <td>0.004933</td>\n",
              "      <td>0</td>\n",
              "    </tr>\n",
              "    <tr>\n",
              "      <th>...</th>\n",
              "      <td>...</td>\n",
              "      <td>...</td>\n",
              "      <td>...</td>\n",
              "      <td>...</td>\n",
              "      <td>...</td>\n",
              "    </tr>\n",
              "    <tr>\n",
              "      <th>640</th>\n",
              "      <td>179925</td>\n",
              "      <td>30-34</td>\n",
              "      <td>0.904762</td>\n",
              "      <td>0.094801</td>\n",
              "      <td>2</td>\n",
              "    </tr>\n",
              "    <tr>\n",
              "      <th>650</th>\n",
              "      <td>179935</td>\n",
              "      <td>30-34</td>\n",
              "      <td>1.000000</td>\n",
              "      <td>0.636694</td>\n",
              "      <td>1</td>\n",
              "    </tr>\n",
              "    <tr>\n",
              "      <th>660</th>\n",
              "      <td>179950</td>\n",
              "      <td>35-39</td>\n",
              "      <td>1.000000</td>\n",
              "      <td>0.073911</td>\n",
              "      <td>0</td>\n",
              "    </tr>\n",
              "    <tr>\n",
              "      <th>670</th>\n",
              "      <td>179960</td>\n",
              "      <td>40-44</td>\n",
              "      <td>0.952381</td>\n",
              "      <td>0.799155</td>\n",
              "      <td>1</td>\n",
              "    </tr>\n",
              "    <tr>\n",
              "      <th>680</th>\n",
              "      <td>179971</td>\n",
              "      <td>45-49</td>\n",
              "      <td>0.914286</td>\n",
              "      <td>0.065176</td>\n",
              "      <td>0</td>\n",
              "    </tr>\n",
              "  </tbody>\n",
              "</table>\n",
              "<p>69 rows × 5 columns</p>\n",
              "</div>\n",
              "      <button class=\"colab-df-convert\" onclick=\"convertToInteractive('df-ceef5491-6509-443b-a56f-3a8380d47c53')\"\n",
              "              title=\"Convert this dataframe to an interactive table.\"\n",
              "              style=\"display:none;\">\n",
              "        \n",
              "  <svg xmlns=\"http://www.w3.org/2000/svg\" height=\"24px\"viewBox=\"0 0 24 24\"\n",
              "       width=\"24px\">\n",
              "    <path d=\"M0 0h24v24H0V0z\" fill=\"none\"/>\n",
              "    <path d=\"M18.56 5.44l.94 2.06.94-2.06 2.06-.94-2.06-.94-.94-2.06-.94 2.06-2.06.94zm-11 1L8.5 8.5l.94-2.06 2.06-.94-2.06-.94L8.5 2.5l-.94 2.06-2.06.94zm10 10l.94 2.06.94-2.06 2.06-.94-2.06-.94-.94-2.06-.94 2.06-2.06.94z\"/><path d=\"M17.41 7.96l-1.37-1.37c-.4-.4-.92-.59-1.43-.59-.52 0-1.04.2-1.43.59L10.3 9.45l-7.72 7.72c-.78.78-.78 2.05 0 2.83L4 21.41c.39.39.9.59 1.41.59.51 0 1.02-.2 1.41-.59l7.78-7.78 2.81-2.81c.8-.78.8-2.07 0-2.86zM5.41 20L4 18.59l7.72-7.72 1.47 1.35L5.41 20z\"/>\n",
              "  </svg>\n",
              "      </button>\n",
              "      \n",
              "  <style>\n",
              "    .colab-df-container {\n",
              "      display:flex;\n",
              "      flex-wrap:wrap;\n",
              "      gap: 12px;\n",
              "    }\n",
              "\n",
              "    .colab-df-convert {\n",
              "      background-color: #E8F0FE;\n",
              "      border: none;\n",
              "      border-radius: 50%;\n",
              "      cursor: pointer;\n",
              "      display: none;\n",
              "      fill: #1967D2;\n",
              "      height: 32px;\n",
              "      padding: 0 0 0 0;\n",
              "      width: 32px;\n",
              "    }\n",
              "\n",
              "    .colab-df-convert:hover {\n",
              "      background-color: #E2EBFA;\n",
              "      box-shadow: 0px 1px 2px rgba(60, 64, 67, 0.3), 0px 1px 3px 1px rgba(60, 64, 67, 0.15);\n",
              "      fill: #174EA6;\n",
              "    }\n",
              "\n",
              "    [theme=dark] .colab-df-convert {\n",
              "      background-color: #3B4455;\n",
              "      fill: #D2E3FC;\n",
              "    }\n",
              "\n",
              "    [theme=dark] .colab-df-convert:hover {\n",
              "      background-color: #434B5C;\n",
              "      box-shadow: 0px 1px 3px 1px rgba(0, 0, 0, 0.15);\n",
              "      filter: drop-shadow(0px 1px 2px rgba(0, 0, 0, 0.3));\n",
              "      fill: #FFFFFF;\n",
              "    }\n",
              "  </style>\n",
              "\n",
              "      <script>\n",
              "        const buttonEl =\n",
              "          document.querySelector('#df-ceef5491-6509-443b-a56f-3a8380d47c53 button.colab-df-convert');\n",
              "        buttonEl.style.display =\n",
              "          google.colab.kernel.accessAllowed ? 'block' : 'none';\n",
              "\n",
              "        async function convertToInteractive(key) {\n",
              "          const element = document.querySelector('#df-ceef5491-6509-443b-a56f-3a8380d47c53');\n",
              "          const dataTable =\n",
              "            await google.colab.kernel.invokeFunction('convertToInteractive',\n",
              "                                                     [key], {});\n",
              "          if (!dataTable) return;\n",
              "\n",
              "          const docLinkHtml = 'Like what you see? Visit the ' +\n",
              "            '<a target=\"_blank\" href=https://colab.research.google.com/notebooks/data_table.ipynb>data table notebook</a>'\n",
              "            + ' to learn more about interactive tables.';\n",
              "          element.innerHTML = '';\n",
              "          dataTable['output_type'] = 'display_data';\n",
              "          await google.colab.output.renderOutput(dataTable, element);\n",
              "          const docLink = document.createElement('div');\n",
              "          docLink.innerHTML = docLinkHtml;\n",
              "          element.appendChild(docLink);\n",
              "        }\n",
              "      </script>\n",
              "    </div>\n",
              "  </div>\n",
              "  "
            ]
          },
          "metadata": {},
          "execution_count": 43
        }
      ]
    },
    {
      "cell_type": "markdown",
      "source": [
        "## 9. Preparing final KMeans cluster for biasing the data"
      ],
      "metadata": {
        "id": "nl0XIOhTOfyE"
      }
    },
    {
      "cell_type": "code",
      "source": [
        "km=KMeans(n_clusters=3)\n",
        "y_pred=km.fit_predict(ds_inter_impr[['Interest','Impressions']])\n",
        "y_pred"
      ],
      "metadata": {
        "colab": {
          "base_uri": "https://localhost:8080/"
        },
        "id": "nCaXlbk2uGBr",
        "outputId": "c246ee78-21da-4659-968e-5ac4443e98d6"
      },
      "execution_count": 44,
      "outputs": [
        {
          "output_type": "execute_result",
          "data": {
            "text/plain": [
              "array([0, 0, 0, 0, 0, 0, 0, 0, 0, 1, 0, 0, 0, 0, 0, 0, 1, 0, 0, 0, 0, 0,\n",
              "       1, 0, 0, 0, 0, 0, 0, 1, 0, 0, 0, 0, 0, 0, 0, 0, 0, 0, 0, 0, 0, 0,\n",
              "       0, 0, 1, 0, 0, 0, 0, 0, 2, 1, 0, 2, 0, 2, 0, 2, 1, 1, 1, 1, 1, 2,\n",
              "       1, 2, 1], dtype=int32)"
            ]
          },
          "metadata": {},
          "execution_count": 44
        }
      ]
    },
    {
      "cell_type": "code",
      "source": [
        "ds_inter_impr['Clusters']=y_pred\n",
        "ds_inter_impr"
      ],
      "metadata": {
        "colab": {
          "base_uri": "https://localhost:8080/",
          "height": 424
        },
        "id": "wlSzVNxguShr",
        "outputId": "f45d3780-d55d-4f48-f2c6-a7dd404aeae5"
      },
      "execution_count": 45,
      "outputs": [
        {
          "output_type": "execute_result",
          "data": {
            "text/plain": [
              "     Fb_Campaign_id    Age  Interest  Impressions  Clusters\n",
              "0            103916  30-34  0.076190     0.006287         0\n",
              "10           103962  30-34  0.000000     0.000260         0\n",
              "20           104034  35-39  0.000000     0.000099         0\n",
              "30           104220  30-34  0.238095     0.002406         0\n",
              "40           104287  35-39  0.190476     0.004933         0\n",
              "..              ...    ...       ...          ...       ...\n",
              "640          179925  30-34  0.904762     0.094801         1\n",
              "650          179935  30-34  1.000000     0.636694         2\n",
              "660          179950  35-39  1.000000     0.073911         1\n",
              "670          179960  40-44  0.952381     0.799155         2\n",
              "680          179971  45-49  0.914286     0.065176         1\n",
              "\n",
              "[69 rows x 5 columns]"
            ],
            "text/html": [
              "\n",
              "  <div id=\"df-3e4cf221-7f49-47c4-8c19-df1b7b033184\">\n",
              "    <div class=\"colab-df-container\">\n",
              "      <div>\n",
              "<style scoped>\n",
              "    .dataframe tbody tr th:only-of-type {\n",
              "        vertical-align: middle;\n",
              "    }\n",
              "\n",
              "    .dataframe tbody tr th {\n",
              "        vertical-align: top;\n",
              "    }\n",
              "\n",
              "    .dataframe thead th {\n",
              "        text-align: right;\n",
              "    }\n",
              "</style>\n",
              "<table border=\"1\" class=\"dataframe\">\n",
              "  <thead>\n",
              "    <tr style=\"text-align: right;\">\n",
              "      <th></th>\n",
              "      <th>Fb_Campaign_id</th>\n",
              "      <th>Age</th>\n",
              "      <th>Interest</th>\n",
              "      <th>Impressions</th>\n",
              "      <th>Clusters</th>\n",
              "    </tr>\n",
              "  </thead>\n",
              "  <tbody>\n",
              "    <tr>\n",
              "      <th>0</th>\n",
              "      <td>103916</td>\n",
              "      <td>30-34</td>\n",
              "      <td>0.076190</td>\n",
              "      <td>0.006287</td>\n",
              "      <td>0</td>\n",
              "    </tr>\n",
              "    <tr>\n",
              "      <th>10</th>\n",
              "      <td>103962</td>\n",
              "      <td>30-34</td>\n",
              "      <td>0.000000</td>\n",
              "      <td>0.000260</td>\n",
              "      <td>0</td>\n",
              "    </tr>\n",
              "    <tr>\n",
              "      <th>20</th>\n",
              "      <td>104034</td>\n",
              "      <td>35-39</td>\n",
              "      <td>0.000000</td>\n",
              "      <td>0.000099</td>\n",
              "      <td>0</td>\n",
              "    </tr>\n",
              "    <tr>\n",
              "      <th>30</th>\n",
              "      <td>104220</td>\n",
              "      <td>30-34</td>\n",
              "      <td>0.238095</td>\n",
              "      <td>0.002406</td>\n",
              "      <td>0</td>\n",
              "    </tr>\n",
              "    <tr>\n",
              "      <th>40</th>\n",
              "      <td>104287</td>\n",
              "      <td>35-39</td>\n",
              "      <td>0.190476</td>\n",
              "      <td>0.004933</td>\n",
              "      <td>0</td>\n",
              "    </tr>\n",
              "    <tr>\n",
              "      <th>...</th>\n",
              "      <td>...</td>\n",
              "      <td>...</td>\n",
              "      <td>...</td>\n",
              "      <td>...</td>\n",
              "      <td>...</td>\n",
              "    </tr>\n",
              "    <tr>\n",
              "      <th>640</th>\n",
              "      <td>179925</td>\n",
              "      <td>30-34</td>\n",
              "      <td>0.904762</td>\n",
              "      <td>0.094801</td>\n",
              "      <td>1</td>\n",
              "    </tr>\n",
              "    <tr>\n",
              "      <th>650</th>\n",
              "      <td>179935</td>\n",
              "      <td>30-34</td>\n",
              "      <td>1.000000</td>\n",
              "      <td>0.636694</td>\n",
              "      <td>2</td>\n",
              "    </tr>\n",
              "    <tr>\n",
              "      <th>660</th>\n",
              "      <td>179950</td>\n",
              "      <td>35-39</td>\n",
              "      <td>1.000000</td>\n",
              "      <td>0.073911</td>\n",
              "      <td>1</td>\n",
              "    </tr>\n",
              "    <tr>\n",
              "      <th>670</th>\n",
              "      <td>179960</td>\n",
              "      <td>40-44</td>\n",
              "      <td>0.952381</td>\n",
              "      <td>0.799155</td>\n",
              "      <td>2</td>\n",
              "    </tr>\n",
              "    <tr>\n",
              "      <th>680</th>\n",
              "      <td>179971</td>\n",
              "      <td>45-49</td>\n",
              "      <td>0.914286</td>\n",
              "      <td>0.065176</td>\n",
              "      <td>1</td>\n",
              "    </tr>\n",
              "  </tbody>\n",
              "</table>\n",
              "<p>69 rows × 5 columns</p>\n",
              "</div>\n",
              "      <button class=\"colab-df-convert\" onclick=\"convertToInteractive('df-3e4cf221-7f49-47c4-8c19-df1b7b033184')\"\n",
              "              title=\"Convert this dataframe to an interactive table.\"\n",
              "              style=\"display:none;\">\n",
              "        \n",
              "  <svg xmlns=\"http://www.w3.org/2000/svg\" height=\"24px\"viewBox=\"0 0 24 24\"\n",
              "       width=\"24px\">\n",
              "    <path d=\"M0 0h24v24H0V0z\" fill=\"none\"/>\n",
              "    <path d=\"M18.56 5.44l.94 2.06.94-2.06 2.06-.94-2.06-.94-.94-2.06-.94 2.06-2.06.94zm-11 1L8.5 8.5l.94-2.06 2.06-.94-2.06-.94L8.5 2.5l-.94 2.06-2.06.94zm10 10l.94 2.06.94-2.06 2.06-.94-2.06-.94-.94-2.06-.94 2.06-2.06.94z\"/><path d=\"M17.41 7.96l-1.37-1.37c-.4-.4-.92-.59-1.43-.59-.52 0-1.04.2-1.43.59L10.3 9.45l-7.72 7.72c-.78.78-.78 2.05 0 2.83L4 21.41c.39.39.9.59 1.41.59.51 0 1.02-.2 1.41-.59l7.78-7.78 2.81-2.81c.8-.78.8-2.07 0-2.86zM5.41 20L4 18.59l7.72-7.72 1.47 1.35L5.41 20z\"/>\n",
              "  </svg>\n",
              "      </button>\n",
              "      \n",
              "  <style>\n",
              "    .colab-df-container {\n",
              "      display:flex;\n",
              "      flex-wrap:wrap;\n",
              "      gap: 12px;\n",
              "    }\n",
              "\n",
              "    .colab-df-convert {\n",
              "      background-color: #E8F0FE;\n",
              "      border: none;\n",
              "      border-radius: 50%;\n",
              "      cursor: pointer;\n",
              "      display: none;\n",
              "      fill: #1967D2;\n",
              "      height: 32px;\n",
              "      padding: 0 0 0 0;\n",
              "      width: 32px;\n",
              "    }\n",
              "\n",
              "    .colab-df-convert:hover {\n",
              "      background-color: #E2EBFA;\n",
              "      box-shadow: 0px 1px 2px rgba(60, 64, 67, 0.3), 0px 1px 3px 1px rgba(60, 64, 67, 0.15);\n",
              "      fill: #174EA6;\n",
              "    }\n",
              "\n",
              "    [theme=dark] .colab-df-convert {\n",
              "      background-color: #3B4455;\n",
              "      fill: #D2E3FC;\n",
              "    }\n",
              "\n",
              "    [theme=dark] .colab-df-convert:hover {\n",
              "      background-color: #434B5C;\n",
              "      box-shadow: 0px 1px 3px 1px rgba(0, 0, 0, 0.15);\n",
              "      filter: drop-shadow(0px 1px 2px rgba(0, 0, 0, 0.3));\n",
              "      fill: #FFFFFF;\n",
              "    }\n",
              "  </style>\n",
              "\n",
              "      <script>\n",
              "        const buttonEl =\n",
              "          document.querySelector('#df-3e4cf221-7f49-47c4-8c19-df1b7b033184 button.colab-df-convert');\n",
              "        buttonEl.style.display =\n",
              "          google.colab.kernel.accessAllowed ? 'block' : 'none';\n",
              "\n",
              "        async function convertToInteractive(key) {\n",
              "          const element = document.querySelector('#df-3e4cf221-7f49-47c4-8c19-df1b7b033184');\n",
              "          const dataTable =\n",
              "            await google.colab.kernel.invokeFunction('convertToInteractive',\n",
              "                                                     [key], {});\n",
              "          if (!dataTable) return;\n",
              "\n",
              "          const docLinkHtml = 'Like what you see? Visit the ' +\n",
              "            '<a target=\"_blank\" href=https://colab.research.google.com/notebooks/data_table.ipynb>data table notebook</a>'\n",
              "            + ' to learn more about interactive tables.';\n",
              "          element.innerHTML = '';\n",
              "          dataTable['output_type'] = 'display_data';\n",
              "          await google.colab.output.renderOutput(dataTable, element);\n",
              "          const docLink = document.createElement('div');\n",
              "          docLink.innerHTML = docLinkHtml;\n",
              "          element.appendChild(docLink);\n",
              "        }\n",
              "      </script>\n",
              "    </div>\n",
              "  </div>\n",
              "  "
            ]
          },
          "metadata": {},
          "execution_count": 45
        }
      ]
    },
    {
      "cell_type": "code",
      "source": [
        "ds_inter_impr['Clusters'].unique()"
      ],
      "metadata": {
        "colab": {
          "base_uri": "https://localhost:8080/"
        },
        "id": "6XirKk7NWFmi",
        "outputId": "462ef2df-f1a5-4d42-e535-df2e0dc61cbc"
      },
      "execution_count": 46,
      "outputs": [
        {
          "output_type": "execute_result",
          "data": {
            "text/plain": [
              "array([0, 1, 2], dtype=int32)"
            ]
          },
          "metadata": {},
          "execution_count": 46
        }
      ]
    },
    {
      "cell_type": "code",
      "source": [
        "km.cluster_centers_"
      ],
      "metadata": {
        "colab": {
          "base_uri": "https://localhost:8080/"
        },
        "id": "YdoBmTOzuvS3",
        "outputId": "0f629031-7f13-4598-f2f2-013d29495fcf"
      },
      "execution_count": 47,
      "outputs": [
        {
          "output_type": "execute_result",
          "data": {
            "text/plain": [
              "array([[0.13580952, 0.04465201],\n",
              "       [0.75457875, 0.09233256],\n",
              "       [0.56666667, 0.73406082]])"
            ]
          },
          "metadata": {},
          "execution_count": 47
        }
      ]
    },
    {
      "cell_type": "code",
      "source": [
        "df0=ds_inter_impr[ds_inter_impr.Clusters==0]\n",
        "df1=ds_inter_impr[ds_inter_impr.Clusters==1]\n",
        "df2=ds_inter_impr[ds_inter_impr.Clusters==2]"
      ],
      "metadata": {
        "id": "h60yU6kEuhWu"
      },
      "execution_count": 48,
      "outputs": []
    },
    {
      "cell_type": "markdown",
      "source": [
        "## 10. Scatter plot with located centroids"
      ],
      "metadata": {
        "id": "3rVGeTJLOpkF"
      }
    },
    {
      "cell_type": "code",
      "source": [
        "plt.scatter(df0['Interest'],df0['Impressions'],color='red')\n",
        "plt.scatter(df1['Interest'],df1['Impressions'],color='green')\n",
        "plt.scatter(df2['Interest'],df2['Impressions'],color='blue')\n",
        "plt.scatter(km.cluster_centers_[:,0],km.cluster_centers_[:,1],marker='*',color='black',label='centroid')\n",
        "plt.title('Scatter Plot for interest vs impressions')\n",
        "plt.xlabel('Interests')\n",
        "plt.ylabel('Impressions')\n",
        "plt.legend(labels=('Cluster 1','Cluster 2','Cluster 3'),loc='upper left')\n",
        "plt.savefig('Plot 8')\n",
        "plt.show()"
      ],
      "metadata": {
        "colab": {
          "base_uri": "https://localhost:8080/",
          "height": 295
        },
        "id": "7DY9KiyxuhAc",
        "outputId": "33cd4960-8def-4671-cd0c-28b8350ab86a"
      },
      "execution_count": 49,
      "outputs": [
        {
          "output_type": "display_data",
          "data": {
            "text/plain": [
              "<Figure size 432x288 with 1 Axes>"
            ],
            "image/png": "[encoded data removed]"
          },
          "metadata": {
            "needs_background": "light"
          }
        }
      ]
    },
    {
      "cell_type": "markdown",
      "source": [
        "## 11. Finding and plotting Sum of squared error"
      ],
      "metadata": {
        "id": "xyKTPpctOwwz"
      }
    },
    {
      "cell_type": "code",
      "source": [
        "sse=[]\n",
        "for i in range(1,10):\n",
        "  km1=KMeans(n_clusters=i)\n",
        "  km1.fit(ds_inter_impr[['Interest','Impressions']])\n",
        "  sse.append(km1.inertia_)\n",
        "print(sse)"
      ],
      "metadata": {
        "colab": {
          "base_uri": "https://localhost:8080/"
        },
        "id": "kXLAqK22vmV0",
        "outputId": "9ed7f40c-39a6-49cf-ac92-ebe0f8f02a8d"
      },
      "execution_count": 50,
      "outputs": [
        {
          "output_type": "stream",
          "name": "stdout",
          "text": [
            "[8.872065172753558, 3.5873549631465695, 1.8648293771659974, 1.3414653519127484, 0.8397963087125083, 0.6386381090910626, 0.4747171230552123, 0.3270380378214336, 0.2615183498490762]\n"
          ]
        }
      ]
    },
    {
      "cell_type": "code",
      "source": [
        "plt.xlabel('Range')\n",
        "plt.ylabel('Sum of squared error')\n",
        "plt.plot(range(1,10),sse)\n",
        "plt.savefig('Plot 9')\n",
        "plt.show()"
      ],
      "metadata": {
        "colab": {
          "base_uri": "https://localhost:8080/",
          "height": 279
        },
        "id": "4rfZY8e6wJ8G",
        "outputId": "70ed84cd-0408-447a-dacf-9c4161feb193"
      },
      "execution_count": 51,
      "outputs": [
        {
          "output_type": "display_data",
          "data": {
            "text/plain": [
              "<Figure size 432x288 with 1 Axes>"
            ],
            "image/png": "[encoded data removed]"
          },
          "metadata": {
            "needs_background": "light"
          }
        }
      ]
    },
    {
      "cell_type": "markdown",
      "source": [
        "## 12. Final prediction and output"
      ],
      "metadata": {
        "id": "VZJhQ6XuO3rc"
      }
    },
    {
      "cell_type": "code",
      "source": [
        "pred_cluster=int(km.predict([[0.138762,0.8201]]))\n",
        "x_int=[i for i in ds_inter_impr['Interest'] if i<0.14 and i>0.13][0]\n",
        "x_imp=[j for j in ds_inter_impr['Impressions'] if j<0.80 and j>0.7][0]\n",
        "act_cluster=int(km.predict([[x_int,x_imp]]))\n",
        "print(x_int,x_imp)\n",
        "print(\"Actual cluster: \",act_cluster)\n",
        "print(\"Predicted cluster: \",pred_cluster)\n",
        "print(\"Thus the cluster belongs to::-> \")\n",
        "ser_int=[j for j in ds_inter_impr['Interest']]\n",
        "print(ser_int[67])\n",
        "x1_int=ser_int.index(x_int)\n",
        "ser_imp=[k for k in ds_inter_impr['Impressions']]\n",
        "x1_imp=ser_imp.index(x_imp)\n",
        "print(x1_int,x1_imp)\n",
        "# print(ds_inter_impr['Impressions'])\n",
        "print('Thus in this Fb Campaign the 18th predicted value of interest and the 67th predicted value of impressions in the dataset is with respect to Cluster 1 or Group 2\\n\\n')\n",
        "print('Result: ')\n",
        "print('1. Fb_Campaign_id :',ds_inter_impr['Fb_Campaign_id'][180],\n",
        "      '\\t2. Age :',ds_inter_impr['Age'][180],\n",
        "      '\\t3. Interest :',df['interest'][180],\n",
        "      '\\t4. Impressions :',df['Impressions'][180])\n",
        "print('1. Fb_Campaign_id :',ds_inter_impr['Fb_Campaign_id'][670],\n",
        "      '\\t2. Age :',ds_inter_impr['Age'][670],\n",
        "      '\\t3. Interest :',df['interest'][670],\n",
        "      '\\t4. Impressions :',df['Impressions'][670])\n",
        "print('\\n\\n\\n')"
      ],
      "metadata": {
        "colab": {
          "base_uri": "https://localhost:8080/"
        },
        "id": "WIa9A34bwebh",
        "outputId": "0338d2a2-6af4-4d2c-da85-6f0fb4d7059a"
      },
      "execution_count": 52,
      "outputs": [
        {
          "output_type": "stream",
          "name": "stdout",
          "text": [
            "0.13333333333333333 0.7991546364699922\n",
            "Actual cluster:  2\n",
            "Predicted cluster:  2\n",
            "Thus the cluster belongs to::-> \n",
            "0.9523809523809526\n",
            "18 67\n",
            "Thus in this Fb Campaign the 18th predicted value of interest and the 67th predicted value of impressions in the dataset is with respect to Cluster 1 or Group 2\n",
            "\n",
            "\n",
            "Result: \n",
            "1. Fb_Campaign_id : 115498 \t2. Age : 45-49 \t3. Interest : 27 \t4. Impressions : 1955\n",
            "1. Fb_Campaign_id : 179960 \t2. Age : 40-44 \t3. Interest : 29 \t4. Impressions : 59390\n",
            "\n",
            "\n",
            "\n",
            "\n"
          ]
        }
      ]
    },
    {
      "cell_type": "code",
      "source": [],
      "metadata": {
        "id": "oPolJRkcxV5p"
      },
      "execution_count": 30,
      "outputs": []
    }
  ]
}